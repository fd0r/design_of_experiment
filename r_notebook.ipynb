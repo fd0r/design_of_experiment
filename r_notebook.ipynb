{
 "cells": [
  {
   "cell_type": "markdown",
   "metadata": {},
   "source": [
    "Based on https://husson.github.io/img/transp_plan_con4.pdf\n",
    "# Imports"
   ]
  },
  {
   "cell_type": "code",
   "execution_count": 1,
   "metadata": {},
   "outputs": [
    {
     "name": "stderr",
     "output_type": "stream",
     "text": [
      "Warning message:\n",
      "\"package 'rsm' was built under R version 3.5.3\"\n"
     ]
    }
   ],
   "source": [
    "# install.packages(\"rsm\")\n",
    "library(rsm)"
   ]
  },
  {
   "cell_type": "markdown",
   "metadata": {},
   "source": [
    "# Central composite design"
   ]
  },
  {
   "cell_type": "code",
   "execution_count": 2,
   "metadata": {},
   "outputs": [],
   "source": [
    "plan <- ccd(2)"
   ]
  },
  {
   "cell_type": "code",
   "execution_count": 3,
   "metadata": {},
   "outputs": [
    {
     "data": {
      "text/html": [
       "<table>\n",
       "<caption>A coded.data: 16 × 5</caption>\n",
       "<thead>\n",
       "\t<tr><th scope=col>run.order</th><th scope=col>std.order</th><th scope=col>x1</th><th scope=col>x2</th><th scope=col>Block</th></tr>\n",
       "\t<tr><th scope=col>&lt;int&gt;</th><th scope=col>&lt;int&gt;</th><th scope=col>&lt;dbl&gt;</th><th scope=col>&lt;dbl&gt;</th><th scope=col>&lt;fct&gt;</th></tr>\n",
       "</thead>\n",
       "<tbody>\n",
       "\t<tr><td>1</td><td>7</td><td> 0.000000</td><td> 0.000000</td><td>1</td></tr>\n",
       "\t<tr><td>2</td><td>6</td><td> 0.000000</td><td> 0.000000</td><td>1</td></tr>\n",
       "\t<tr><td>3</td><td>1</td><td>-1.000000</td><td>-1.000000</td><td>1</td></tr>\n",
       "\t<tr><td>4</td><td>8</td><td> 0.000000</td><td> 0.000000</td><td>1</td></tr>\n",
       "\t<tr><td>5</td><td>4</td><td> 1.000000</td><td> 1.000000</td><td>1</td></tr>\n",
       "\t<tr><td>6</td><td>5</td><td> 0.000000</td><td> 0.000000</td><td>1</td></tr>\n",
       "\t<tr><td>7</td><td>2</td><td> 1.000000</td><td>-1.000000</td><td>1</td></tr>\n",
       "\t<tr><td>8</td><td>3</td><td>-1.000000</td><td> 1.000000</td><td>1</td></tr>\n",
       "\t<tr><td>1</td><td>3</td><td> 0.000000</td><td>-1.414214</td><td>2</td></tr>\n",
       "\t<tr><td>2</td><td>4</td><td> 0.000000</td><td> 1.414214</td><td>2</td></tr>\n",
       "\t<tr><td>3</td><td>5</td><td> 0.000000</td><td> 0.000000</td><td>2</td></tr>\n",
       "\t<tr><td>4</td><td>7</td><td> 0.000000</td><td> 0.000000</td><td>2</td></tr>\n",
       "\t<tr><td>5</td><td>1</td><td>-1.414214</td><td> 0.000000</td><td>2</td></tr>\n",
       "\t<tr><td>6</td><td>2</td><td> 1.414214</td><td> 0.000000</td><td>2</td></tr>\n",
       "\t<tr><td>7</td><td>6</td><td> 0.000000</td><td> 0.000000</td><td>2</td></tr>\n",
       "\t<tr><td>8</td><td>8</td><td> 0.000000</td><td> 0.000000</td><td>2</td></tr>\n",
       "</tbody>\n",
       "</table>\n"
      ],
      "text/latex": [
       "A coded.data: 16 × 5\n",
       "\\begin{tabular}{lllll}\n",
       " run.order & std.order & x1 & x2 & Block\\\\\n",
       " <int> & <int> & <dbl> & <dbl> & <fct>\\\\\n",
       "\\hline\n",
       "\t 1 & 7 &  0.000000 &  0.000000 & 1\\\\\n",
       "\t 2 & 6 &  0.000000 &  0.000000 & 1\\\\\n",
       "\t 3 & 1 & -1.000000 & -1.000000 & 1\\\\\n",
       "\t 4 & 8 &  0.000000 &  0.000000 & 1\\\\\n",
       "\t 5 & 4 &  1.000000 &  1.000000 & 1\\\\\n",
       "\t 6 & 5 &  0.000000 &  0.000000 & 1\\\\\n",
       "\t 7 & 2 &  1.000000 & -1.000000 & 1\\\\\n",
       "\t 8 & 3 & -1.000000 &  1.000000 & 1\\\\\n",
       "\t 1 & 3 &  0.000000 & -1.414214 & 2\\\\\n",
       "\t 2 & 4 &  0.000000 &  1.414214 & 2\\\\\n",
       "\t 3 & 5 &  0.000000 &  0.000000 & 2\\\\\n",
       "\t 4 & 7 &  0.000000 &  0.000000 & 2\\\\\n",
       "\t 5 & 1 & -1.414214 &  0.000000 & 2\\\\\n",
       "\t 6 & 2 &  1.414214 &  0.000000 & 2\\\\\n",
       "\t 7 & 6 &  0.000000 &  0.000000 & 2\\\\\n",
       "\t 8 & 8 &  0.000000 &  0.000000 & 2\\\\\n",
       "\\end{tabular}\n"
      ],
      "text/markdown": [
       "\n",
       "A coded.data: 16 × 5\n",
       "\n",
       "| run.order &lt;int&gt; | std.order &lt;int&gt; | x1 &lt;dbl&gt; | x2 &lt;dbl&gt; | Block &lt;fct&gt; |\n",
       "|---|---|---|---|---|\n",
       "| 1 | 7 |  0.000000 |  0.000000 | 1 |\n",
       "| 2 | 6 |  0.000000 |  0.000000 | 1 |\n",
       "| 3 | 1 | -1.000000 | -1.000000 | 1 |\n",
       "| 4 | 8 |  0.000000 |  0.000000 | 1 |\n",
       "| 5 | 4 |  1.000000 |  1.000000 | 1 |\n",
       "| 6 | 5 |  0.000000 |  0.000000 | 1 |\n",
       "| 7 | 2 |  1.000000 | -1.000000 | 1 |\n",
       "| 8 | 3 | -1.000000 |  1.000000 | 1 |\n",
       "| 1 | 3 |  0.000000 | -1.414214 | 2 |\n",
       "| 2 | 4 |  0.000000 |  1.414214 | 2 |\n",
       "| 3 | 5 |  0.000000 |  0.000000 | 2 |\n",
       "| 4 | 7 |  0.000000 |  0.000000 | 2 |\n",
       "| 5 | 1 | -1.414214 |  0.000000 | 2 |\n",
       "| 6 | 2 |  1.414214 |  0.000000 | 2 |\n",
       "| 7 | 6 |  0.000000 |  0.000000 | 2 |\n",
       "| 8 | 8 |  0.000000 |  0.000000 | 2 |\n",
       "\n"
      ],
      "text/plain": [
       "   run.order std.order x1        x2        Block\n",
       "1  1         7          0.000000  0.000000 1    \n",
       "2  2         6          0.000000  0.000000 1    \n",
       "3  3         1         -1.000000 -1.000000 1    \n",
       "4  4         8          0.000000  0.000000 1    \n",
       "5  5         4          1.000000  1.000000 1    \n",
       "6  6         5          0.000000  0.000000 1    \n",
       "7  7         2          1.000000 -1.000000 1    \n",
       "8  8         3         -1.000000  1.000000 1    \n",
       "9  1         3          0.000000 -1.414214 2    \n",
       "10 2         4          0.000000  1.414214 2    \n",
       "11 3         5          0.000000  0.000000 2    \n",
       "12 4         7          0.000000  0.000000 2    \n",
       "13 5         1         -1.414214  0.000000 2    \n",
       "14 6         2          1.414214  0.000000 2    \n",
       "15 7         6          0.000000  0.000000 2    \n",
       "16 8         8          0.000000  0.000000 2    "
      ]
     },
     "metadata": {},
     "output_type": "display_data"
    }
   ],
   "source": [
    "plan"
   ]
  },
  {
   "cell_type": "code",
   "execution_count": 4,
   "metadata": {},
   "outputs": [
    {
     "data": {
      "image/png": "[encoded data removed]",
      "text/plain": [
       "plot without title"
      ]
     },
     "metadata": {
      "image/png": {
       "height": 420,
       "width": 420
      },
      "text/plain": {
       "height": 420,
       "width": 420
      }
     },
     "output_type": "display_data"
    }
   ],
   "source": [
    "plot(plan$x1, plan$x2)"
   ]
  },
  {
   "cell_type": "code",
   "execution_count": 5,
   "metadata": {},
   "outputs": [],
   "source": [
    "X <- model.matrix(~x1+x2+I(x1^2)+I(x2^2)+I(x1*x2), data=plan)"
   ]
  },
  {
   "cell_type": "code",
   "execution_count": 6,
   "metadata": {},
   "outputs": [
    {
     "data": {
      "text/html": [
       "<table>\n",
       "<caption>A matrix: 6 × 6 of type dbl</caption>\n",
       "<thead>\n",
       "\t<tr><th></th><th scope=col>(Intercept)</th><th scope=col>x1</th><th scope=col>x2</th><th scope=col>I(x1^2)</th><th scope=col>I(x2^2)</th><th scope=col>I(x1 * x2)</th></tr>\n",
       "</thead>\n",
       "<tbody>\n",
       "\t<tr><th scope=row>(Intercept)</th><td>16</td><td>0</td><td>0</td><td> 8</td><td> 8</td><td>0</td></tr>\n",
       "\t<tr><th scope=row>x1</th><td> 0</td><td>8</td><td>0</td><td> 0</td><td> 0</td><td>0</td></tr>\n",
       "\t<tr><th scope=row>x2</th><td> 0</td><td>0</td><td>8</td><td> 0</td><td> 0</td><td>0</td></tr>\n",
       "\t<tr><th scope=row>I(x1^2)</th><td> 8</td><td>0</td><td>0</td><td>12</td><td> 4</td><td>0</td></tr>\n",
       "\t<tr><th scope=row>I(x2^2)</th><td> 8</td><td>0</td><td>0</td><td> 4</td><td>12</td><td>0</td></tr>\n",
       "\t<tr><th scope=row>I(x1 * x2)</th><td> 0</td><td>0</td><td>0</td><td> 0</td><td> 0</td><td>4</td></tr>\n",
       "</tbody>\n",
       "</table>\n"
      ],
      "text/latex": [
       "A matrix: 6 × 6 of type dbl\n",
       "\\begin{tabular}{r|llllll}\n",
       "  & (Intercept) & x1 & x2 & I(x1\\textasciicircum{}2) & I(x2\\textasciicircum{}2) & I(x1 * x2)\\\\\n",
       "\\hline\n",
       "\t(Intercept) & 16 & 0 & 0 &  8 &  8 & 0\\\\\n",
       "\tx1 &  0 & 8 & 0 &  0 &  0 & 0\\\\\n",
       "\tx2 &  0 & 0 & 8 &  0 &  0 & 0\\\\\n",
       "\tI(x1\\textasciicircum{}2) &  8 & 0 & 0 & 12 &  4 & 0\\\\\n",
       "\tI(x2\\textasciicircum{}2) &  8 & 0 & 0 &  4 & 12 & 0\\\\\n",
       "\tI(x1 * x2) &  0 & 0 & 0 &  0 &  0 & 4\\\\\n",
       "\\end{tabular}\n"
      ],
      "text/markdown": [
       "\n",
       "A matrix: 6 × 6 of type dbl\n",
       "\n",
       "| <!--/--> | (Intercept) | x1 | x2 | I(x1^2) | I(x2^2) | I(x1 * x2) |\n",
       "|---|---|---|---|---|---|---|\n",
       "| (Intercept) | 16 | 0 | 0 |  8 |  8 | 0 |\n",
       "| x1 |  0 | 8 | 0 |  0 |  0 | 0 |\n",
       "| x2 |  0 | 0 | 8 |  0 |  0 | 0 |\n",
       "| I(x1^2) |  8 | 0 | 0 | 12 |  4 | 0 |\n",
       "| I(x2^2) |  8 | 0 | 0 |  4 | 12 | 0 |\n",
       "| I(x1 * x2) |  0 | 0 | 0 |  0 |  0 | 4 |\n",
       "\n"
      ],
      "text/plain": [
       "            (Intercept) x1 x2 I(x1^2) I(x2^2) I(x1 * x2)\n",
       "(Intercept) 16          0  0   8       8      0         \n",
       "x1           0          8  0   0       0      0         \n",
       "x2           0          0  8   0       0      0         \n",
       "I(x1^2)      8          0  0  12       4      0         \n",
       "I(x2^2)      8          0  0   4      12      0         \n",
       "I(x1 * x2)   0          0  0   0       0      4         "
      ]
     },
     "metadata": {},
     "output_type": "display_data"
    }
   ],
   "source": [
    "t(X)%*%X"
   ]
  },
  {
   "cell_type": "code",
   "execution_count": 7,
   "metadata": {},
   "outputs": [
    {
     "data": {
      "text/html": [
       "<table>\n",
       "<caption>A matrix: 6 × 6 of type dbl</caption>\n",
       "<thead>\n",
       "\t<tr><th></th><th scope=col>(Intercept)</th><th scope=col>x1</th><th scope=col>x2</th><th scope=col>I(x1^2)</th><th scope=col>I(x2^2)</th><th scope=col>I(x1 * x2)</th></tr>\n",
       "</thead>\n",
       "<tbody>\n",
       "\t<tr><th scope=row>(Intercept)</th><td> 0.1250</td><td>0.000</td><td>0.000</td><td>-0.0625</td><td>-0.0625</td><td>0.00</td></tr>\n",
       "\t<tr><th scope=row>x1</th><td> 0.0000</td><td>0.125</td><td>0.000</td><td> 0.0000</td><td> 0.0000</td><td>0.00</td></tr>\n",
       "\t<tr><th scope=row>x2</th><td> 0.0000</td><td>0.000</td><td>0.125</td><td> 0.0000</td><td> 0.0000</td><td>0.00</td></tr>\n",
       "\t<tr><th scope=row>I(x1^2)</th><td>-0.0625</td><td>0.000</td><td>0.000</td><td> 0.1250</td><td> 0.0000</td><td>0.00</td></tr>\n",
       "\t<tr><th scope=row>I(x2^2)</th><td>-0.0625</td><td>0.000</td><td>0.000</td><td> 0.0000</td><td> 0.1250</td><td>0.00</td></tr>\n",
       "\t<tr><th scope=row>I(x1 * x2)</th><td> 0.0000</td><td>0.000</td><td>0.000</td><td> 0.0000</td><td> 0.0000</td><td>0.25</td></tr>\n",
       "</tbody>\n",
       "</table>\n"
      ],
      "text/latex": [
       "A matrix: 6 × 6 of type dbl\n",
       "\\begin{tabular}{r|llllll}\n",
       "  & (Intercept) & x1 & x2 & I(x1\\textasciicircum{}2) & I(x2\\textasciicircum{}2) & I(x1 * x2)\\\\\n",
       "\\hline\n",
       "\t(Intercept) &  0.1250 & 0.000 & 0.000 & -0.0625 & -0.0625 & 0.00\\\\\n",
       "\tx1 &  0.0000 & 0.125 & 0.000 &  0.0000 &  0.0000 & 0.00\\\\\n",
       "\tx2 &  0.0000 & 0.000 & 0.125 &  0.0000 &  0.0000 & 0.00\\\\\n",
       "\tI(x1\\textasciicircum{}2) & -0.0625 & 0.000 & 0.000 &  0.1250 &  0.0000 & 0.00\\\\\n",
       "\tI(x2\\textasciicircum{}2) & -0.0625 & 0.000 & 0.000 &  0.0000 &  0.1250 & 0.00\\\\\n",
       "\tI(x1 * x2) &  0.0000 & 0.000 & 0.000 &  0.0000 &  0.0000 & 0.25\\\\\n",
       "\\end{tabular}\n"
      ],
      "text/markdown": [
       "\n",
       "A matrix: 6 × 6 of type dbl\n",
       "\n",
       "| <!--/--> | (Intercept) | x1 | x2 | I(x1^2) | I(x2^2) | I(x1 * x2) |\n",
       "|---|---|---|---|---|---|---|\n",
       "| (Intercept) |  0.1250 | 0.000 | 0.000 | -0.0625 | -0.0625 | 0.00 |\n",
       "| x1 |  0.0000 | 0.125 | 0.000 |  0.0000 |  0.0000 | 0.00 |\n",
       "| x2 |  0.0000 | 0.000 | 0.125 |  0.0000 |  0.0000 | 0.00 |\n",
       "| I(x1^2) | -0.0625 | 0.000 | 0.000 |  0.1250 |  0.0000 | 0.00 |\n",
       "| I(x2^2) | -0.0625 | 0.000 | 0.000 |  0.0000 |  0.1250 | 0.00 |\n",
       "| I(x1 * x2) |  0.0000 | 0.000 | 0.000 |  0.0000 |  0.0000 | 0.25 |\n",
       "\n"
      ],
      "text/plain": [
       "            (Intercept) x1    x2    I(x1^2) I(x2^2) I(x1 * x2)\n",
       "(Intercept)  0.1250     0.000 0.000 -0.0625 -0.0625 0.00      \n",
       "x1           0.0000     0.125 0.000  0.0000  0.0000 0.00      \n",
       "x2           0.0000     0.000 0.125  0.0000  0.0000 0.00      \n",
       "I(x1^2)     -0.0625     0.000 0.000  0.1250  0.0000 0.00      \n",
       "I(x2^2)     -0.0625     0.000 0.000  0.0000  0.1250 0.00      \n",
       "I(x1 * x2)   0.0000     0.000 0.000  0.0000  0.0000 0.25      "
      ]
     },
     "metadata": {},
     "output_type": "display_data"
    }
   ],
   "source": [
    "solve(t(X)%*%X)"
   ]
  },
  {
   "cell_type": "code",
   "execution_count": null,
   "metadata": {},
   "outputs": [],
   "source": []
  },
  {
   "cell_type": "code",
   "execution_count": 8,
   "metadata": {},
   "outputs": [
    {
     "data": {
      "text/plain": [
       "\n",
       "Call:\n",
       "rsm(formula = Y ~ SO(x1, x2), data = plan)\n",
       "\n",
       "            Estimate Std. Error t value  Pr(>|t|)    \n",
       "(Intercept)  5.25000    0.65626  7.9999 1.178e-05 ***\n",
       "x1           1.08211    0.65626  1.6489    0.1302    \n",
       "x2           1.15533    0.65626  1.7605    0.1088    \n",
       "x1:x2        0.75000    0.92809  0.8081    0.4378    \n",
       "x1^2         0.87500    0.65626  1.3333    0.2120    \n",
       "x2^2        -0.87500    0.65626 -1.3333    0.2120    \n",
       "---\n",
       "Signif. codes:  0 '***' 0.001 '**' 0.01 '*' 0.05 '.' 0.1 ' ' 1\n",
       "\n",
       "Multiple R-squared:  0.5007,\tAdjusted R-squared:  0.251 \n",
       "F-statistic: 2.005 on 5 and 10 DF,  p-value: 0.1633\n",
       "\n",
       "Analysis of Variance Table\n",
       "\n",
       "Response: Y\n",
       "            Df Sum Sq Mean Sq F value Pr(>F)\n",
       "FO(x1, x2)   2 20.046 10.0230  2.9091 0.1010\n",
       "TWI(x1, x2)  1  2.250  2.2500  0.6530 0.4378\n",
       "PQ(x1, x2)   2 12.250  6.1250  1.7777 0.2185\n",
       "Residuals   10 34.454  3.4454               \n",
       "Lack of fit  3  0.954  0.3180  0.0665 0.9760\n",
       "Pure error   7 33.500  4.7857               \n",
       "\n",
       "Stationary point of response surface:\n",
       "        x1         x2 \n",
       "-0.7614302  0.3338614 \n",
       "\n",
       "Stationary point in original units:\n",
       "  x1.as.is   x2.as.is \n",
       "-0.7614302  0.3338614 \n",
       "\n",
       "Eigenanalysis:\n",
       "eigen() decomposition\n",
       "$values\n",
       "[1]  0.9519716 -0.9519716\n",
       "\n",
       "$vectors\n",
       "         [,1]       [,2]\n",
       "x1 -0.9795777 -0.2010659\n",
       "x2 -0.2010659  0.9795777\n",
       "\n"
      ]
     },
     "metadata": {},
     "output_type": "display_data"
    }
   ],
   "source": [
    "set.seed(1234)\n",
    "Y <- c(1,5,4,7,8,8,4,5,2,5,4,5,5,9,7,5)\n",
    "CR.rsm <- rsm(Y~SO(x1, x2), data=plan)\n",
    "summary(CR.rsm)"
   ]
  },
  {
   "cell_type": "code",
   "execution_count": 9,
   "metadata": {},
   "outputs": [
    {
     "data": {
      "image/png": "[encoded data removed]",
      "text/plain": [
       "plot without title"
      ]
     },
     "metadata": {
      "image/png": {
       "height": 420,
       "width": 420
      },
      "text/plain": {
       "height": 420,
       "width": 420
      }
     },
     "output_type": "display_data"
    }
   ],
   "source": [
    "contour(CR.rsm, ~x1+x2, image=TRUE)"
   ]
  },
  {
   "cell_type": "code",
   "execution_count": 10,
   "metadata": {},
   "outputs": [
    {
     "data": {
      "image/png": "[encoded data removed]",
      "text/plain": [
       "plot without title"
      ]
     },
     "metadata": {
      "image/png": {
       "height": 420,
       "width": 420
      },
      "text/plain": {
       "height": 420,
       "width": 420
      }
     },
     "output_type": "display_data"
    }
   ],
   "source": [
    "persp(CR.rsm, ~x1+x2, col=rainbow(50), contours=\"colors\")"
   ]
  },
  {
   "cell_type": "markdown",
   "metadata": {},
   "source": [
    "# Box-Benhken design"
   ]
  },
  {
   "cell_type": "code",
   "execution_count": 11,
   "metadata": {},
   "outputs": [],
   "source": [
    "benhken <- bbd(3)"
   ]
  },
  {
   "cell_type": "code",
   "execution_count": 12,
   "metadata": {},
   "outputs": [
    {
     "data": {
      "text/html": [
       "<table>\n",
       "<caption>A coded.data: 16 × 5</caption>\n",
       "<thead>\n",
       "\t<tr><th></th><th scope=col>run.order</th><th scope=col>std.order</th><th scope=col>x1</th><th scope=col>x2</th><th scope=col>x3</th></tr>\n",
       "\t<tr><th></th><th scope=col>&lt;int&gt;</th><th scope=col>&lt;int&gt;</th><th scope=col>&lt;dbl&gt;</th><th scope=col>&lt;dbl&gt;</th><th scope=col>&lt;dbl&gt;</th></tr>\n",
       "</thead>\n",
       "<tbody>\n",
       "\t<tr><th scope=row>1</th><td> 1</td><td> 7</td><td>-1</td><td> 0</td><td> 1</td></tr>\n",
       "\t<tr><th scope=row>2</th><td> 2</td><td> 1</td><td>-1</td><td>-1</td><td> 0</td></tr>\n",
       "\t<tr><th scope=row>3</th><td> 3</td><td> 8</td><td> 1</td><td> 0</td><td> 1</td></tr>\n",
       "\t<tr><th scope=row>4</th><td> 4</td><td>10</td><td> 0</td><td> 1</td><td>-1</td></tr>\n",
       "\t<tr><th scope=row>5</th><td> 5</td><td>11</td><td> 0</td><td>-1</td><td> 1</td></tr>\n",
       "\t<tr><th scope=row>6</th><td> 6</td><td> 9</td><td> 0</td><td>-1</td><td>-1</td></tr>\n",
       "\t<tr><th scope=row>7</th><td> 7</td><td>16</td><td> 0</td><td> 0</td><td> 0</td></tr>\n",
       "\t<tr><th scope=row>8</th><td> 8</td><td> 6</td><td> 1</td><td> 0</td><td>-1</td></tr>\n",
       "\t<tr><th scope=row>9</th><td> 9</td><td> 3</td><td>-1</td><td> 1</td><td> 0</td></tr>\n",
       "\t<tr><th scope=row>10</th><td>10</td><td> 2</td><td> 1</td><td>-1</td><td> 0</td></tr>\n",
       "\t<tr><th scope=row>11</th><td>11</td><td> 5</td><td>-1</td><td> 0</td><td>-1</td></tr>\n",
       "\t<tr><th scope=row>12</th><td>12</td><td>14</td><td> 0</td><td> 0</td><td> 0</td></tr>\n",
       "\t<tr><th scope=row>13</th><td>13</td><td>12</td><td> 0</td><td> 1</td><td> 1</td></tr>\n",
       "\t<tr><th scope=row>14</th><td>14</td><td> 4</td><td> 1</td><td> 1</td><td> 0</td></tr>\n",
       "\t<tr><th scope=row>15</th><td>15</td><td>15</td><td> 0</td><td> 0</td><td> 0</td></tr>\n",
       "\t<tr><th scope=row>16</th><td>16</td><td>13</td><td> 0</td><td> 0</td><td> 0</td></tr>\n",
       "</tbody>\n",
       "</table>\n"
      ],
      "text/latex": [
       "A coded.data: 16 × 5\n",
       "\\begin{tabular}{r|lllll}\n",
       "  & run.order & std.order & x1 & x2 & x3\\\\\n",
       "  & <int> & <int> & <dbl> & <dbl> & <dbl>\\\\\n",
       "\\hline\n",
       "\t1 &  1 &  7 & -1 &  0 &  1\\\\\n",
       "\t2 &  2 &  1 & -1 & -1 &  0\\\\\n",
       "\t3 &  3 &  8 &  1 &  0 &  1\\\\\n",
       "\t4 &  4 & 10 &  0 &  1 & -1\\\\\n",
       "\t5 &  5 & 11 &  0 & -1 &  1\\\\\n",
       "\t6 &  6 &  9 &  0 & -1 & -1\\\\\n",
       "\t7 &  7 & 16 &  0 &  0 &  0\\\\\n",
       "\t8 &  8 &  6 &  1 &  0 & -1\\\\\n",
       "\t9 &  9 &  3 & -1 &  1 &  0\\\\\n",
       "\t10 & 10 &  2 &  1 & -1 &  0\\\\\n",
       "\t11 & 11 &  5 & -1 &  0 & -1\\\\\n",
       "\t12 & 12 & 14 &  0 &  0 &  0\\\\\n",
       "\t13 & 13 & 12 &  0 &  1 &  1\\\\\n",
       "\t14 & 14 &  4 &  1 &  1 &  0\\\\\n",
       "\t15 & 15 & 15 &  0 &  0 &  0\\\\\n",
       "\t16 & 16 & 13 &  0 &  0 &  0\\\\\n",
       "\\end{tabular}\n"
      ],
      "text/markdown": [
       "\n",
       "A coded.data: 16 × 5\n",
       "\n",
       "| <!--/--> | run.order &lt;int&gt; | std.order &lt;int&gt; | x1 &lt;dbl&gt; | x2 &lt;dbl&gt; | x3 &lt;dbl&gt; |\n",
       "|---|---|---|---|---|---|\n",
       "| 1 |  1 |  7 | -1 |  0 |  1 |\n",
       "| 2 |  2 |  1 | -1 | -1 |  0 |\n",
       "| 3 |  3 |  8 |  1 |  0 |  1 |\n",
       "| 4 |  4 | 10 |  0 |  1 | -1 |\n",
       "| 5 |  5 | 11 |  0 | -1 |  1 |\n",
       "| 6 |  6 |  9 |  0 | -1 | -1 |\n",
       "| 7 |  7 | 16 |  0 |  0 |  0 |\n",
       "| 8 |  8 |  6 |  1 |  0 | -1 |\n",
       "| 9 |  9 |  3 | -1 |  1 |  0 |\n",
       "| 10 | 10 |  2 |  1 | -1 |  0 |\n",
       "| 11 | 11 |  5 | -1 |  0 | -1 |\n",
       "| 12 | 12 | 14 |  0 |  0 |  0 |\n",
       "| 13 | 13 | 12 |  0 |  1 |  1 |\n",
       "| 14 | 14 |  4 |  1 |  1 |  0 |\n",
       "| 15 | 15 | 15 |  0 |  0 |  0 |\n",
       "| 16 | 16 | 13 |  0 |  0 |  0 |\n",
       "\n"
      ],
      "text/plain": [
       "   run.order std.order x1 x2 x3\n",
       "1   1         7        -1  0  1\n",
       "2   2         1        -1 -1  0\n",
       "3   3         8         1  0  1\n",
       "4   4        10         0  1 -1\n",
       "5   5        11         0 -1  1\n",
       "6   6         9         0 -1 -1\n",
       "7   7        16         0  0  0\n",
       "8   8         6         1  0 -1\n",
       "9   9         3        -1  1  0\n",
       "10 10         2         1 -1  0\n",
       "11 11         5        -1  0 -1\n",
       "12 12        14         0  0  0\n",
       "13 13        12         0  1  1\n",
       "14 14         4         1  1  0\n",
       "15 15        15         0  0  0\n",
       "16 16        13         0  0  0"
      ]
     },
     "metadata": {},
     "output_type": "display_data"
    }
   ],
   "source": [
    "benhken"
   ]
  },
  {
   "cell_type": "code",
   "execution_count": 13,
   "metadata": {},
   "outputs": [
    {
     "name": "stderr",
     "output_type": "stream",
     "text": [
      "Warning message:\n",
      "\"package 'car' was built under R version 3.5.3\"\n",
      "Loading required package: carData\n",
      "\n",
      "Warning message:\n",
      "\"package 'carData' was built under R version 3.5.3\"\n",
      "Warning message:\n",
      "\"package 'rgl' was built under R version 3.5.3\"\n"
     ]
    }
   ],
   "source": [
    "# install.packages(\"rgl\")\n",
    "# install.packages(\"car\")\n",
    "\n",
    "library(car)\n",
    "library(rgl)"
   ]
  },
  {
   "cell_type": "code",
   "execution_count": 15,
   "metadata": {},
   "outputs": [],
   "source": [
    "# scatter3d(benhken$x1, benhken$x2, benhken$x3)"
   ]
  },
  {
   "cell_type": "code",
   "execution_count": 14,
   "metadata": {},
   "outputs": [],
   "source": [
    "# plot3d(benhken$x1, benhken$x2, benhken$x3)"
   ]
  }
 ],
 "metadata": {
  "kernelspec": {
   "display_name": "R",
   "language": "R",
   "name": "ir"
  },
  "language_info": {
   "codemirror_mode": "r",
   "file_extension": ".r",
   "mimetype": "text/x-r-source",
   "name": "R",
   "pygments_lexer": "r",
   "version": "3.5.0"
  }
 },
 "nbformat": 4,
 "nbformat_minor": 4
}
