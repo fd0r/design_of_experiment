{
 "cells": [
  {
   "cell_type": "markdown",
   "metadata": {},
   "source": [
    "Based on https://husson.github.io/img/transp_plan_con4.pdf\n",
    "# Imports"
   ]
  },
  {
   "cell_type": "code",
   "execution_count": 41,
   "metadata": {},
   "outputs": [
    {
     "name": "stderr",
     "output_type": "stream",
     "text": [
      "Installing package into 'C:/Users/luism/Documents/R/win-library/3.5'\n",
      "(as 'lib' is unspecified)\n",
      "\n",
      "Warning message:\n",
      "\"package 'rsm' is in use and will not be installed\"\n"
     ]
    }
   ],
   "source": [
    "# install.packages(\"rsm\")\n",
    "library(rsm)"
   ]
  },
  {
   "cell_type": "markdown",
   "metadata": {},
   "source": [
    "# Central composite design"
   ]
  },
  {
   "cell_type": "code",
   "execution_count": 42,
   "metadata": {},
   "outputs": [],
   "source": [
    "plan <- ccd(2)"
   ]
  },
  {
   "cell_type": "code",
   "execution_count": 43,
   "metadata": {},
   "outputs": [
    {
     "data": {
      "text/html": [
       "<table>\n",
       "<caption>A coded.data: 16 × 5</caption>\n",
       "<thead>\n",
       "\t<tr><th scope=col>run.order</th><th scope=col>std.order</th><th scope=col>x1</th><th scope=col>x2</th><th scope=col>Block</th></tr>\n",
       "\t<tr><th scope=col>&lt;int&gt;</th><th scope=col>&lt;int&gt;</th><th scope=col>&lt;dbl&gt;</th><th scope=col>&lt;dbl&gt;</th><th scope=col>&lt;fct&gt;</th></tr>\n",
       "</thead>\n",
       "<tbody>\n",
       "\t<tr><td>1</td><td>6</td><td> 0.000000</td><td> 0.000000</td><td>1</td></tr>\n",
       "\t<tr><td>2</td><td>2</td><td> 1.000000</td><td>-1.000000</td><td>1</td></tr>\n",
       "\t<tr><td>3</td><td>1</td><td>-1.000000</td><td>-1.000000</td><td>1</td></tr>\n",
       "\t<tr><td>4</td><td>8</td><td> 0.000000</td><td> 0.000000</td><td>1</td></tr>\n",
       "\t<tr><td>5</td><td>5</td><td> 0.000000</td><td> 0.000000</td><td>1</td></tr>\n",
       "\t<tr><td>6</td><td>4</td><td> 1.000000</td><td> 1.000000</td><td>1</td></tr>\n",
       "\t<tr><td>7</td><td>3</td><td>-1.000000</td><td> 1.000000</td><td>1</td></tr>\n",
       "\t<tr><td>8</td><td>7</td><td> 0.000000</td><td> 0.000000</td><td>1</td></tr>\n",
       "\t<tr><td>1</td><td>4</td><td> 0.000000</td><td> 1.414214</td><td>2</td></tr>\n",
       "\t<tr><td>2</td><td>7</td><td> 0.000000</td><td> 0.000000</td><td>2</td></tr>\n",
       "\t<tr><td>3</td><td>6</td><td> 0.000000</td><td> 0.000000</td><td>2</td></tr>\n",
       "\t<tr><td>4</td><td>1</td><td>-1.414214</td><td> 0.000000</td><td>2</td></tr>\n",
       "\t<tr><td>5</td><td>2</td><td> 1.414214</td><td> 0.000000</td><td>2</td></tr>\n",
       "\t<tr><td>6</td><td>5</td><td> 0.000000</td><td> 0.000000</td><td>2</td></tr>\n",
       "\t<tr><td>7</td><td>3</td><td> 0.000000</td><td>-1.414214</td><td>2</td></tr>\n",
       "\t<tr><td>8</td><td>8</td><td> 0.000000</td><td> 0.000000</td><td>2</td></tr>\n",
       "</tbody>\n",
       "</table>\n"
      ],
      "text/latex": [
       "A coded.data: 16 × 5\n",
       "\\begin{tabular}{lllll}\n",
       " run.order & std.order & x1 & x2 & Block\\\\\n",
       " <int> & <int> & <dbl> & <dbl> & <fct>\\\\\n",
       "\\hline\n",
       "\t 1 & 6 &  0.000000 &  0.000000 & 1\\\\\n",
       "\t 2 & 2 &  1.000000 & -1.000000 & 1\\\\\n",
       "\t 3 & 1 & -1.000000 & -1.000000 & 1\\\\\n",
       "\t 4 & 8 &  0.000000 &  0.000000 & 1\\\\\n",
       "\t 5 & 5 &  0.000000 &  0.000000 & 1\\\\\n",
       "\t 6 & 4 &  1.000000 &  1.000000 & 1\\\\\n",
       "\t 7 & 3 & -1.000000 &  1.000000 & 1\\\\\n",
       "\t 8 & 7 &  0.000000 &  0.000000 & 1\\\\\n",
       "\t 1 & 4 &  0.000000 &  1.414214 & 2\\\\\n",
       "\t 2 & 7 &  0.000000 &  0.000000 & 2\\\\\n",
       "\t 3 & 6 &  0.000000 &  0.000000 & 2\\\\\n",
       "\t 4 & 1 & -1.414214 &  0.000000 & 2\\\\\n",
       "\t 5 & 2 &  1.414214 &  0.000000 & 2\\\\\n",
       "\t 6 & 5 &  0.000000 &  0.000000 & 2\\\\\n",
       "\t 7 & 3 &  0.000000 & -1.414214 & 2\\\\\n",
       "\t 8 & 8 &  0.000000 &  0.000000 & 2\\\\\n",
       "\\end{tabular}\n"
      ],
      "text/markdown": [
       "\n",
       "A coded.data: 16 × 5\n",
       "\n",
       "| run.order &lt;int&gt; | std.order &lt;int&gt; | x1 &lt;dbl&gt; | x2 &lt;dbl&gt; | Block &lt;fct&gt; |\n",
       "|---|---|---|---|---|\n",
       "| 1 | 6 |  0.000000 |  0.000000 | 1 |\n",
       "| 2 | 2 |  1.000000 | -1.000000 | 1 |\n",
       "| 3 | 1 | -1.000000 | -1.000000 | 1 |\n",
       "| 4 | 8 |  0.000000 |  0.000000 | 1 |\n",
       "| 5 | 5 |  0.000000 |  0.000000 | 1 |\n",
       "| 6 | 4 |  1.000000 |  1.000000 | 1 |\n",
       "| 7 | 3 | -1.000000 |  1.000000 | 1 |\n",
       "| 8 | 7 |  0.000000 |  0.000000 | 1 |\n",
       "| 1 | 4 |  0.000000 |  1.414214 | 2 |\n",
       "| 2 | 7 |  0.000000 |  0.000000 | 2 |\n",
       "| 3 | 6 |  0.000000 |  0.000000 | 2 |\n",
       "| 4 | 1 | -1.414214 |  0.000000 | 2 |\n",
       "| 5 | 2 |  1.414214 |  0.000000 | 2 |\n",
       "| 6 | 5 |  0.000000 |  0.000000 | 2 |\n",
       "| 7 | 3 |  0.000000 | -1.414214 | 2 |\n",
       "| 8 | 8 |  0.000000 |  0.000000 | 2 |\n",
       "\n"
      ],
      "text/plain": [
       "   run.order std.order x1        x2        Block\n",
       "1  1         6          0.000000  0.000000 1    \n",
       "2  2         2          1.000000 -1.000000 1    \n",
       "3  3         1         -1.000000 -1.000000 1    \n",
       "4  4         8          0.000000  0.000000 1    \n",
       "5  5         5          0.000000  0.000000 1    \n",
       "6  6         4          1.000000  1.000000 1    \n",
       "7  7         3         -1.000000  1.000000 1    \n",
       "8  8         7          0.000000  0.000000 1    \n",
       "9  1         4          0.000000  1.414214 2    \n",
       "10 2         7          0.000000  0.000000 2    \n",
       "11 3         6          0.000000  0.000000 2    \n",
       "12 4         1         -1.414214  0.000000 2    \n",
       "13 5         2          1.414214  0.000000 2    \n",
       "14 6         5          0.000000  0.000000 2    \n",
       "15 7         3          0.000000 -1.414214 2    \n",
       "16 8         8          0.000000  0.000000 2    "
      ]
     },
     "metadata": {},
     "output_type": "display_data"
    }
   ],
   "source": [
    "plan"
   ]
  },
  {
   "cell_type": "code",
   "execution_count": 44,
   "metadata": {},
   "outputs": [],
   "source": [
    "X <- model.matrix(~x1+x2+I(x1^2)+I(x2^2)+I(x1*x2), data=plan)"
   ]
  },
  {
   "cell_type": "code",
   "execution_count": 45,
   "metadata": {},
   "outputs": [
    {
     "data": {
      "text/html": [
       "<table>\n",
       "<caption>A matrix: 6 × 6 of type dbl</caption>\n",
       "<thead>\n",
       "\t<tr><th></th><th scope=col>(Intercept)</th><th scope=col>x1</th><th scope=col>x2</th><th scope=col>I(x1^2)</th><th scope=col>I(x2^2)</th><th scope=col>I(x1 * x2)</th></tr>\n",
       "</thead>\n",
       "<tbody>\n",
       "\t<tr><th scope=row>(Intercept)</th><td>16</td><td>0</td><td>0</td><td> 8</td><td> 8</td><td>0</td></tr>\n",
       "\t<tr><th scope=row>x1</th><td> 0</td><td>8</td><td>0</td><td> 0</td><td> 0</td><td>0</td></tr>\n",
       "\t<tr><th scope=row>x2</th><td> 0</td><td>0</td><td>8</td><td> 0</td><td> 0</td><td>0</td></tr>\n",
       "\t<tr><th scope=row>I(x1^2)</th><td> 8</td><td>0</td><td>0</td><td>12</td><td> 4</td><td>0</td></tr>\n",
       "\t<tr><th scope=row>I(x2^2)</th><td> 8</td><td>0</td><td>0</td><td> 4</td><td>12</td><td>0</td></tr>\n",
       "\t<tr><th scope=row>I(x1 * x2)</th><td> 0</td><td>0</td><td>0</td><td> 0</td><td> 0</td><td>4</td></tr>\n",
       "</tbody>\n",
       "</table>\n"
      ],
      "text/latex": [
       "A matrix: 6 × 6 of type dbl\n",
       "\\begin{tabular}{r|llllll}\n",
       "  & (Intercept) & x1 & x2 & I(x1\\textasciicircum{}2) & I(x2\\textasciicircum{}2) & I(x1 * x2)\\\\\n",
       "\\hline\n",
       "\t(Intercept) & 16 & 0 & 0 &  8 &  8 & 0\\\\\n",
       "\tx1 &  0 & 8 & 0 &  0 &  0 & 0\\\\\n",
       "\tx2 &  0 & 0 & 8 &  0 &  0 & 0\\\\\n",
       "\tI(x1\\textasciicircum{}2) &  8 & 0 & 0 & 12 &  4 & 0\\\\\n",
       "\tI(x2\\textasciicircum{}2) &  8 & 0 & 0 &  4 & 12 & 0\\\\\n",
       "\tI(x1 * x2) &  0 & 0 & 0 &  0 &  0 & 4\\\\\n",
       "\\end{tabular}\n"
      ],
      "text/markdown": [
       "\n",
       "A matrix: 6 × 6 of type dbl\n",
       "\n",
       "| <!--/--> | (Intercept) | x1 | x2 | I(x1^2) | I(x2^2) | I(x1 * x2) |\n",
       "|---|---|---|---|---|---|---|\n",
       "| (Intercept) | 16 | 0 | 0 |  8 |  8 | 0 |\n",
       "| x1 |  0 | 8 | 0 |  0 |  0 | 0 |\n",
       "| x2 |  0 | 0 | 8 |  0 |  0 | 0 |\n",
       "| I(x1^2) |  8 | 0 | 0 | 12 |  4 | 0 |\n",
       "| I(x2^2) |  8 | 0 | 0 |  4 | 12 | 0 |\n",
       "| I(x1 * x2) |  0 | 0 | 0 |  0 |  0 | 4 |\n",
       "\n"
      ],
      "text/plain": [
       "            (Intercept) x1 x2 I(x1^2) I(x2^2) I(x1 * x2)\n",
       "(Intercept) 16          0  0   8       8      0         \n",
       "x1           0          8  0   0       0      0         \n",
       "x2           0          0  8   0       0      0         \n",
       "I(x1^2)      8          0  0  12       4      0         \n",
       "I(x2^2)      8          0  0   4      12      0         \n",
       "I(x1 * x2)   0          0  0   0       0      4         "
      ]
     },
     "metadata": {},
     "output_type": "display_data"
    }
   ],
   "source": [
    "t(X)%*%X"
   ]
  },
  {
   "cell_type": "code",
   "execution_count": 46,
   "metadata": {},
   "outputs": [
    {
     "data": {
      "text/html": [
       "<table>\n",
       "<caption>A matrix: 6 × 6 of type dbl</caption>\n",
       "<thead>\n",
       "\t<tr><th></th><th scope=col>(Intercept)</th><th scope=col>x1</th><th scope=col>x2</th><th scope=col>I(x1^2)</th><th scope=col>I(x2^2)</th><th scope=col>I(x1 * x2)</th></tr>\n",
       "</thead>\n",
       "<tbody>\n",
       "\t<tr><th scope=row>(Intercept)</th><td> 0.1250</td><td>0.000</td><td>0.000</td><td>-0.0625</td><td>-0.0625</td><td>0.00</td></tr>\n",
       "\t<tr><th scope=row>x1</th><td> 0.0000</td><td>0.125</td><td>0.000</td><td> 0.0000</td><td> 0.0000</td><td>0.00</td></tr>\n",
       "\t<tr><th scope=row>x2</th><td> 0.0000</td><td>0.000</td><td>0.125</td><td> 0.0000</td><td> 0.0000</td><td>0.00</td></tr>\n",
       "\t<tr><th scope=row>I(x1^2)</th><td>-0.0625</td><td>0.000</td><td>0.000</td><td> 0.1250</td><td> 0.0000</td><td>0.00</td></tr>\n",
       "\t<tr><th scope=row>I(x2^2)</th><td>-0.0625</td><td>0.000</td><td>0.000</td><td> 0.0000</td><td> 0.1250</td><td>0.00</td></tr>\n",
       "\t<tr><th scope=row>I(x1 * x2)</th><td> 0.0000</td><td>0.000</td><td>0.000</td><td> 0.0000</td><td> 0.0000</td><td>0.25</td></tr>\n",
       "</tbody>\n",
       "</table>\n"
      ],
      "text/latex": [
       "A matrix: 6 × 6 of type dbl\n",
       "\\begin{tabular}{r|llllll}\n",
       "  & (Intercept) & x1 & x2 & I(x1\\textasciicircum{}2) & I(x2\\textasciicircum{}2) & I(x1 * x2)\\\\\n",
       "\\hline\n",
       "\t(Intercept) &  0.1250 & 0.000 & 0.000 & -0.0625 & -0.0625 & 0.00\\\\\n",
       "\tx1 &  0.0000 & 0.125 & 0.000 &  0.0000 &  0.0000 & 0.00\\\\\n",
       "\tx2 &  0.0000 & 0.000 & 0.125 &  0.0000 &  0.0000 & 0.00\\\\\n",
       "\tI(x1\\textasciicircum{}2) & -0.0625 & 0.000 & 0.000 &  0.1250 &  0.0000 & 0.00\\\\\n",
       "\tI(x2\\textasciicircum{}2) & -0.0625 & 0.000 & 0.000 &  0.0000 &  0.1250 & 0.00\\\\\n",
       "\tI(x1 * x2) &  0.0000 & 0.000 & 0.000 &  0.0000 &  0.0000 & 0.25\\\\\n",
       "\\end{tabular}\n"
      ],
      "text/markdown": [
       "\n",
       "A matrix: 6 × 6 of type dbl\n",
       "\n",
       "| <!--/--> | (Intercept) | x1 | x2 | I(x1^2) | I(x2^2) | I(x1 * x2) |\n",
       "|---|---|---|---|---|---|---|\n",
       "| (Intercept) |  0.1250 | 0.000 | 0.000 | -0.0625 | -0.0625 | 0.00 |\n",
       "| x1 |  0.0000 | 0.125 | 0.000 |  0.0000 |  0.0000 | 0.00 |\n",
       "| x2 |  0.0000 | 0.000 | 0.125 |  0.0000 |  0.0000 | 0.00 |\n",
       "| I(x1^2) | -0.0625 | 0.000 | 0.000 |  0.1250 |  0.0000 | 0.00 |\n",
       "| I(x2^2) | -0.0625 | 0.000 | 0.000 |  0.0000 |  0.1250 | 0.00 |\n",
       "| I(x1 * x2) |  0.0000 | 0.000 | 0.000 |  0.0000 |  0.0000 | 0.25 |\n",
       "\n"
      ],
      "text/plain": [
       "            (Intercept) x1    x2    I(x1^2) I(x2^2) I(x1 * x2)\n",
       "(Intercept)  0.1250     0.000 0.000 -0.0625 -0.0625 0.00      \n",
       "x1           0.0000     0.125 0.000  0.0000  0.0000 0.00      \n",
       "x2           0.0000     0.000 0.125  0.0000  0.0000 0.00      \n",
       "I(x1^2)     -0.0625     0.000 0.000  0.1250  0.0000 0.00      \n",
       "I(x2^2)     -0.0625     0.000 0.000  0.0000  0.1250 0.00      \n",
       "I(x1 * x2)   0.0000     0.000 0.000  0.0000  0.0000 0.25      "
      ]
     },
     "metadata": {},
     "output_type": "display_data"
    }
   ],
   "source": [
    "solve(t(X)%*%X)"
   ]
  },
  {
   "cell_type": "code",
   "execution_count": 47,
   "metadata": {},
   "outputs": [
    {
     "data": {
      "text/plain": [
       "\n",
       "Call:\n",
       "rsm(formula = Y ~ SO(x1, x2), data = plan)\n",
       "\n",
       "            Estimate Std. Error t value  Pr(>|t|)    \n",
       "(Intercept)  5.50000    0.86821  6.3349 8.516e-05 ***\n",
       "x1           0.62500    0.86821  0.7199    0.4881    \n",
       "x2          -0.50888    0.86821 -0.5861    0.5708    \n",
       "x1:x2        0.75000    1.22784  0.6108    0.5549    \n",
       "x1^2        -0.12500    0.86821 -0.1440    0.8884    \n",
       "x2^2        -0.37500    0.86821 -0.4319    0.6750    \n",
       "---\n",
       "Signif. codes:  0 '***' 0.001 '**' 0.01 '*' 0.05 '.' 0.1 ' ' 1\n",
       "\n",
       "Multiple R-squared:  0.126,\tAdjusted R-squared:  -0.3109 \n",
       "F-statistic: 0.2884 on 5 and 10 DF,  p-value: 0.9088\n",
       "\n",
       "Analysis of Variance Table\n",
       "\n",
       "Response: Y\n",
       "            Df Sum Sq Mean Sq F value Pr(>F)\n",
       "FO(x1, x2)   2  5.197  2.5983  0.4309 0.6615\n",
       "TWI(x1, x2)  1  2.250  2.2500  0.3731 0.5549\n",
       "PQ(x1, x2)   2  1.250  0.6250  0.1036 0.9025\n",
       "Residuals   10 60.303  6.0303               \n",
       "Lack of fit  3 16.303  5.4344  0.8646 0.5028\n",
       "Pure error   7 44.000  6.2857               \n",
       "\n",
       "Stationary point of response surface:\n",
       "        x1         x2 \n",
       "-0.2322330 -0.9107443 \n",
       "\n",
       "Stationary point in original units:\n",
       "  x1.as.is   x2.as.is \n",
       "-0.2322330 -0.9107443 \n",
       "\n",
       "Eigenanalysis:\n",
       "eigen() decomposition\n",
       "$values\n",
       "[1]  0.1452847 -0.6452847\n",
       "\n",
       "$vectors\n",
       "         [,1]       [,2]\n",
       "x1 -0.8112422 -0.5847103\n",
       "x2 -0.5847103  0.8112422\n",
       "\n"
      ]
     },
     "metadata": {},
     "output_type": "display_data"
    }
   ],
   "source": [
    "set.seed(1234)\n",
    "Y <- c(1,5,4,7,8,8,4,5,2,5,4,5,5,9,7,5)\n",
    "CR.rsm <- rsm(Y~SO(x1, x2), data=plan)\n",
    "summary(CR.rsm)"
   ]
  },
  {
   "cell_type": "code",
   "execution_count": 48,
   "metadata": {},
   "outputs": [
    {
     "data": {
      "image/png": "[encoded data removed]",
      "text/plain": [
       "plot without title"
      ]
     },
     "metadata": {
      "image/png": {
       "height": 420,
       "width": 420
      },
      "text/plain": {
       "height": 420,
       "width": 420
      }
     },
     "output_type": "display_data"
    }
   ],
   "source": [
    "contour(CR.rsm, ~x1+x2, image=TRUE)"
   ]
  },
  {
   "cell_type": "code",
   "execution_count": 49,
   "metadata": {},
   "outputs": [
    {
     "data": {
      "image/png": "[encoded data removed]",
      "text/plain": [
       "plot without title"
      ]
     },
     "metadata": {
      "image/png": {
       "height": 420,
       "width": 420
      },
      "text/plain": {
       "height": 420,
       "width": 420
      }
     },
     "output_type": "display_data"
    }
   ],
   "source": [
    "persp(CR.rsm, ~x1+x2, col=rainbow(50), contours=\"colors\")"
   ]
  },
  {
   "cell_type": "markdown",
   "metadata": {},
   "source": [
    "# Box-Benhken design"
   ]
  },
  {
   "cell_type": "code",
   "execution_count": 50,
   "metadata": {},
   "outputs": [],
   "source": [
    "benhken <- bbd(3)"
   ]
  },
  {
   "cell_type": "code",
   "execution_count": 51,
   "metadata": {},
   "outputs": [
    {
     "data": {
      "text/html": [
       "<table>\n",
       "<caption>A coded.data: 16 × 5</caption>\n",
       "<thead>\n",
       "\t<tr><th></th><th scope=col>run.order</th><th scope=col>std.order</th><th scope=col>x1</th><th scope=col>x2</th><th scope=col>x3</th></tr>\n",
       "\t<tr><th></th><th scope=col>&lt;int&gt;</th><th scope=col>&lt;int&gt;</th><th scope=col>&lt;dbl&gt;</th><th scope=col>&lt;dbl&gt;</th><th scope=col>&lt;dbl&gt;</th></tr>\n",
       "</thead>\n",
       "<tbody>\n",
       "\t<tr><th scope=row>1</th><td> 1</td><td> 7</td><td>-1</td><td> 0</td><td> 1</td></tr>\n",
       "\t<tr><th scope=row>2</th><td> 2</td><td> 1</td><td>-1</td><td>-1</td><td> 0</td></tr>\n",
       "\t<tr><th scope=row>3</th><td> 3</td><td> 8</td><td> 1</td><td> 0</td><td> 1</td></tr>\n",
       "\t<tr><th scope=row>4</th><td> 4</td><td>10</td><td> 0</td><td> 1</td><td>-1</td></tr>\n",
       "\t<tr><th scope=row>5</th><td> 5</td><td>11</td><td> 0</td><td>-1</td><td> 1</td></tr>\n",
       "\t<tr><th scope=row>6</th><td> 6</td><td> 9</td><td> 0</td><td>-1</td><td>-1</td></tr>\n",
       "\t<tr><th scope=row>7</th><td> 7</td><td>16</td><td> 0</td><td> 0</td><td> 0</td></tr>\n",
       "\t<tr><th scope=row>8</th><td> 8</td><td> 6</td><td> 1</td><td> 0</td><td>-1</td></tr>\n",
       "\t<tr><th scope=row>9</th><td> 9</td><td> 3</td><td>-1</td><td> 1</td><td> 0</td></tr>\n",
       "\t<tr><th scope=row>10</th><td>10</td><td> 2</td><td> 1</td><td>-1</td><td> 0</td></tr>\n",
       "\t<tr><th scope=row>11</th><td>11</td><td> 5</td><td>-1</td><td> 0</td><td>-1</td></tr>\n",
       "\t<tr><th scope=row>12</th><td>12</td><td>14</td><td> 0</td><td> 0</td><td> 0</td></tr>\n",
       "\t<tr><th scope=row>13</th><td>13</td><td>12</td><td> 0</td><td> 1</td><td> 1</td></tr>\n",
       "\t<tr><th scope=row>14</th><td>14</td><td> 4</td><td> 1</td><td> 1</td><td> 0</td></tr>\n",
       "\t<tr><th scope=row>15</th><td>15</td><td>15</td><td> 0</td><td> 0</td><td> 0</td></tr>\n",
       "\t<tr><th scope=row>16</th><td>16</td><td>13</td><td> 0</td><td> 0</td><td> 0</td></tr>\n",
       "</tbody>\n",
       "</table>\n"
      ],
      "text/latex": [
       "A coded.data: 16 × 5\n",
       "\\begin{tabular}{r|lllll}\n",
       "  & run.order & std.order & x1 & x2 & x3\\\\\n",
       "  & <int> & <int> & <dbl> & <dbl> & <dbl>\\\\\n",
       "\\hline\n",
       "\t1 &  1 &  7 & -1 &  0 &  1\\\\\n",
       "\t2 &  2 &  1 & -1 & -1 &  0\\\\\n",
       "\t3 &  3 &  8 &  1 &  0 &  1\\\\\n",
       "\t4 &  4 & 10 &  0 &  1 & -1\\\\\n",
       "\t5 &  5 & 11 &  0 & -1 &  1\\\\\n",
       "\t6 &  6 &  9 &  0 & -1 & -1\\\\\n",
       "\t7 &  7 & 16 &  0 &  0 &  0\\\\\n",
       "\t8 &  8 &  6 &  1 &  0 & -1\\\\\n",
       "\t9 &  9 &  3 & -1 &  1 &  0\\\\\n",
       "\t10 & 10 &  2 &  1 & -1 &  0\\\\\n",
       "\t11 & 11 &  5 & -1 &  0 & -1\\\\\n",
       "\t12 & 12 & 14 &  0 &  0 &  0\\\\\n",
       "\t13 & 13 & 12 &  0 &  1 &  1\\\\\n",
       "\t14 & 14 &  4 &  1 &  1 &  0\\\\\n",
       "\t15 & 15 & 15 &  0 &  0 &  0\\\\\n",
       "\t16 & 16 & 13 &  0 &  0 &  0\\\\\n",
       "\\end{tabular}\n"
      ],
      "text/markdown": [
       "\n",
       "A coded.data: 16 × 5\n",
       "\n",
       "| <!--/--> | run.order &lt;int&gt; | std.order &lt;int&gt; | x1 &lt;dbl&gt; | x2 &lt;dbl&gt; | x3 &lt;dbl&gt; |\n",
       "|---|---|---|---|---|---|\n",
       "| 1 |  1 |  7 | -1 |  0 |  1 |\n",
       "| 2 |  2 |  1 | -1 | -1 |  0 |\n",
       "| 3 |  3 |  8 |  1 |  0 |  1 |\n",
       "| 4 |  4 | 10 |  0 |  1 | -1 |\n",
       "| 5 |  5 | 11 |  0 | -1 |  1 |\n",
       "| 6 |  6 |  9 |  0 | -1 | -1 |\n",
       "| 7 |  7 | 16 |  0 |  0 |  0 |\n",
       "| 8 |  8 |  6 |  1 |  0 | -1 |\n",
       "| 9 |  9 |  3 | -1 |  1 |  0 |\n",
       "| 10 | 10 |  2 |  1 | -1 |  0 |\n",
       "| 11 | 11 |  5 | -1 |  0 | -1 |\n",
       "| 12 | 12 | 14 |  0 |  0 |  0 |\n",
       "| 13 | 13 | 12 |  0 |  1 |  1 |\n",
       "| 14 | 14 |  4 |  1 |  1 |  0 |\n",
       "| 15 | 15 | 15 |  0 |  0 |  0 |\n",
       "| 16 | 16 | 13 |  0 |  0 |  0 |\n",
       "\n"
      ],
      "text/plain": [
       "   run.order std.order x1 x2 x3\n",
       "1   1         7        -1  0  1\n",
       "2   2         1        -1 -1  0\n",
       "3   3         8         1  0  1\n",
       "4   4        10         0  1 -1\n",
       "5   5        11         0 -1  1\n",
       "6   6         9         0 -1 -1\n",
       "7   7        16         0  0  0\n",
       "8   8         6         1  0 -1\n",
       "9   9         3        -1  1  0\n",
       "10 10         2         1 -1  0\n",
       "11 11         5        -1  0 -1\n",
       "12 12        14         0  0  0\n",
       "13 13        12         0  1  1\n",
       "14 14         4         1  1  0\n",
       "15 15        15         0  0  0\n",
       "16 16        13         0  0  0"
      ]
     },
     "metadata": {},
     "output_type": "display_data"
    }
   ],
   "source": [
    "benhken"
   ]
  },
  {
   "cell_type": "code",
   "execution_count": null,
   "metadata": {},
   "outputs": [],
   "source": []
  }
 ],
 "metadata": {
  "kernelspec": {
   "display_name": "R",
   "language": "R",
   "name": "ir"
  },
  "language_info": {
   "codemirror_mode": "r",
   "file_extension": ".r",
   "mimetype": "text/x-r-source",
   "name": "R",
   "pygments_lexer": "r",
   "version": "3.5.0"
  }
 },
 "nbformat": 4,
 "nbformat_minor": 4
}
