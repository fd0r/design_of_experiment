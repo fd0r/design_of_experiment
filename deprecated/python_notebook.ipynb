{
 "cells": [
  {
   "cell_type": "markdown",
   "metadata": {},
   "source": [
    "## Imports"
   ]
  },
  {
   "cell_type": "code",
   "execution_count": 9,
   "metadata": {},
   "outputs": [],
   "source": [
    "from sklearn.utils.fixes import loguniform\n",
    "import numpy as np\n",
    "import doepy\n",
    "from doepy import build\n",
    "import pyDOE2\n",
    "import pandas as pd\n",
    "from tqdm import tqdm\n",
    "from sklearn.model_selection import cross_val_score\n",
    "from sklearn.preprocessing import LabelEncoder\n",
    "from sklearn.preprocessing import OrdinalEncoder\n",
    "from sklearn.datasets import make_classification\n",
    "from sklearn.svm import SVC\n",
    "from sklearn.linear_model import LogisticRegression\n",
    "import matplotlib.pyplot as plt\n",
    "import warnings\n",
    "warnings.filterwarnings(\"ignore\")\n",
    "%matplotlib inline"
   ]
  },
  {
   "cell_type": "markdown",
   "metadata": {},
   "source": [
    "## Synthetic data"
   ]
  },
  {
   "cell_type": "code",
   "execution_count": 10,
   "metadata": {},
   "outputs": [],
   "source": [
    "X, y = make_classification(random_state=42)"
   ]
  },
  {
   "cell_type": "code",
   "execution_count": 11,
   "metadata": {},
   "outputs": [
    {
     "data": {
      "text/plain": [
       "(100, 20)"
      ]
     },
     "execution_count": 11,
     "metadata": {},
     "output_type": "execute_result"
    }
   ],
   "source": [
    "X.shape"
   ]
  },
  {
   "cell_type": "markdown",
   "metadata": {},
   "source": [
    "## Functions"
   ]
  },
  {
   "cell_type": "code",
   "execution_count": 12,
   "metadata": {},
   "outputs": [],
   "source": [
    "def eval_hyper_parameter(clf_class, params, X, y, **kwargs):\n",
    "    clf = clf_class(**params, **kwargs)\n",
    "    return np.mean(cross_val_score(clf, X, y))\n",
    "\n",
    "def eval_plan(clf_class, plan, X, y, key=\"results\", **kwargs):\n",
    "    with tqdm(total=len(plan)) as pbar:\n",
    "        def to_eval(params): \n",
    "            res = eval_hyper_parameter(clf_class, params, X, y, **kwargs)\n",
    "            pbar.update(1)\n",
    "            return res\n",
    "        plan[key] = plan.apply(to_eval, axis=1)\n",
    "    return plan"
   ]
  },
  {
   "cell_type": "markdown",
   "metadata": {},
   "source": [
    "## Categorical values"
   ]
  },
  {
   "cell_type": "code",
   "execution_count": 13,
   "metadata": {},
   "outputs": [],
   "source": [
    "parameters = {'kernel':[\"linear\", \"poly\", \"rbf\", \"sigmoid\"],\n",
    "    'C': [float(\"1e{}\".format(i)) for i in range(-5, 5)], \n",
    "    'gamma': ['scale', 'auto']}"
   ]
  },
  {
   "cell_type": "markdown",
   "metadata": {},
   "source": [
    "# Full plan"
   ]
  },
  {
   "cell_type": "code",
   "execution_count": 14,
   "metadata": {},
   "outputs": [
    {
     "name": "stdout",
     "output_type": "stream",
     "text": [
      "Help on function full_fact in module doepy.build:\n",
      "\n",
      "full_fact(d)\n",
      "    Builds a full factorial design dataframe from a dictionary of factor/level ranges\n",
      "    Example of the dictionary which is needed as the input:\n",
      "    {'Pressure':[50,60,70],'Temperature':[290, 320, 350],'Flow rate':[0.9,1.0]}\n",
      "\n"
     ]
    }
   ],
   "source": [
    "help(build.full_fact)"
   ]
  },
  {
   "cell_type": "code",
   "execution_count": 25,
   "metadata": {},
   "outputs": [
    {
     "name": "stderr",
     "output_type": "stream",
     "text": [
      "100%|████████████████████████████████████████████████████████████████████████████████████████| 8/8 [00:00<00:00, 133.34it/s]\n"
     ]
    },
    {
     "data": {
      "text/html": [
       "<div>\n",
       "<style scoped>\n",
       "    .dataframe tbody tr th:only-of-type {\n",
       "        vertical-align: middle;\n",
       "    }\n",
       "\n",
       "    .dataframe tbody tr th {\n",
       "        vertical-align: top;\n",
       "    }\n",
       "\n",
       "    .dataframe thead th {\n",
       "        text-align: right;\n",
       "    }\n",
       "</style>\n",
       "<table border=\"1\" class=\"dataframe\">\n",
       "  <thead>\n",
       "    <tr style=\"text-align: right;\">\n",
       "      <th></th>\n",
       "      <th>kernel</th>\n",
       "      <th>C</th>\n",
       "      <th>gamma</th>\n",
       "      <th>results</th>\n",
       "    </tr>\n",
       "  </thead>\n",
       "  <tbody>\n",
       "    <tr>\n",
       "      <th>0</th>\n",
       "      <td>linear</td>\n",
       "      <td>0.00001</td>\n",
       "      <td>scale</td>\n",
       "      <td>0.91</td>\n",
       "    </tr>\n",
       "    <tr>\n",
       "      <th>1</th>\n",
       "      <td>sigmoid</td>\n",
       "      <td>0.00001</td>\n",
       "      <td>scale</td>\n",
       "      <td>0.92</td>\n",
       "    </tr>\n",
       "    <tr>\n",
       "      <th>2</th>\n",
       "      <td>linear</td>\n",
       "      <td>10000.00000</td>\n",
       "      <td>scale</td>\n",
       "      <td>0.99</td>\n",
       "    </tr>\n",
       "    <tr>\n",
       "      <th>3</th>\n",
       "      <td>sigmoid</td>\n",
       "      <td>10000.00000</td>\n",
       "      <td>scale</td>\n",
       "      <td>0.90</td>\n",
       "    </tr>\n",
       "    <tr>\n",
       "      <th>4</th>\n",
       "      <td>linear</td>\n",
       "      <td>0.00001</td>\n",
       "      <td>auto</td>\n",
       "      <td>0.91</td>\n",
       "    </tr>\n",
       "  </tbody>\n",
       "</table>\n",
       "</div>"
      ],
      "text/plain": [
       "    kernel            C  gamma  results\n",
       "0   linear      0.00001  scale     0.91\n",
       "1  sigmoid      0.00001  scale     0.92\n",
       "2   linear  10000.00000  scale     0.99\n",
       "3  sigmoid  10000.00000  scale     0.90\n",
       "4   linear      0.00001   auto     0.91"
      ]
     },
     "metadata": {},
     "output_type": "display_data"
    },
    {
     "data": {
      "text/plain": [
       "(2, 2, 2)"
      ]
     },
     "metadata": {},
     "output_type": "display_data"
    },
    {
     "data": {
      "text/plain": [
       "array([[[0.91, 0.91],\n",
       "        [0.99, 0.99]],\n",
       "\n",
       "       [[0.92, 0.92],\n",
       "        [0.91, 0.9 ]]])"
      ]
     },
     "metadata": {},
     "output_type": "display_data"
    },
    {
     "data": {
      "image/png": "[encoded data removed]",
      "text/plain": [
       "<Figure size 288x288 with 1 Axes>"
      ]
     },
     "metadata": {
      "needs_background": "light"
     },
     "output_type": "display_data"
    },
    {
     "data": {
      "image/png": "[encoded data removed]",
      "text/plain": [
       "<Figure size 288x288 with 1 Axes>"
      ]
     },
     "metadata": {
      "needs_background": "light"
     },
     "output_type": "display_data"
    }
   ],
   "source": [
    "plan = build.full_fact(\n",
    "    parameters\n",
    ")\n",
    "\n",
    "for key in {\"gamma\", \"kernel\"}:\n",
    "    plan[key] = plan[key].apply(lambda elt: parameters[key][int(elt)])\n",
    "\n",
    "results = eval_plan(SVC, plan, X, y)\n",
    "enc = OrdinalEncoder()\n",
    "enc.fit(results.loc[:, results.columns != 'results'])\n",
    "indices = enc.transform(results.loc[:, results.columns != 'results'])\n",
    "display(results.head())\n",
    "shape = tuple([len(elt) for elt in enc.categories_])\n",
    "values = np.zeros(shape)\n",
    "display(values.shape)\n",
    "for idx, value in zip(indices, results['results']):\n",
    "    idx = tuple(map(int, idx))\n",
    "    values[idx] = value\n",
    "display(values)\n",
    "\n",
    "\n",
    "plt.matshow(values[:,:,0])\n",
    "plt.show()\n",
    "plt.close()\n",
    "plt.matshow(values[:,:,1])\n",
    "plt.show()\n",
    "plt.close()"
   ]
  },
  {
   "cell_type": "markdown",
   "metadata": {},
   "source": [
    "# 2-level fractorial design"
   ]
  },
  {
   "cell_type": "code",
   "execution_count": 26,
   "metadata": {},
   "outputs": [
    {
     "name": "stdout",
     "output_type": "stream",
     "text": [
      "Help on function frac_fact_res in module doepy.build:\n",
      "\n",
      "frac_fact_res(d, res=None)\n",
      "    Builds a 2-level fractional factorial design dataframe from a dictionary of factor/level ranges and given resolution.\n",
      "      \n",
      "    Parameters\n",
      "    ----------\n",
      "    factor_level_ranges : Dictionary of factors and ranges\n",
      "                         Only min and max values of the range are required.\n",
      "                         If more than two levels are given, the extreme values will be set to the low/high levels.\n",
      "                         Example of the dictionary which is needed as the input:\n",
      "                        {'Pressure':[50,70],'Temperature':[290, 350],'Flow rate':[0.9,1.0]}\n",
      "    res : int\n",
      "        Desired design resolution.\n",
      "        Default: Set to half of the total factor count.\n",
      "        \n",
      "        Notes\n",
      "    -----\n",
      "    The resolution of a design is defined as the length of the shortest\n",
      "    word in the defining relation. The resolution describes the level of\n",
      "    confounding between factors and interaction effects, where higher\n",
      "    resolution indicates lower degree of confounding.\n",
      "    For example, consider the 2^4-1-design defined by\n",
      "        gen = \"a b c ab\"\n",
      "    The factor \"d\" is defined by \"ab\" with defining relation I=\"abd\", where\n",
      "    I is the unit vector. In this simple example the shortest word is \"abd\"\n",
      "    meaning that this is a resolution III-design.\n",
      "    In practice resolution III-, IV- and V-designs are most commonly applied.\n",
      "    * III: Main effects may be confounded with two-factor interactions.\n",
      "    * IV: Main effects are unconfounded by two-factor interactions, but\n",
      "          two-factor interactions may be confounded with each other.\n",
      "    * V: Main effects unconfounded with up to four-factor interactions,\n",
      "         two-factor interactions unconfounded with up to three-factor\n",
      "         interactions. Three-factor interactions may be confounded with\n",
      "         each other.\n",
      "    Examples\n",
      "    --------\n",
      "    ::\n",
      "        >>> d1 = {'A':[1,5],'B':[0.3,0.7],'C':[10,15],'D':[3,7],'E':[-2,-1]}\n",
      "        >>> build_frac_fact_res(d1,3)\n",
      "             A    B     C    D    E\n",
      "        0  1.0  0.3  10.0  7.0 -1.0\n",
      "        1  5.0  0.3  10.0  3.0 -2.0\n",
      "        2  1.0  0.7  10.0  3.0 -1.0\n",
      "        3  5.0  0.7  10.0  7.0 -2.0\n",
      "        4  1.0  0.3  15.0  7.0 -2.0\n",
      "        5  5.0  0.3  15.0  3.0 -1.0\n",
      "        6  1.0  0.7  15.0  3.0 -2.0\n",
      "        7  5.0  0.7  15.0  7.0 -1.0\n",
      "        \n",
      "        It builds a dataframe with only 8 rows (designs) from a dictionary with 6 factors.\n",
      "        A full factorial design would have required 2^6 = 64 designs.\n",
      "        >>> build_frac_fact_res(d1,5)\n",
      "        Traceback (most recent call last):\n",
      "        ...\n",
      "        ValueError: design not possible\n",
      "\n"
     ]
    }
   ],
   "source": [
    "help(build.frac_fact_res)"
   ]
  },
  {
   "cell_type": "code",
   "execution_count": 27,
   "metadata": {},
   "outputs": [
    {
     "name": "stderr",
     "output_type": "stream",
     "text": [
      "100%|████████████████████████████████████████████████████████████████████████████████████████| 8/8 [00:00<00:00, 142.86it/s]\n"
     ]
    },
    {
     "data": {
      "text/html": [
       "<div>\n",
       "<style scoped>\n",
       "    .dataframe tbody tr th:only-of-type {\n",
       "        vertical-align: middle;\n",
       "    }\n",
       "\n",
       "    .dataframe tbody tr th {\n",
       "        vertical-align: top;\n",
       "    }\n",
       "\n",
       "    .dataframe thead th {\n",
       "        text-align: right;\n",
       "    }\n",
       "</style>\n",
       "<table border=\"1\" class=\"dataframe\">\n",
       "  <thead>\n",
       "    <tr style=\"text-align: right;\">\n",
       "      <th></th>\n",
       "      <th>kernel</th>\n",
       "      <th>C</th>\n",
       "      <th>gamma</th>\n",
       "      <th>results</th>\n",
       "    </tr>\n",
       "  </thead>\n",
       "  <tbody>\n",
       "    <tr>\n",
       "      <th>0</th>\n",
       "      <td>linear</td>\n",
       "      <td>0.00001</td>\n",
       "      <td>scale</td>\n",
       "      <td>0.91</td>\n",
       "    </tr>\n",
       "    <tr>\n",
       "      <th>1</th>\n",
       "      <td>sigmoid</td>\n",
       "      <td>0.00001</td>\n",
       "      <td>scale</td>\n",
       "      <td>0.92</td>\n",
       "    </tr>\n",
       "    <tr>\n",
       "      <th>2</th>\n",
       "      <td>linear</td>\n",
       "      <td>10000.00000</td>\n",
       "      <td>scale</td>\n",
       "      <td>0.99</td>\n",
       "    </tr>\n",
       "    <tr>\n",
       "      <th>3</th>\n",
       "      <td>sigmoid</td>\n",
       "      <td>10000.00000</td>\n",
       "      <td>scale</td>\n",
       "      <td>0.90</td>\n",
       "    </tr>\n",
       "    <tr>\n",
       "      <th>4</th>\n",
       "      <td>linear</td>\n",
       "      <td>0.00001</td>\n",
       "      <td>auto</td>\n",
       "      <td>0.91</td>\n",
       "    </tr>\n",
       "  </tbody>\n",
       "</table>\n",
       "</div>"
      ],
      "text/plain": [
       "    kernel            C  gamma  results\n",
       "0   linear      0.00001  scale     0.91\n",
       "1  sigmoid      0.00001  scale     0.92\n",
       "2   linear  10000.00000  scale     0.99\n",
       "3  sigmoid  10000.00000  scale     0.90\n",
       "4   linear      0.00001   auto     0.91"
      ]
     },
     "metadata": {},
     "output_type": "display_data"
    },
    {
     "data": {
      "text/plain": [
       "(2, 2, 2)"
      ]
     },
     "metadata": {},
     "output_type": "display_data"
    },
    {
     "data": {
      "text/plain": [
       "array([[[0.91, 0.91],\n",
       "        [0.99, 0.99]],\n",
       "\n",
       "       [[0.92, 0.92],\n",
       "        [0.91, 0.9 ]]])"
      ]
     },
     "metadata": {},
     "output_type": "display_data"
    },
    {
     "data": {
      "image/png": "[encoded data removed]",
      "text/plain": [
       "<Figure size 288x288 with 1 Axes>"
      ]
     },
     "metadata": {
      "needs_background": "light"
     },
     "output_type": "display_data"
    },
    {
     "data": {
      "image/png": "[encoded data removed]",
      "text/plain": [
       "<Figure size 288x288 with 1 Axes>"
      ]
     },
     "metadata": {
      "needs_background": "light"
     },
     "output_type": "display_data"
    }
   ],
   "source": [
    "plan = build.frac_fact_res(\n",
    "    parameters, 2\n",
    ")\n",
    "\n",
    "for key in {\"gamma\", \"kernel\"}:\n",
    "    plan[key] = plan[key].apply(lambda elt: parameters[key][int(elt)])\n",
    "\n",
    "results = eval_plan(SVC, plan, X, y)\n",
    "enc = OrdinalEncoder()\n",
    "enc.fit(results.loc[:, results.columns != 'results'])\n",
    "indices = enc.transform(results.loc[:, results.columns != 'results'])\n",
    "display(results.head())\n",
    "shape = tuple([len(elt) for elt in enc.categories_])\n",
    "values = np.zeros(shape)\n",
    "display(values.shape)\n",
    "for idx, value in zip(indices, results['results']):\n",
    "    idx = tuple(map(int, idx))\n",
    "    values[idx] = value\n",
    "display(values)\n",
    "\n",
    "\n",
    "plt.matshow(values[:,:,0])\n",
    "plt.show()\n",
    "plt.close()\n",
    "plt.matshow(values[:,:,1])\n",
    "plt.show()\n",
    "plt.close()"
   ]
  },
  {
   "cell_type": "markdown",
   "metadata": {},
   "source": [
    "__All other plans only take numerical values__"
   ]
  },
  {
   "cell_type": "markdown",
   "metadata": {},
   "source": [
    "# Box Behnken"
   ]
  },
  {
   "cell_type": "code",
   "execution_count": 30,
   "metadata": {},
   "outputs": [
    {
     "name": "stdout",
     "output_type": "stream",
     "text": [
      "Help on function box_behnken in module doepy.build:\n",
      "\n",
      "box_behnken(d, center=1)\n",
      "    Builds a Box-Behnken design dataframe from a dictionary of factor/level ranges.\n",
      "    Note 3 levels of factors are necessary. If not given, the function will automatically create 3 levels by linear mid-section method.\n",
      "    Example of the dictionary which is needed as the input:\n",
      "    {'Pressure':[50,60,70],'Temperature':[290, 320, 350],'Flow rate':[0.9,1.0,1.1]}\n",
      "        \n",
      "        In statistics, Box–Behnken designs are experimental designs for response surface methodology, devised by George E. P. Box and Donald Behnken in 1960, to achieve the following goals:\n",
      "                * Each factor, or independent variable, is placed at one of three equally spaced values, usually coded as −1, 0, +1. (At least three levels are needed for the following goal.)\n",
      "                * The design should be sufficient to fit a quadratic model, that is, one containing squared terms, products of two factors, linear terms and an intercept.\n",
      "                * The ratio of the number of experimental points to the number of coefficients in the quadratic model should be reasonable (in fact, their designs kept it in the range of 1.5 to 2.6).*estimation variance should more or less depend only on the distance from the centre (this is achieved exactly for the designs with 4 and 7 factors), and should not vary too much inside the smallest (hyper)cube containing the experimental points.\n",
      "\n"
     ]
    }
   ],
   "source": [
    "help(build.box_behnken)  # Levels but only numerics"
   ]
  },
  {
   "cell_type": "code",
   "execution_count": 39,
   "metadata": {},
   "outputs": [
    {
     "ename": "TypeError",
     "evalue": "unsupported operand type(s) for /: 'str' and 'int'",
     "output_type": "error",
     "traceback": [
      "\u001b[1;31m---------------------------------------------------------------------------\u001b[0m",
      "\u001b[1;31mTypeError\u001b[0m                                 Traceback (most recent call last)",
      "\u001b[1;32m<ipython-input-39-99822f9a6717>\u001b[0m in \u001b[0;36m<module>\u001b[1;34m\u001b[0m\n\u001b[0;32m      1\u001b[0m plan = build.box_behnken(\n\u001b[1;32m----> 2\u001b[1;33m     \u001b[0mparameters\u001b[0m\u001b[1;33m\u001b[0m\u001b[1;33m\u001b[0m\u001b[0m\n\u001b[0m\u001b[0;32m      3\u001b[0m )\n\u001b[0;32m      4\u001b[0m \u001b[1;33m\u001b[0m\u001b[0m\n\u001b[0;32m      5\u001b[0m \u001b[1;32mfor\u001b[0m \u001b[0mkey\u001b[0m \u001b[1;32min\u001b[0m \u001b[1;33m{\u001b[0m\u001b[1;34m\"gamma\"\u001b[0m\u001b[1;33m,\u001b[0m \u001b[1;34m\"kernel\"\u001b[0m\u001b[1;33m}\u001b[0m\u001b[1;33m:\u001b[0m\u001b[1;33m\u001b[0m\u001b[1;33m\u001b[0m\u001b[0m\n",
      "\u001b[1;32mD:\\Programmes\\Anaconda\\lib\\site-packages\\doepy\\build.py\u001b[0m in \u001b[0;36mbox_behnken\u001b[1;34m(d, center)\u001b[0m\n\u001b[0;32m    119\u001b[0m \t\"\"\"\n\u001b[0;32m    120\u001b[0m \u001b[1;33m\u001b[0m\u001b[0m\n\u001b[1;32m--> 121\u001b[1;33m     \u001b[1;32mreturn\u001b[0m \u001b[0mbuild_box_behnken\u001b[0m\u001b[1;33m(\u001b[0m\u001b[0md\u001b[0m\u001b[1;33m,\u001b[0m\u001b[0mcenter\u001b[0m\u001b[1;33m=\u001b[0m\u001b[0mcenter\u001b[0m\u001b[1;33m)\u001b[0m\u001b[1;33m\u001b[0m\u001b[1;33m\u001b[0m\u001b[0m\n\u001b[0m\u001b[0;32m    122\u001b[0m \u001b[1;33m\u001b[0m\u001b[0m\n\u001b[0;32m    123\u001b[0m \u001b[1;32mdef\u001b[0m \u001b[0mcentral_composite\u001b[0m\u001b[1;33m(\u001b[0m\u001b[0md\u001b[0m\u001b[1;33m,\u001b[0m\u001b[0mcenter\u001b[0m\u001b[1;33m=\u001b[0m\u001b[1;33m(\u001b[0m\u001b[1;36m2\u001b[0m\u001b[1;33m,\u001b[0m\u001b[1;36m2\u001b[0m\u001b[1;33m)\u001b[0m\u001b[1;33m,\u001b[0m\u001b[0malpha\u001b[0m\u001b[1;33m=\u001b[0m\u001b[1;34m'o'\u001b[0m\u001b[1;33m,\u001b[0m\u001b[0mface\u001b[0m\u001b[1;33m=\u001b[0m\u001b[1;34m'ccc'\u001b[0m\u001b[1;33m)\u001b[0m\u001b[1;33m:\u001b[0m\u001b[1;33m\u001b[0m\u001b[1;33m\u001b[0m\u001b[0m\n",
      "\u001b[1;32mD:\\Programmes\\Anaconda\\lib\\site-packages\\doepy\\doe_functions.py\u001b[0m in \u001b[0;36mbuild_box_behnken\u001b[1;34m(factor_level_ranges, center)\u001b[0m\n\u001b[0;32m    312\u001b[0m     \u001b[1;32mfor\u001b[0m \u001b[0mkey\u001b[0m \u001b[1;32min\u001b[0m \u001b[0mfactor_level_ranges\u001b[0m\u001b[1;33m:\u001b[0m\u001b[1;33m\u001b[0m\u001b[1;33m\u001b[0m\u001b[0m\n\u001b[0;32m    313\u001b[0m         \u001b[1;32mif\u001b[0m \u001b[0mlen\u001b[0m\u001b[1;33m(\u001b[0m\u001b[0mfactor_level_ranges\u001b[0m\u001b[1;33m[\u001b[0m\u001b[0mkey\u001b[0m\u001b[1;33m]\u001b[0m\u001b[1;33m)\u001b[0m\u001b[1;33m==\u001b[0m\u001b[1;36m2\u001b[0m\u001b[1;33m:\u001b[0m\u001b[1;33m\u001b[0m\u001b[1;33m\u001b[0m\u001b[0m\n\u001b[1;32m--> 314\u001b[1;33m             \u001b[0mfactor_level_ranges\u001b[0m\u001b[1;33m[\u001b[0m\u001b[0mkey\u001b[0m\u001b[1;33m]\u001b[0m\u001b[1;33m.\u001b[0m\u001b[0mappend\u001b[0m\u001b[1;33m(\u001b[0m\u001b[1;33m(\u001b[0m\u001b[0mfactor_level_ranges\u001b[0m\u001b[1;33m[\u001b[0m\u001b[0mkey\u001b[0m\u001b[1;33m]\u001b[0m\u001b[1;33m[\u001b[0m\u001b[1;36m0\u001b[0m\u001b[1;33m]\u001b[0m\u001b[1;33m+\u001b[0m\u001b[0mfactor_level_ranges\u001b[0m\u001b[1;33m[\u001b[0m\u001b[0mkey\u001b[0m\u001b[1;33m]\u001b[0m\u001b[1;33m[\u001b[0m\u001b[1;36m1\u001b[0m\u001b[1;33m]\u001b[0m\u001b[1;33m)\u001b[0m\u001b[1;33m/\u001b[0m\u001b[1;36m2\u001b[0m\u001b[1;33m)\u001b[0m\u001b[1;33m\u001b[0m\u001b[1;33m\u001b[0m\u001b[0m\n\u001b[0m\u001b[0;32m    315\u001b[0m             \u001b[0mfactor_level_ranges\u001b[0m\u001b[1;33m[\u001b[0m\u001b[0mkey\u001b[0m\u001b[1;33m]\u001b[0m\u001b[1;33m.\u001b[0m\u001b[0msort\u001b[0m\u001b[1;33m(\u001b[0m\u001b[1;33m)\u001b[0m\u001b[1;33m\u001b[0m\u001b[1;33m\u001b[0m\u001b[0m\n\u001b[0;32m    316\u001b[0m             \u001b[0mprint\u001b[0m\u001b[1;33m(\u001b[0m\u001b[1;34mf\"{key} had only two end points. Creating a mid-point by averaging them\"\u001b[0m\u001b[1;33m)\u001b[0m\u001b[1;33m\u001b[0m\u001b[1;33m\u001b[0m\u001b[0m\n",
      "\u001b[1;31mTypeError\u001b[0m: unsupported operand type(s) for /: 'str' and 'int'"
     ]
    }
   ],
   "source": [
    "plan = build.box_behnken(\n",
    "    parameters\n",
    ")\n",
    "\n",
    "for key in {\"gamma\", \"kernel\"}:\n",
    "    plan[key] = plan[key].apply(lambda elt: parameters[key][int(elt)])\n",
    "\n",
    "results = eval_plan(SVC, plan, X, y)\n",
    "enc = OrdinalEncoder()\n",
    "enc.fit(results.loc[:, results.columns != 'results'])\n",
    "indices = enc.transform(results.loc[:, results.columns != 'results'])\n",
    "display(results.head())\n",
    "shape = tuple([len(elt) for elt in enc.categories_])\n",
    "values = np.zeros(shape)\n",
    "display(values.shape)\n",
    "for idx, value in zip(indices, results['results']):\n",
    "    idx = tuple(map(int, idx))\n",
    "    values[idx] = value\n",
    "display(values)\n",
    "\n",
    "\n",
    "plt.matshow(values[:,:,0])\n",
    "plt.show()\n",
    "plt.close()\n",
    "plt.matshow(values[:,:,1])\n",
    "plt.show()\n",
    "plt.close()"
   ]
  },
  {
   "cell_type": "code",
   "execution_count": null,
   "metadata": {},
   "outputs": [],
   "source": []
  },
  {
   "cell_type": "code",
   "execution_count": null,
   "metadata": {},
   "outputs": [],
   "source": []
  },
  {
   "cell_type": "code",
   "execution_count": 28,
   "metadata": {},
   "outputs": [
    {
     "name": "stdout",
     "output_type": "stream",
     "text": [
      "Help on function plackett_burman in module doepy.build:\n",
      "\n",
      "plackett_burman(d)\n",
      "    Builds a Plackett-Burman dataframe from a dictionary of factor/level ranges.\n",
      "    Only min and max values of the range are required.\n",
      "    Example of the dictionary which is needed as the input:\n",
      "    {'Pressure':[50,70],'Temperature':[290, 350],'Flow rate':[0.9,1.0]}\n",
      "        \n",
      "        Plackett–Burman designs are experimental designs presented in 1946 by Robin L. Plackett and J. P. Burman while working in the British Ministry of Supply.(Their goal was to find experimental designs for investigating the dependence of some measured quantity on a number of independent variables (factors), each taking L levels, in such a way as to minimize the variance of the estimates of these dependencies using a limited number of experiments. \n",
      "        \n",
      "    Interactions between the factors were considered negligible. The solution to this problem is to find an experimental design where each combination of levels for any pair of factors appears the same number of times, throughout all the experimental runs (refer to table). \n",
      "        A complete factorial design would satisfy this criterion, but the idea was to find smaller designs.\n",
      "        \n",
      "        These designs are unique in that the number of trial conditions (rows) expands by multiples of four (e.g. 4, 8, 12, etc.). \n",
      "        The max number of columns allowed before a design increases the number of rows is always one less than the next higher multiple of four.\n",
      "\n"
     ]
    }
   ],
   "source": [
    "help(build.plackett_burman)  # Only numerical/range values"
   ]
  },
  {
   "cell_type": "code",
   "execution_count": null,
   "metadata": {},
   "outputs": [],
   "source": []
  },
  {
   "cell_type": "code",
   "execution_count": 29,
   "metadata": {},
   "outputs": [
    {
     "name": "stdout",
     "output_type": "stream",
     "text": [
      "Help on function sukharev in module doepy.build:\n",
      "\n",
      "sukharev(d, num_samples=None)\n",
      "    Builds a Sukharev-grid hypercube design dataframe from a dictionary of factor/level ranges.\n",
      "    Number of samples raised to the power of (1/dimension), where dimension is the number of variables, must be an integer.\n",
      "    Only min and max values of the range are required.\n",
      "    Example of the dictionary which is needed as the input:\n",
      "    {'Pressure':[50,70],'Temperature':[290, 350],'Flow rate':[0.9,1.0]}\n",
      "    num_samples: Number of samples to be generated\n",
      "        \n",
      "        Special property of this grid is that points are not placed on the boundaries of the hypercube, but at centroids of the  subcells constituted by individual samples. \n",
      "        This design offers optimal results for the covering radius regarding distances based on the max-norm.\n",
      "\n"
     ]
    }
   ],
   "source": [
    "help(build.sukharev)  # Only numerical/range values"
   ]
  },
  {
   "cell_type": "code",
   "execution_count": null,
   "metadata": {},
   "outputs": [],
   "source": []
  },
  {
   "cell_type": "code",
   "execution_count": 31,
   "metadata": {},
   "outputs": [
    {
     "name": "stdout",
     "output_type": "stream",
     "text": [
      "Help on function central_composite in module doepy.build:\n",
      "\n",
      "central_composite(d, center=(2, 2), alpha='o', face='ccc')\n",
      "    Builds a central-composite design dataframe from a dictionary of factor/level ranges.\n",
      "    Only min and max values of the range are required.\n",
      "    Example of the dictionary which is needed as the input:\n",
      "    {'Pressure':[50,70],'Temperature':[290, 350],'Flow rate':[0.9,1.0]}\n",
      "        \n",
      "        In statistics, a central composite design is an experimental design, useful in response surface methodology, for building a second order (quadratic) model for the response variable without needing to use a complete three-level factorial experiment.\n",
      "        The design consists of three distinct sets of experimental runs:\n",
      "                * A factorial (perhaps fractional) design in the factors studied, each having two levels;\n",
      "                * A set of center points, experimental runs whose values of each factor are the medians of the values used in the factorial portion. This point is often replicated in order to improve the precision of the experiment;\n",
      "                * A set of axial points, experimental runs identical to the centre points except for one factor, which will take on values both below and above the median of the two factorial levels, and typically both outside their range. All factors are varied in this way.\n",
      "\n"
     ]
    }
   ],
   "source": [
    "help(build.central_composite)  #  Only numerical/range values"
   ]
  },
  {
   "cell_type": "code",
   "execution_count": null,
   "metadata": {},
   "outputs": [],
   "source": []
  },
  {
   "cell_type": "code",
   "execution_count": 32,
   "metadata": {},
   "outputs": [
    {
     "name": "stdout",
     "output_type": "stream",
     "text": [
      "Help on function lhs in module doepy.build:\n",
      "\n",
      "lhs(d, num_samples=None, prob_distribution=None)\n",
      "    Builds a Latin Hypercube design dataframe from a dictionary of factor/level ranges.\n",
      "    Only min and max values of the range are required.\n",
      "    Example of the dictionary which is needed as the input:\n",
      "    {'Pressure':[50,70],'Temperature':[290, 350],'Flow rate':[0.9,1.0]}\n",
      "    num_samples: Number of samples to be generated\n",
      "    prob_distribution: Analytical probability distribution to be applied over the randomized sampling. \n",
      "        Accepts one of the following strings: \n",
      "    'Normal', 'Poisson', 'Exponential', 'Beta', 'Gamma'\n",
      "    \n",
      "        Latin hypercube sampling (LHS) is a form of stratified sampling that can be applied to multiple variables. The method commonly used to reduce the number or runs necessary for a Monte Carlo simulation to achieve a reasonably accurate random distribution. LHS can be incorporated into an existing Monte Carlo model fairly easily, and work with variables following any analytical probability distribution.\n",
      "\n"
     ]
    }
   ],
   "source": [
    "help(build.lhs)  # Only numerical/range values"
   ]
  },
  {
   "cell_type": "code",
   "execution_count": null,
   "metadata": {},
   "outputs": [],
   "source": []
  },
  {
   "cell_type": "code",
   "execution_count": 33,
   "metadata": {},
   "outputs": [
    {
     "name": "stdout",
     "output_type": "stream",
     "text": [
      "Help on function space_filling_lhs in module doepy.build:\n",
      "\n",
      "space_filling_lhs(d, num_samples=None)\n",
      "    Builds a space-filling Latin Hypercube design dataframe from a dictionary of factor/level ranges.\n",
      "    Only min and max values of the range are required.\n",
      "    Example of the dictionary which is needed as the input:\n",
      "    {'Pressure':[50,70],'Temperature':[290, 350],'Flow rate':[0.9,1.0]}\n",
      "    num_samples: Number of samples to be generated\n",
      "\n"
     ]
    }
   ],
   "source": [
    "help(build.space_filling_lhs)  #  Only numerical/range values"
   ]
  },
  {
   "cell_type": "code",
   "execution_count": null,
   "metadata": {},
   "outputs": [],
   "source": []
  },
  {
   "cell_type": "code",
   "execution_count": 34,
   "metadata": {},
   "outputs": [
    {
     "name": "stdout",
     "output_type": "stream",
     "text": [
      "Help on function random_k_means in module doepy.build:\n",
      "\n",
      "random_k_means(d, num_samples=None)\n",
      "    This function aims to produce a centroidal Voronoi tesselation of the unit random hypercube and generate k-means clusters.\n",
      "    Only min and max values of the range are required.\n",
      "    Example of the dictionary which is needed as the input:\n",
      "    {'Pressure':[50,70],'Temperature':[290, 350],'Flow rate':[0.9,1.0]}\n",
      "    num_samples: Number of samples to be generated\n",
      "\n"
     ]
    }
   ],
   "source": [
    "help(build.random_k_means)  #  Only numerical/range values"
   ]
  },
  {
   "cell_type": "code",
   "execution_count": null,
   "metadata": {},
   "outputs": [],
   "source": []
  },
  {
   "cell_type": "code",
   "execution_count": 35,
   "metadata": {},
   "outputs": [
    {
     "name": "stdout",
     "output_type": "stream",
     "text": [
      "Help on function maximin in module doepy.build:\n",
      "\n",
      "maximin(d, num_samples=None)\n",
      "    Builds a maximin reconstructed design dataframe from a dictionary of factor/level ranges.\n",
      "    Only min and max values of the range are required.\n",
      "    Example of the dictionary which is needed as the input:\n",
      "    {'Pressure':[50,70],'Temperature':[290, 350],'Flow rate':[0.9,1.0]}\n",
      "    num_samples: Number of samples to be generated\n",
      "        \n",
      "        This algorithm carries out a user-specified number of iterations to maximize the minimal distance of a point in the set to \n",
      "                * other points in the set, \n",
      "                * existing (fixed) points, \n",
      "                * the boundary of the hypercube.\n",
      "\n"
     ]
    }
   ],
   "source": [
    "help(build.maximin)  #  Only numerical/range values"
   ]
  },
  {
   "cell_type": "code",
   "execution_count": null,
   "metadata": {},
   "outputs": [],
   "source": []
  },
  {
   "cell_type": "code",
   "execution_count": 36,
   "metadata": {},
   "outputs": [
    {
     "name": "stdout",
     "output_type": "stream",
     "text": [
      "Help on function halton in module doepy.build:\n",
      "\n",
      "halton(d, num_samples=None)\n",
      "    Builds a quasirandom dataframe from a dictionary of factor/level ranges using prime numbers as seed.\n",
      "    Only min and max values of the range are required.\n",
      "    Example of the dictionary which is needed as the input:\n",
      "    {'Pressure':[50,70],'Temperature':[290, 350],'Flow rate':[0.9,1.0]}\n",
      "    num_samples: Number of samples to be generated\n",
      "    \n",
      "    Quasirandom sequence using the default initialization with first n prime numbers equal to the number of factors/variables.\n",
      "\n"
     ]
    }
   ],
   "source": [
    "help(build.halton)  #  Only numerical/range values"
   ]
  },
  {
   "cell_type": "code",
   "execution_count": null,
   "metadata": {},
   "outputs": [],
   "source": []
  },
  {
   "cell_type": "code",
   "execution_count": 37,
   "metadata": {},
   "outputs": [
    {
     "name": "stdout",
     "output_type": "stream",
     "text": [
      "Help on function uniform_random in module doepy.build:\n",
      "\n",
      "uniform_random(d, num_samples=None)\n",
      "    Builds a design dataframe with samples drawn from uniform random distribution based on a dictionary of factor/level ranges.\n",
      "    Only min and max values of the range are required.\n",
      "    Example of the dictionary which is needed as the input:\n",
      "    {'Pressure':[50,70],'Temperature':[290, 350],'Flow rate':[0.9,1.0]}\n",
      "    num_samples: Number of samples to be generated\n",
      "\n"
     ]
    }
   ],
   "source": [
    "help(build.uniform_random)  # Only numerical/range values"
   ]
  },
  {
   "cell_type": "code",
   "execution_count": null,
   "metadata": {},
   "outputs": [],
   "source": []
  },
  {
   "cell_type": "markdown",
   "metadata": {},
   "source": [
    "## Numerical values"
   ]
  },
  {
   "cell_type": "code",
   "execution_count": 10,
   "metadata": {
    "collapsed": true,
    "jupyter": {
     "outputs_hidden": true
    }
   },
   "outputs": [
    {
     "name": "stderr",
     "output_type": "stream",
     "text": [
      "100%|█████████████████████████████████████████████████████████████████████████████████████| 800/800 [00:30<00:00, 26.63it/s]\n"
     ]
    },
    {
     "data": {
      "text/html": [
       "<div>\n",
       "<style scoped>\n",
       "    .dataframe tbody tr th:only-of-type {\n",
       "        vertical-align: middle;\n",
       "    }\n",
       "\n",
       "    .dataframe tbody tr th {\n",
       "        vertical-align: top;\n",
       "    }\n",
       "\n",
       "    .dataframe thead th {\n",
       "        text-align: right;\n",
       "    }\n",
       "</style>\n",
       "<table border=\"1\" class=\"dataframe\">\n",
       "  <thead>\n",
       "    <tr style=\"text-align: right;\">\n",
       "      <th></th>\n",
       "      <th>C</th>\n",
       "      <th>l1_ratio</th>\n",
       "      <th>results</th>\n",
       "    </tr>\n",
       "  </thead>\n",
       "  <tbody>\n",
       "    <tr>\n",
       "      <th>0</th>\n",
       "      <td>1.000000e-08</td>\n",
       "      <td>0.0</td>\n",
       "      <td>0.57</td>\n",
       "    </tr>\n",
       "    <tr>\n",
       "      <th>1</th>\n",
       "      <td>1.000000e-07</td>\n",
       "      <td>0.0</td>\n",
       "      <td>0.60</td>\n",
       "    </tr>\n",
       "    <tr>\n",
       "      <th>2</th>\n",
       "      <td>1.000000e-06</td>\n",
       "      <td>0.0</td>\n",
       "      <td>0.55</td>\n",
       "    </tr>\n",
       "    <tr>\n",
       "      <th>3</th>\n",
       "      <td>1.000000e-05</td>\n",
       "      <td>0.0</td>\n",
       "      <td>0.60</td>\n",
       "    </tr>\n",
       "    <tr>\n",
       "      <th>4</th>\n",
       "      <td>1.000000e-04</td>\n",
       "      <td>0.0</td>\n",
       "      <td>0.77</td>\n",
       "    </tr>\n",
       "  </tbody>\n",
       "</table>\n",
       "</div>"
      ],
      "text/plain": [
       "              C  l1_ratio  results\n",
       "0  1.000000e-08       0.0     0.57\n",
       "1  1.000000e-07       0.0     0.60\n",
       "2  1.000000e-06       0.0     0.55\n",
       "3  1.000000e-05       0.0     0.60\n",
       "4  1.000000e-04       0.0     0.77"
      ]
     },
     "metadata": {},
     "output_type": "display_data"
    },
    {
     "data": {
      "text/plain": [
       "(16, 50)"
      ]
     },
     "metadata": {},
     "output_type": "display_data"
    },
    {
     "data": {
      "text/plain": [
       "array([[0.57, 0.5 , 0.5 , 0.5 , 0.5 , 0.5 , 0.5 , 0.5 , 0.5 , 0.5 , 0.5 ,\n",
       "        0.5 , 0.5 , 0.5 , 0.5 , 0.5 , 0.5 , 0.5 , 0.5 , 0.5 , 0.5 , 0.5 ,\n",
       "        0.5 , 0.5 , 0.5 , 0.5 , 0.5 , 0.5 , 0.5 , 0.5 , 0.5 , 0.5 , 0.5 ,\n",
       "        0.5 , 0.5 , 0.5 , 0.5 , 0.5 , 0.5 , 0.5 , 0.5 , 0.5 , 0.5 , 0.5 ,\n",
       "        0.5 , 0.5 , 0.5 , 0.5 , 0.5 , 0.5 ],\n",
       "       [0.6 , 0.5 , 0.5 , 0.5 , 0.5 , 0.5 , 0.5 , 0.5 , 0.5 , 0.5 , 0.5 ,\n",
       "        0.5 , 0.5 , 0.5 , 0.5 , 0.5 , 0.5 , 0.5 , 0.5 , 0.5 , 0.5 , 0.5 ,\n",
       "        0.5 , 0.5 , 0.5 , 0.5 , 0.5 , 0.5 , 0.5 , 0.5 , 0.5 , 0.5 , 0.5 ,\n",
       "        0.5 , 0.5 , 0.5 , 0.5 , 0.5 , 0.5 , 0.5 , 0.5 , 0.5 , 0.5 , 0.5 ,\n",
       "        0.5 , 0.5 , 0.5 , 0.5 , 0.5 , 0.5 ],\n",
       "       [0.55, 0.5 , 0.5 , 0.5 , 0.5 , 0.5 , 0.5 , 0.5 , 0.5 , 0.5 , 0.5 ,\n",
       "        0.5 , 0.5 , 0.5 , 0.5 , 0.5 , 0.5 , 0.5 , 0.5 , 0.5 , 0.5 , 0.5 ,\n",
       "        0.5 , 0.5 , 0.5 , 0.5 , 0.5 , 0.5 , 0.5 , 0.5 , 0.5 , 0.5 , 0.5 ,\n",
       "        0.5 , 0.5 , 0.5 , 0.5 , 0.5 , 0.5 , 0.5 , 0.5 , 0.5 , 0.5 , 0.5 ,\n",
       "        0.5 , 0.5 , 0.5 , 0.5 , 0.5 , 0.5 ],\n",
       "       [0.6 , 0.5 , 0.5 , 0.5 , 0.5 , 0.5 , 0.5 , 0.5 , 0.5 , 0.5 , 0.5 ,\n",
       "        0.5 , 0.5 , 0.5 , 0.5 , 0.5 , 0.5 , 0.5 , 0.5 , 0.5 , 0.5 , 0.5 ,\n",
       "        0.5 , 0.5 , 0.5 , 0.5 , 0.5 , 0.5 , 0.5 , 0.5 , 0.5 , 0.5 , 0.5 ,\n",
       "        0.5 , 0.5 , 0.5 , 0.5 , 0.5 , 0.5 , 0.5 , 0.5 , 0.5 , 0.5 , 0.5 ,\n",
       "        0.5 , 0.5 , 0.5 , 0.5 , 0.5 , 0.5 ],\n",
       "       [0.77, 0.5 , 0.5 , 0.5 , 0.5 , 0.5 , 0.5 , 0.5 , 0.5 , 0.5 , 0.5 ,\n",
       "        0.5 , 0.5 , 0.5 , 0.5 , 0.5 , 0.5 , 0.5 , 0.5 , 0.5 , 0.5 , 0.5 ,\n",
       "        0.5 , 0.5 , 0.5 , 0.5 , 0.5 , 0.5 , 0.5 , 0.5 , 0.5 , 0.5 , 0.5 ,\n",
       "        0.5 , 0.5 , 0.5 , 0.5 , 0.5 , 0.5 , 0.5 , 0.5 , 0.5 , 0.5 , 0.5 ,\n",
       "        0.5 , 0.5 , 0.5 , 0.5 , 0.5 , 0.5 ],\n",
       "       [0.8 , 0.83, 0.5 , 0.5 , 0.5 , 0.5 , 0.5 , 0.5 , 0.5 , 0.5 , 0.5 ,\n",
       "        0.5 , 0.5 , 0.5 , 0.5 , 0.5 , 0.5 , 0.5 , 0.5 , 0.5 , 0.5 , 0.5 ,\n",
       "        0.5 , 0.5 , 0.5 , 0.5 , 0.5 , 0.5 , 0.5 , 0.5 , 0.5 , 0.5 , 0.5 ,\n",
       "        0.5 , 0.5 , 0.5 , 0.5 , 0.5 , 0.5 , 0.5 , 0.5 , 0.5 , 0.5 , 0.5 ,\n",
       "        0.5 , 0.5 , 0.5 , 0.5 , 0.5 , 0.5 ],\n",
       "       [0.78, 0.81, 0.83, 0.83, 0.83, 0.83, 0.83, 0.83, 0.83, 0.83, 0.83,\n",
       "        0.83, 0.83, 0.82, 0.82, 0.75, 0.68, 0.63, 0.56, 0.5 , 0.5 , 0.5 ,\n",
       "        0.5 , 0.5 , 0.5 , 0.5 , 0.5 , 0.5 , 0.5 , 0.5 , 0.5 , 0.5 , 0.5 ,\n",
       "        0.5 , 0.5 , 0.5 , 0.5 , 0.5 , 0.5 , 0.5 , 0.5 , 0.5 , 0.5 , 0.5 ,\n",
       "        0.5 , 0.5 , 0.5 , 0.5 , 0.5 , 0.5 ],\n",
       "       [0.76, 0.77, 0.77, 0.78, 0.8 , 0.8 , 0.81, 0.81, 0.82, 0.83, 0.83,\n",
       "        0.83, 0.83, 0.84, 0.84, 0.84, 0.85, 0.85, 0.86, 0.86, 0.86, 0.87,\n",
       "        0.86, 0.86, 0.86, 0.85, 0.85, 0.86, 0.86, 0.86, 0.86, 0.86, 0.86,\n",
       "        0.86, 0.86, 0.86, 0.86, 0.86, 0.86, 0.86, 0.86, 0.86, 0.86, 0.86,\n",
       "        0.86, 0.86, 0.86, 0.86, 0.86, 0.86],\n",
       "       [0.73, 0.73, 0.73, 0.73, 0.74, 0.74, 0.74, 0.73, 0.73, 0.73, 0.73,\n",
       "        0.73, 0.73, 0.73, 0.73, 0.73, 0.73, 0.73, 0.73, 0.73, 0.73, 0.73,\n",
       "        0.74, 0.74, 0.73, 0.73, 0.73, 0.73, 0.73, 0.73, 0.73, 0.73, 0.74,\n",
       "        0.74, 0.74, 0.75, 0.75, 0.75, 0.75, 0.75, 0.75, 0.76, 0.76, 0.76,\n",
       "        0.76, 0.76, 0.76, 0.76, 0.76, 0.76],\n",
       "       [0.71, 0.71, 0.71, 0.71, 0.71, 0.71, 0.71, 0.71, 0.71, 0.71, 0.72,\n",
       "        0.72, 0.72, 0.72, 0.72, 0.72, 0.72, 0.72, 0.72, 0.72, 0.72, 0.72,\n",
       "        0.72, 0.72, 0.72, 0.72, 0.72, 0.72, 0.72, 0.72, 0.72, 0.72, 0.72,\n",
       "        0.72, 0.72, 0.72, 0.72, 0.72, 0.72, 0.72, 0.72, 0.72, 0.72, 0.72,\n",
       "        0.72, 0.72, 0.72, 0.72, 0.72, 0.72],\n",
       "       [0.71, 0.71, 0.71, 0.71, 0.71, 0.71, 0.71, 0.71, 0.71, 0.71, 0.71,\n",
       "        0.71, 0.71, 0.71, 0.71, 0.71, 0.71, 0.71, 0.71, 0.71, 0.71, 0.71,\n",
       "        0.71, 0.71, 0.71, 0.71, 0.71, 0.71, 0.71, 0.71, 0.71, 0.71, 0.71,\n",
       "        0.71, 0.71, 0.71, 0.71, 0.71, 0.71, 0.71, 0.71, 0.71, 0.71, 0.71,\n",
       "        0.71, 0.71, 0.71, 0.71, 0.71, 0.71],\n",
       "       [0.71, 0.71, 0.71, 0.71, 0.71, 0.71, 0.71, 0.71, 0.71, 0.71, 0.71,\n",
       "        0.71, 0.71, 0.71, 0.71, 0.71, 0.71, 0.71, 0.71, 0.71, 0.71, 0.71,\n",
       "        0.71, 0.71, 0.71, 0.71, 0.71, 0.71, 0.71, 0.71, 0.71, 0.71, 0.71,\n",
       "        0.71, 0.71, 0.71, 0.71, 0.71, 0.71, 0.71, 0.71, 0.71, 0.71, 0.71,\n",
       "        0.71, 0.71, 0.71, 0.71, 0.71, 0.71],\n",
       "       [0.71, 0.71, 0.71, 0.71, 0.71, 0.71, 0.71, 0.71, 0.71, 0.71, 0.71,\n",
       "        0.71, 0.71, 0.71, 0.71, 0.71, 0.71, 0.71, 0.71, 0.71, 0.71, 0.71,\n",
       "        0.71, 0.71, 0.71, 0.71, 0.71, 0.71, 0.71, 0.71, 0.71, 0.71, 0.71,\n",
       "        0.71, 0.71, 0.71, 0.71, 0.71, 0.71, 0.71, 0.71, 0.71, 0.71, 0.71,\n",
       "        0.71, 0.71, 0.71, 0.71, 0.71, 0.71],\n",
       "       [0.71, 0.71, 0.71, 0.71, 0.71, 0.71, 0.71, 0.71, 0.71, 0.71, 0.71,\n",
       "        0.71, 0.71, 0.71, 0.71, 0.71, 0.71, 0.71, 0.71, 0.71, 0.71, 0.71,\n",
       "        0.71, 0.71, 0.71, 0.71, 0.71, 0.71, 0.71, 0.71, 0.71, 0.71, 0.71,\n",
       "        0.71, 0.71, 0.71, 0.71, 0.71, 0.71, 0.71, 0.71, 0.71, 0.71, 0.71,\n",
       "        0.71, 0.71, 0.71, 0.71, 0.71, 0.71],\n",
       "       [0.71, 0.71, 0.71, 0.71, 0.71, 0.71, 0.71, 0.71, 0.71, 0.71, 0.71,\n",
       "        0.71, 0.71, 0.71, 0.71, 0.71, 0.71, 0.71, 0.71, 0.71, 0.71, 0.71,\n",
       "        0.71, 0.71, 0.71, 0.71, 0.71, 0.71, 0.71, 0.71, 0.71, 0.71, 0.71,\n",
       "        0.71, 0.71, 0.71, 0.71, 0.71, 0.71, 0.71, 0.71, 0.71, 0.71, 0.71,\n",
       "        0.71, 0.71, 0.71, 0.71, 0.71, 0.71],\n",
       "       [0.71, 0.71, 0.71, 0.71, 0.71, 0.71, 0.71, 0.71, 0.71, 0.71, 0.71,\n",
       "        0.71, 0.71, 0.71, 0.71, 0.71, 0.71, 0.71, 0.71, 0.71, 0.71, 0.71,\n",
       "        0.71, 0.71, 0.71, 0.71, 0.71, 0.71, 0.71, 0.71, 0.71, 0.71, 0.71,\n",
       "        0.71, 0.71, 0.71, 0.71, 0.71, 0.71, 0.71, 0.71, 0.71, 0.71, 0.71,\n",
       "        0.71, 0.71, 0.71, 0.71, 0.71, 0.71]])"
      ]
     },
     "metadata": {},
     "output_type": "display_data"
    },
    {
     "data": {
      "image/png": "[encoded data removed]",
      "text/plain": [
       "<Figure size 900x288 with 1 Axes>"
      ]
     },
     "metadata": {
      "needs_background": "light"
     },
     "output_type": "display_data"
    }
   ],
   "source": [
    "parameters ={\n",
    "    'C':[float(\"1e{}\".format(i)) for i in range(-8, 8)], \n",
    "    'l1_ratio':np.linspace(0, 1, 50)}\n",
    "\n",
    "plan = build.full_fact(\n",
    "    parameters\n",
    ")\n",
    "\n",
    "results = eval_plan(LogisticRegression, plan, X, y, penalty=\"elasticnet\", solver=\"saga\", max_iter=500)\n",
    "enc = OrdinalEncoder()\n",
    "enc.fit(results.loc[:, results.columns != 'results'])\n",
    "indices = enc.transform(results.loc[:, results.columns != 'results'])\n",
    "display(results.head())\n",
    "shape = tuple([len(elt) for elt in enc.categories_])\n",
    "values = np.zeros(shape)\n",
    "display(values.shape)\n",
    "for idx, value in zip(indices, results['results']):\n",
    "    idx = tuple(map(int, idx))\n",
    "    values[idx] = value\n",
    "display(values)\n",
    "plt.matshow(values[:,:])\n",
    "plt.show()\n",
    "plt.close()"
   ]
  },
  {
   "cell_type": "code",
   "execution_count": 12,
   "metadata": {},
   "outputs": [],
   "source": [
    "results[\"ctimesl1\"] = results[\"C\"]*results[\"l1_ratio\"]"
   ]
  },
  {
   "cell_type": "code",
   "execution_count": 14,
   "metadata": {},
   "outputs": [
    {
     "data": {
      "text/plain": [
       "LinearRegression(copy_X=True, fit_intercept=True, n_jobs=None, normalize=False)"
      ]
     },
     "execution_count": 14,
     "metadata": {},
     "output_type": "execute_result"
    }
   ],
   "source": [
    "from sklearn.linear_model import LinearRegression\n",
    "reg = LinearRegression()\n",
    "reg.fit(results[[\"C\", \"l1_ratio\", \"ctimesl1\"]], results[\"results\"])"
   ]
  },
  {
   "cell_type": "code",
   "execution_count": 15,
   "metadata": {},
   "outputs": [],
   "source": [
    "grid = np.meshgrid(np.linspace(0, 1e8, 1000), np.linspace(0, 1, 1000))"
   ]
  },
  {
   "cell_type": "code",
   "execution_count": 25,
   "metadata": {},
   "outputs": [],
   "source": [
    "features = np.array([grid[0].ravel(), grid[1].ravel(), grid[0].ravel()*grid[1].ravel()])"
   ]
  },
  {
   "cell_type": "code",
   "execution_count": 32,
   "metadata": {},
   "outputs": [],
   "source": [
    "features = features.reshape((-1,3))"
   ]
  },
  {
   "cell_type": "code",
   "execution_count": 33,
   "metadata": {},
   "outputs": [],
   "source": [
    "pred = reg.predict(features)"
   ]
  },
  {
   "cell_type": "code",
   "execution_count": 36,
   "metadata": {},
   "outputs": [
    {
     "data": {
      "image/png": "[encoded data removed]",
      "text/plain": [
       "<Figure size 288x288 with 1 Axes>"
      ]
     },
     "metadata": {
      "needs_background": "light"
     },
     "output_type": "display_data"
    }
   ],
   "source": [
    "plt.matshow(pred.reshape((1000, 1000)))\n",
    "plt.show()\n",
    "plt.close()"
   ]
  },
  {
   "cell_type": "code",
   "execution_count": 75,
   "metadata": {},
   "outputs": [],
   "source": [
    "plans = {build.full_fact, build.frac_fact_res, build.plackett_burman, \n",
    "         build.sukharev, build.box_behnken} | {\n",
    "    lambda *args, **kwargs: build.central_composite(*args, **kwargs, face=face) for face in {'ccf', 'cci', 'ccc'}} | {\n",
    "    build.lhs,\n",
    "    build.space_filling_lhs,\n",
    "    build.random_k_means,\n",
    "    build.maximin,\n",
    "    build.halton,\n",
    "    build.uniform_random\n",
    "}"
   ]
  },
  {
   "cell_type": "code",
   "execution_count": null,
   "metadata": {},
   "outputs": [],
   "source": [
    "errors = list()\n",
    "good = list()\n",
    "for build_plan in plans:\n",
    "    try:\n",
    "        parameters ={\n",
    "            'C':[float(\"1e{}\".format(i)) for i in (-8, 8)], \n",
    "            'l1_ratio':[0, 1]}\n",
    "\n",
    "        p = build_plan(parameters)\n",
    "        display(p.head())\n",
    "        print(build_plan)\n",
    "        good.append((build_plan, p))\n",
    "    except Exception as e:\n",
    "        print(\"ERROR: \\t{}\".format(build_plan), e)\n",
    "        errors.append((build_plan, e))"
   ]
  },
  {
   "cell_type": "code",
   "execution_count": null,
   "metadata": {
    "collapsed": true,
    "jupyter": {
     "outputs_hidden": true
    }
   },
   "outputs": [],
   "source": []
  },
  {
   "cell_type": "code",
   "execution_count": null,
   "metadata": {
    "collapsed": true,
    "jupyter": {
     "outputs_hidden": true
    }
   },
   "outputs": [],
   "source": []
  },
  {
   "cell_type": "code",
   "execution_count": null,
   "metadata": {},
   "outputs": [],
   "source": []
  },
  {
   "cell_type": "markdown",
   "metadata": {},
   "source": [
    "# Trash"
   ]
  },
  {
   "cell_type": "markdown",
   "metadata": {},
   "source": [
    "## Numerical values"
   ]
  },
  {
   "cell_type": "code",
   "execution_count": null,
   "metadata": {},
   "outputs": [],
   "source": [
    "\n",
    "\n",
    "plan = build.full_fact(\n",
    "    parameters\n",
    ")\n",
    "\n",
    "results = eval_plan(clf, plan, X, y, penalty=\"elasticnet\", solver=\"saga\", max_iter=500)\n",
    "enc = OrdinalEncoder()\n",
    "enc.fit(results.loc[:, results.columns != 'results'])\n",
    "indices = enc.transform(results.loc[:, results.columns != 'results'])\n",
    "display(results.head())\n",
    "shape = tuple([len(elt) for elt in enc.categories_])\n",
    "values = np.zeros(shape)\n",
    "display(values.shape)\n",
    "for idx, value in zip(indices, results['results']):\n",
    "    idx = tuple(map(int, idx))\n",
    "    values[idx] = value\n",
    "display(values)\n",
    "plt.matshow(values[:,:])\n",
    "plt.show()\n",
    "plt.close()"
   ]
  },
  {
   "cell_type": "code",
   "execution_count": null,
   "metadata": {},
   "outputs": [],
   "source": [
    "results[\"ctimesl1\"] = results[\"C\"]*results[\"l1_ratio\"]"
   ]
  },
  {
   "cell_type": "code",
   "execution_count": null,
   "metadata": {},
   "outputs": [],
   "source": [
    "from sklearn.linear_model import LinearRegression\n",
    "reg = LinearRegression()\n",
    "reg.fit(results[[\"C\", \"l1_ratio\", \"ctimesl1\"]], results[\"results\"])"
   ]
  },
  {
   "cell_type": "code",
   "execution_count": 15,
   "metadata": {},
   "outputs": [],
   "source": [
    "grid = np.meshgrid(np.linspace(0, 1e8, 1000), np.linspace(0, 1, 1000))"
   ]
  },
  {
   "cell_type": "code",
   "execution_count": 25,
   "metadata": {},
   "outputs": [],
   "source": [
    "features = np.array([grid[0].ravel(), grid[1].ravel(), grid[0].ravel()*grid[1].ravel()])"
   ]
  },
  {
   "cell_type": "code",
   "execution_count": 32,
   "metadata": {},
   "outputs": [],
   "source": [
    "features = features.reshape((-1,3))"
   ]
  },
  {
   "cell_type": "code",
   "execution_count": 33,
   "metadata": {},
   "outputs": [],
   "source": [
    "pred = reg.predict(features)"
   ]
  },
  {
   "cell_type": "code",
   "execution_count": 36,
   "metadata": {},
   "outputs": [
    {
     "data": {
      "image/png": "[encoded data removed]",
      "text/plain": [
       "<Figure size 288x288 with 1 Axes>"
      ]
     },
     "metadata": {
      "needs_background": "light"
     },
     "output_type": "display_data"
    }
   ],
   "source": [
    "plt.matshow(pred.reshape((1000, 1000)))\n",
    "plt.show()\n",
    "plt.close()"
   ]
  },
  {
   "cell_type": "code",
   "execution_count": 75,
   "metadata": {},
   "outputs": [],
   "source": [
    "plans = {build.full_fact, build.frac_fact_res, build.plackett_burman, \n",
    "         build.sukharev, build.box_behnken} | {\n",
    "    lambda *args, **kwargs: build.central_composite(*args, **kwargs, face=face) for face in {'ccf', 'cci', 'ccc'}} | {\n",
    "    build.lhs,\n",
    "    build.space_filling_lhs,\n",
    "    build.random_k_means,\n",
    "    build.maximin,\n",
    "    build.halton,\n",
    "    build.uniform_random\n",
    "}"
   ]
  },
  {
   "cell_type": "code",
   "execution_count": null,
   "metadata": {},
   "outputs": [],
   "source": [
    "errors = list()\n",
    "good = list()\n",
    "for build_plan in plans:\n",
    "    try:\n",
    "        parameters ={\n",
    "            'C':[float(\"1e{}\".format(i)) for i in (-8, 8)], \n",
    "            'l1_ratio':[0, 1]}\n",
    "\n",
    "        p = build_plan(parameters)\n",
    "        display(p.head())\n",
    "        print(build_plan)\n",
    "        good.append((build_plan, p))\n",
    "    except Exception as e:\n",
    "        print(\"ERROR: \\t{}\".format(build_plan), e)\n",
    "        errors.append((build_plan, e))"
   ]
  },
  {
   "cell_type": "code",
   "execution_count": null,
   "metadata": {},
   "outputs": [],
   "source": []
  },
  {
   "cell_type": "code",
   "execution_count": null,
   "metadata": {},
   "outputs": [],
   "source": []
  },
  {
   "cell_type": "code",
   "execution_count": null,
   "metadata": {},
   "outputs": [],
   "source": []
  }
 ],
 "metadata": {
  "kernelspec": {
   "display_name": "Python 3",
   "language": "python",
   "name": "python3"
  },
  "language_info": {
   "codemirror_mode": {
    "name": "ipython",
    "version": 3
   },
   "file_extension": ".py",
   "mimetype": "text/x-python",
   "name": "python",
   "nbconvert_exporter": "python",
   "pygments_lexer": "ipython3",
   "version": "3.7.4"
  }
 },
 "nbformat": 4,
 "nbformat_minor": 4
}
