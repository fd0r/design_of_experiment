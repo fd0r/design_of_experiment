{
 "cells": [
  {
   "cell_type": "markdown",
   "metadata": {},
   "source": [
    "# __TODO__\n",
    "## Imports"
   ]
  },
  {
   "cell_type": "code",
   "execution_count": 38,
   "metadata": {},
   "outputs": [],
   "source": [
    "from sklearn.utils.fixes import loguniform\n",
    "import numpy as np\n",
    "import doepy\n",
    "from doepy import build\n",
    "import pyDOE2\n",
    "import pandas as pd\n",
    "from tqdm import tqdm\n",
    "from sklearn.model_selection import cross_val_score\n",
    "from sklearn.preprocessing import LabelEncoder\n",
    "from sklearn.preprocessing import OrdinalEncoder\n",
    "from sklearn.datasets import make_classification\n",
    "from sklearn.svm import SVC\n",
    "from sklearn.linear_model import LogisticRegression\n",
    "import matplotlib.pyplot as plt\n",
    "import warnings\n",
    "from copy import deepcopy\n",
    "warnings.filterwarnings(\"ignore\")\n",
    "%matplotlib inline"
   ]
  },
  {
   "cell_type": "markdown",
   "metadata": {},
   "source": [
    "## Synthetic data"
   ]
  },
  {
   "cell_type": "code",
   "execution_count": 39,
   "metadata": {},
   "outputs": [],
   "source": [
    "X, y = make_classification(random_state=420)"
   ]
  },
  {
   "cell_type": "code",
   "execution_count": 40,
   "metadata": {},
   "outputs": [
    {
     "data": {
      "text/plain": [
       "(100, 20)"
      ]
     },
     "execution_count": 40,
     "metadata": {},
     "output_type": "execute_result"
    }
   ],
   "source": [
    "X.shape"
   ]
  },
  {
   "cell_type": "markdown",
   "metadata": {},
   "source": [
    "## Functions"
   ]
  },
  {
   "cell_type": "code",
   "execution_count": 41,
   "metadata": {},
   "outputs": [],
   "source": [
    "def eval_hyper_parameter(clf_class, params, X, y, **kwargs):\n",
    "    clf_ = clf_class(**params, **kwargs)\n",
    "    return np.mean(cross_val_score(clf_, X, y))\n",
    "\n",
    "def eval_plan(clf_class, plan, X, y, key=\"results\", **kwargs):\n",
    "    with tqdm(total=len(plan)) as pbar:\n",
    "        def to_eval(params): \n",
    "            res = eval_hyper_parameter(clf_class, params, X, y, **kwargs)\n",
    "            pbar.update(1)\n",
    "            return res\n",
    "        plan[key] = plan.apply(to_eval, axis=1)\n",
    "    return plan"
   ]
  },
  {
   "cell_type": "markdown",
   "metadata": {},
   "source": [
    "## Categorical values"
   ]
  },
  {
   "cell_type": "code",
   "execution_count": 42,
   "metadata": {},
   "outputs": [],
   "source": [
    "parameters = {\n",
    "    'C':[float(\"1e{}\".format(i)) for i in range(-8, 8)], \n",
    "    'l1_ratio':list(np.linspace(0, 1, 50))}"
   ]
  },
  {
   "cell_type": "code",
   "execution_count": 43,
   "metadata": {},
   "outputs": [],
   "source": [
    "clf = LogisticRegression"
   ]
  },
  {
   "cell_type": "markdown",
   "metadata": {},
   "source": [
    "# Full plan\n",
    "Full factorial design."
   ]
  },
  {
   "cell_type": "code",
   "execution_count": 44,
   "metadata": {},
   "outputs": [
    {
     "name": "stdout",
     "output_type": "stream",
     "text": [
      "Help on function full_fact in module doepy.build:\n",
      "\n",
      "full_fact(d)\n",
      "    Builds a full factorial design dataframe from a dictionary of factor/level ranges\n",
      "    Example of the dictionary which is needed as the input:\n",
      "    {'Pressure':[50,60,70],'Temperature':[290, 320, 350],'Flow rate':[0.9,1.0]}\n",
      "\n"
     ]
    }
   ],
   "source": [
    "help(build.full_fact)"
   ]
  },
  {
   "cell_type": "code",
   "execution_count": 76,
   "metadata": {},
   "outputs": [
    {
     "data": {
      "image/png": "[encoded data removed]",
      "text/plain": [
       "<Figure size 432x288 with 1 Axes>"
      ]
     },
     "metadata": {
      "needs_background": "light"
     },
     "output_type": "display_data"
    },
    {
     "name": "stderr",
     "output_type": "stream",
     "text": [
      "100%|█████████████████████████████████████████████████████████████████████████████████████| 800/800 [00:40<00:00,  8.84it/s]\n"
     ]
    },
    {
     "data": {
      "text/html": [
       "<div>\n",
       "<style scoped>\n",
       "    .dataframe tbody tr th:only-of-type {\n",
       "        vertical-align: middle;\n",
       "    }\n",
       "\n",
       "    .dataframe tbody tr th {\n",
       "        vertical-align: top;\n",
       "    }\n",
       "\n",
       "    .dataframe thead th {\n",
       "        text-align: right;\n",
       "    }\n",
       "</style>\n",
       "<table border=\"1\" class=\"dataframe\">\n",
       "  <thead>\n",
       "    <tr style=\"text-align: right;\">\n",
       "      <th></th>\n",
       "      <th>C</th>\n",
       "      <th>l1_ratio</th>\n",
       "      <th>results</th>\n",
       "    </tr>\n",
       "  </thead>\n",
       "  <tbody>\n",
       "    <tr>\n",
       "      <th>0</th>\n",
       "      <td>1.000000e-08</td>\n",
       "      <td>0.0</td>\n",
       "      <td>0.64</td>\n",
       "    </tr>\n",
       "    <tr>\n",
       "      <th>1</th>\n",
       "      <td>1.000000e-07</td>\n",
       "      <td>0.0</td>\n",
       "      <td>0.55</td>\n",
       "    </tr>\n",
       "    <tr>\n",
       "      <th>2</th>\n",
       "      <td>1.000000e-06</td>\n",
       "      <td>0.0</td>\n",
       "      <td>0.63</td>\n",
       "    </tr>\n",
       "    <tr>\n",
       "      <th>3</th>\n",
       "      <td>1.000000e-05</td>\n",
       "      <td>0.0</td>\n",
       "      <td>0.58</td>\n",
       "    </tr>\n",
       "    <tr>\n",
       "      <th>4</th>\n",
       "      <td>1.000000e-04</td>\n",
       "      <td>0.0</td>\n",
       "      <td>0.91</td>\n",
       "    </tr>\n",
       "  </tbody>\n",
       "</table>\n",
       "</div>"
      ],
      "text/plain": [
       "              C  l1_ratio  results\n",
       "0  1.000000e-08       0.0     0.64\n",
       "1  1.000000e-07       0.0     0.55\n",
       "2  1.000000e-06       0.0     0.63\n",
       "3  1.000000e-05       0.0     0.58\n",
       "4  1.000000e-04       0.0     0.91"
      ]
     },
     "metadata": {},
     "output_type": "display_data"
    },
    {
     "data": {
      "text/plain": [
       "(16, 50)"
      ]
     },
     "metadata": {},
     "output_type": "display_data"
    },
    {
     "data": {
      "text/plain": [
       "array([[0.64, 0.5 , 0.5 , 0.5 , 0.5 , 0.5 , 0.5 , 0.5 , 0.5 , 0.5 , 0.5 ,\n",
       "        0.5 , 0.5 , 0.5 , 0.5 , 0.5 , 0.5 , 0.5 , 0.5 , 0.5 , 0.5 , 0.5 ,\n",
       "        0.5 , 0.5 , 0.5 , 0.5 , 0.5 , 0.5 , 0.5 , 0.5 , 0.5 , 0.5 , 0.5 ,\n",
       "        0.5 , 0.5 , 0.5 , 0.5 , 0.5 , 0.5 , 0.5 , 0.5 , 0.5 , 0.5 , 0.5 ,\n",
       "        0.5 , 0.5 , 0.5 , 0.5 , 0.5 , 0.5 ],\n",
       "       [0.55, 0.5 , 0.5 , 0.5 , 0.5 , 0.5 , 0.5 , 0.5 , 0.5 , 0.5 , 0.5 ,\n",
       "        0.5 , 0.5 , 0.5 , 0.5 , 0.5 , 0.5 , 0.5 , 0.5 , 0.5 , 0.5 , 0.5 ,\n",
       "        0.5 , 0.5 , 0.5 , 0.5 , 0.5 , 0.5 , 0.5 , 0.5 , 0.5 , 0.5 , 0.5 ,\n",
       "        0.5 , 0.5 , 0.5 , 0.5 , 0.5 , 0.5 , 0.5 , 0.5 , 0.5 , 0.5 , 0.5 ,\n",
       "        0.5 , 0.5 , 0.5 , 0.5 , 0.5 , 0.5 ],\n",
       "       [0.63, 0.5 , 0.5 , 0.5 , 0.5 , 0.5 , 0.5 , 0.5 , 0.5 , 0.5 , 0.5 ,\n",
       "        0.5 , 0.5 , 0.5 , 0.5 , 0.5 , 0.5 , 0.5 , 0.5 , 0.5 , 0.5 , 0.5 ,\n",
       "        0.5 , 0.5 , 0.5 , 0.5 , 0.5 , 0.5 , 0.5 , 0.5 , 0.5 , 0.5 , 0.5 ,\n",
       "        0.5 , 0.5 , 0.5 , 0.5 , 0.5 , 0.5 , 0.5 , 0.5 , 0.5 , 0.5 , 0.5 ,\n",
       "        0.5 , 0.5 , 0.5 , 0.5 , 0.5 , 0.5 ],\n",
       "       [0.58, 0.5 , 0.5 , 0.5 , 0.5 , 0.5 , 0.5 , 0.5 , 0.5 , 0.5 , 0.5 ,\n",
       "        0.5 , 0.5 , 0.5 , 0.5 , 0.5 , 0.5 , 0.5 , 0.5 , 0.5 , 0.5 , 0.5 ,\n",
       "        0.5 , 0.5 , 0.5 , 0.5 , 0.5 , 0.5 , 0.5 , 0.5 , 0.5 , 0.5 , 0.5 ,\n",
       "        0.5 , 0.5 , 0.5 , 0.5 , 0.5 , 0.5 , 0.5 , 0.5 , 0.5 , 0.5 , 0.5 ,\n",
       "        0.5 , 0.5 , 0.5 , 0.5 , 0.5 , 0.5 ],\n",
       "       [0.91, 0.5 , 0.5 , 0.5 , 0.5 , 0.5 , 0.5 , 0.5 , 0.5 , 0.5 , 0.5 ,\n",
       "        0.5 , 0.5 , 0.5 , 0.5 , 0.5 , 0.5 , 0.5 , 0.5 , 0.5 , 0.5 , 0.5 ,\n",
       "        0.5 , 0.5 , 0.5 , 0.5 , 0.5 , 0.5 , 0.5 , 0.5 , 0.5 , 0.5 , 0.5 ,\n",
       "        0.5 , 0.5 , 0.5 , 0.5 , 0.5 , 0.5 , 0.5 , 0.5 , 0.5 , 0.5 , 0.5 ,\n",
       "        0.5 , 0.5 , 0.5 , 0.5 , 0.5 , 0.5 ],\n",
       "       [0.92, 0.94, 0.58, 0.5 , 0.5 , 0.5 , 0.5 , 0.5 , 0.5 , 0.5 , 0.5 ,\n",
       "        0.5 , 0.5 , 0.5 , 0.5 , 0.5 , 0.5 , 0.5 , 0.5 , 0.5 , 0.5 , 0.5 ,\n",
       "        0.5 , 0.5 , 0.5 , 0.5 , 0.5 , 0.5 , 0.5 , 0.5 , 0.5 , 0.5 , 0.5 ,\n",
       "        0.5 , 0.5 , 0.5 , 0.5 , 0.5 , 0.5 , 0.5 , 0.5 , 0.5 , 0.5 , 0.5 ,\n",
       "        0.5 , 0.5 , 0.5 , 0.5 , 0.5 , 0.5 ],\n",
       "       [0.92, 0.93, 0.94, 0.94, 0.94, 0.94, 0.94, 0.94, 0.94, 0.95, 0.95,\n",
       "        0.94, 0.93, 0.92, 0.92, 0.91, 0.9 , 0.9 , 0.9 , 0.64, 0.56, 0.5 ,\n",
       "        0.5 , 0.5 , 0.5 , 0.5 , 0.5 , 0.5 , 0.5 , 0.5 , 0.5 , 0.5 , 0.5 ,\n",
       "        0.5 , 0.5 , 0.5 , 0.5 , 0.5 , 0.5 , 0.5 , 0.5 , 0.5 , 0.5 , 0.5 ,\n",
       "        0.5 , 0.5 , 0.5 , 0.5 , 0.5 , 0.5 ],\n",
       "       [0.92, 0.92, 0.93, 0.93, 0.93, 0.93, 0.93, 0.93, 0.93, 0.93, 0.94,\n",
       "        0.94, 0.94, 0.94, 0.94, 0.94, 0.94, 0.94, 0.94, 0.94, 0.94, 0.94,\n",
       "        0.94, 0.94, 0.94, 0.94, 0.94, 0.94, 0.94, 0.93, 0.93, 0.93, 0.93,\n",
       "        0.93, 0.93, 0.93, 0.93, 0.93, 0.93, 0.93, 0.93, 0.93, 0.93, 0.93,\n",
       "        0.91, 0.91, 0.91, 0.91, 0.91, 0.91],\n",
       "       [0.89, 0.89, 0.89, 0.89, 0.89, 0.89, 0.89, 0.89, 0.89, 0.89, 0.89,\n",
       "        0.9 , 0.9 , 0.91, 0.91, 0.91, 0.91, 0.92, 0.92, 0.92, 0.92, 0.92,\n",
       "        0.92, 0.92, 0.93, 0.93, 0.93, 0.93, 0.93, 0.93, 0.93, 0.93, 0.93,\n",
       "        0.93, 0.93, 0.93, 0.93, 0.93, 0.93, 0.93, 0.93, 0.93, 0.93, 0.93,\n",
       "        0.93, 0.93, 0.93, 0.93, 0.93, 0.93],\n",
       "       [0.89, 0.89, 0.89, 0.89, 0.89, 0.89, 0.89, 0.89, 0.89, 0.89, 0.89,\n",
       "        0.89, 0.89, 0.89, 0.89, 0.89, 0.89, 0.89, 0.89, 0.9 , 0.89, 0.9 ,\n",
       "        0.9 , 0.9 , 0.9 , 0.9 , 0.91, 0.91, 0.91, 0.91, 0.91, 0.91, 0.91,\n",
       "        0.91, 0.91, 0.91, 0.91, 0.91, 0.91, 0.91, 0.91, 0.91, 0.91, 0.91,\n",
       "        0.91, 0.91, 0.91, 0.91, 0.91, 0.91],\n",
       "       [0.89, 0.89, 0.89, 0.89, 0.89, 0.89, 0.89, 0.89, 0.89, 0.89, 0.89,\n",
       "        0.89, 0.89, 0.89, 0.89, 0.89, 0.89, 0.89, 0.89, 0.89, 0.89, 0.89,\n",
       "        0.89, 0.89, 0.89, 0.89, 0.89, 0.89, 0.89, 0.89, 0.89, 0.89, 0.89,\n",
       "        0.89, 0.89, 0.89, 0.89, 0.89, 0.89, 0.89, 0.89, 0.89, 0.89, 0.89,\n",
       "        0.89, 0.89, 0.89, 0.89, 0.89, 0.89],\n",
       "       [0.89, 0.89, 0.89, 0.89, 0.89, 0.89, 0.89, 0.89, 0.89, 0.89, 0.89,\n",
       "        0.89, 0.89, 0.89, 0.89, 0.89, 0.89, 0.89, 0.89, 0.89, 0.89, 0.89,\n",
       "        0.89, 0.89, 0.89, 0.89, 0.89, 0.89, 0.89, 0.89, 0.89, 0.89, 0.89,\n",
       "        0.89, 0.89, 0.89, 0.89, 0.89, 0.89, 0.89, 0.89, 0.89, 0.89, 0.89,\n",
       "        0.89, 0.89, 0.89, 0.89, 0.89, 0.89],\n",
       "       [0.89, 0.89, 0.89, 0.89, 0.89, 0.89, 0.89, 0.89, 0.89, 0.89, 0.89,\n",
       "        0.89, 0.89, 0.89, 0.89, 0.89, 0.89, 0.89, 0.89, 0.89, 0.89, 0.89,\n",
       "        0.89, 0.89, 0.89, 0.89, 0.89, 0.89, 0.89, 0.89, 0.89, 0.89, 0.89,\n",
       "        0.89, 0.89, 0.89, 0.89, 0.89, 0.89, 0.89, 0.89, 0.89, 0.89, 0.89,\n",
       "        0.89, 0.89, 0.89, 0.89, 0.89, 0.89],\n",
       "       [0.89, 0.89, 0.89, 0.89, 0.89, 0.89, 0.89, 0.89, 0.89, 0.89, 0.89,\n",
       "        0.89, 0.89, 0.89, 0.89, 0.89, 0.89, 0.89, 0.89, 0.89, 0.89, 0.89,\n",
       "        0.89, 0.89, 0.89, 0.89, 0.89, 0.89, 0.89, 0.89, 0.89, 0.89, 0.89,\n",
       "        0.89, 0.89, 0.89, 0.89, 0.89, 0.89, 0.89, 0.89, 0.89, 0.89, 0.89,\n",
       "        0.89, 0.89, 0.89, 0.89, 0.89, 0.89],\n",
       "       [0.89, 0.89, 0.89, 0.89, 0.89, 0.89, 0.89, 0.89, 0.89, 0.89, 0.89,\n",
       "        0.89, 0.89, 0.89, 0.89, 0.89, 0.89, 0.89, 0.89, 0.89, 0.89, 0.89,\n",
       "        0.89, 0.89, 0.89, 0.89, 0.89, 0.89, 0.89, 0.89, 0.89, 0.89, 0.89,\n",
       "        0.89, 0.89, 0.89, 0.89, 0.89, 0.89, 0.89, 0.89, 0.89, 0.89, 0.89,\n",
       "        0.89, 0.89, 0.89, 0.89, 0.89, 0.89],\n",
       "       [0.89, 0.89, 0.89, 0.89, 0.89, 0.89, 0.89, 0.89, 0.89, 0.89, 0.89,\n",
       "        0.89, 0.89, 0.89, 0.89, 0.89, 0.89, 0.89, 0.89, 0.89, 0.89, 0.89,\n",
       "        0.89, 0.89, 0.89, 0.89, 0.89, 0.89, 0.89, 0.89, 0.89, 0.89, 0.89,\n",
       "        0.89, 0.89, 0.89, 0.89, 0.89, 0.89, 0.89, 0.89, 0.89, 0.89, 0.89,\n",
       "        0.89, 0.89, 0.89, 0.89, 0.89, 0.89]])"
      ]
     },
     "metadata": {},
     "output_type": "display_data"
    },
    {
     "data": {
      "image/png": "[encoded data removed]",
      "text/plain": [
       "<Figure size 900x288 with 1 Axes>"
      ]
     },
     "metadata": {
      "needs_background": "light"
     },
     "output_type": "display_data"
    }
   ],
   "source": [
    "plan = build.full_fact(\n",
    "    deepcopy(parameters)\n",
    ")\n",
    "\n",
    "plan.plot.scatter(x=plan.columns[0],\n",
    "                  y=plan.columns[1],\n",
    "                  c='DarkBlue')\n",
    "plt.show()\n",
    "plt.close()\n",
    "\n",
    "results = eval_plan(clf, plan, X, y, penalty='elasticnet', max_iter=500, solver=\"saga\")\n",
    "enc = OrdinalEncoder()\n",
    "enc.fit(results.loc[:, results.columns != 'results'])\n",
    "indices = enc.transform(results.loc[:, results.columns != 'results'])\n",
    "display(results.head())\n",
    "shape = tuple([len(elt) for elt in enc.categories_])\n",
    "values = np.zeros(shape)\n",
    "display(values.shape)\n",
    "for idx, value in zip(indices, results['results']):\n",
    "    idx = tuple(map(int, idx))\n",
    "    values[idx] = value\n",
    "display(values)\n",
    "\n",
    "\n",
    "plt.matshow(values[:,:])\n",
    "plt.show()\n",
    "plt.close()"
   ]
  },
  {
   "cell_type": "markdown",
   "metadata": {},
   "source": [
    "# 2-level fractorial design"
   ]
  },
  {
   "cell_type": "code",
   "execution_count": 46,
   "metadata": {},
   "outputs": [
    {
     "name": "stdout",
     "output_type": "stream",
     "text": [
      "Help on function frac_fact_res in module doepy.build:\n",
      "\n",
      "frac_fact_res(d, res=None)\n",
      "    Builds a 2-level fractional factorial design dataframe from a dictionary of factor/level ranges and given resolution.\n",
      "      \n",
      "    Parameters\n",
      "    ----------\n",
      "    factor_level_ranges : Dictionary of factors and ranges\n",
      "                         Only min and max values of the range are required.\n",
      "                         If more than two levels are given, the extreme values will be set to the low/high levels.\n",
      "                         Example of the dictionary which is needed as the input:\n",
      "                        {'Pressure':[50,70],'Temperature':[290, 350],'Flow rate':[0.9,1.0]}\n",
      "    res : int\n",
      "        Desired design resolution.\n",
      "        Default: Set to half of the total factor count.\n",
      "        \n",
      "        Notes\n",
      "    -----\n",
      "    The resolution of a design is defined as the length of the shortest\n",
      "    word in the defining relation. The resolution describes the level of\n",
      "    confounding between factors and interaction effects, where higher\n",
      "    resolution indicates lower degree of confounding.\n",
      "    For example, consider the 2^4-1-design defined by\n",
      "        gen = \"a b c ab\"\n",
      "    The factor \"d\" is defined by \"ab\" with defining relation I=\"abd\", where\n",
      "    I is the unit vector. In this simple example the shortest word is \"abd\"\n",
      "    meaning that this is a resolution III-design.\n",
      "    In practice resolution III-, IV- and V-designs are most commonly applied.\n",
      "    * III: Main effects may be confounded with two-factor interactions.\n",
      "    * IV: Main effects are unconfounded by two-factor interactions, but\n",
      "          two-factor interactions may be confounded with each other.\n",
      "    * V: Main effects unconfounded with up to four-factor interactions,\n",
      "         two-factor interactions unconfounded with up to three-factor\n",
      "         interactions. Three-factor interactions may be confounded with\n",
      "         each other.\n",
      "    Examples\n",
      "    --------\n",
      "    ::\n",
      "        >>> d1 = {'A':[1,5],'B':[0.3,0.7],'C':[10,15],'D':[3,7],'E':[-2,-1]}\n",
      "        >>> build_frac_fact_res(d1,3)\n",
      "             A    B     C    D    E\n",
      "        0  1.0  0.3  10.0  7.0 -1.0\n",
      "        1  5.0  0.3  10.0  3.0 -2.0\n",
      "        2  1.0  0.7  10.0  3.0 -1.0\n",
      "        3  5.0  0.7  10.0  7.0 -2.0\n",
      "        4  1.0  0.3  15.0  7.0 -2.0\n",
      "        5  5.0  0.3  15.0  3.0 -1.0\n",
      "        6  1.0  0.7  15.0  3.0 -2.0\n",
      "        7  5.0  0.7  15.0  7.0 -1.0\n",
      "        \n",
      "        It builds a dataframe with only 8 rows (designs) from a dictionary with 6 factors.\n",
      "        A full factorial design would have required 2^6 = 64 designs.\n",
      "        >>> build_frac_fact_res(d1,5)\n",
      "        Traceback (most recent call last):\n",
      "        ...\n",
      "        ValueError: design not possible\n",
      "\n"
     ]
    }
   ],
   "source": [
    "help(build.frac_fact_res)"
   ]
  },
  {
   "cell_type": "code",
   "execution_count": 47,
   "metadata": {},
   "outputs": [
    {
     "ename": "AssertionError",
     "evalue": "Number of factors must be greater than desired resolution",
     "output_type": "error",
     "traceback": [
      "\u001b[1;31m---------------------------------------------------------------------------\u001b[0m",
      "\u001b[1;31mAssertionError\u001b[0m                            Traceback (most recent call last)",
      "\u001b[1;32m<ipython-input-47-2d45bd0b68f0>\u001b[0m in \u001b[0;36m<module>\u001b[1;34m\u001b[0m\n\u001b[0;32m      1\u001b[0m \u001b[1;31m# Not enough parameters\u001b[0m\u001b[1;33m\u001b[0m\u001b[1;33m\u001b[0m\u001b[1;33m\u001b[0m\u001b[0m\n\u001b[0;32m      2\u001b[0m plan = build.frac_fact_res(\n\u001b[1;32m----> 3\u001b[1;33m     \u001b[0mdeepcopy\u001b[0m\u001b[1;33m(\u001b[0m\u001b[0mparameters\u001b[0m\u001b[1;33m)\u001b[0m\u001b[1;33m\u001b[0m\u001b[1;33m\u001b[0m\u001b[0m\n\u001b[0m\u001b[0;32m      4\u001b[0m )\n\u001b[0;32m      5\u001b[0m \u001b[1;33m\u001b[0m\u001b[0m\n",
      "\u001b[1;32mD:\\Programmes\\Anaconda\\lib\\site-packages\\doepy\\build.py\u001b[0m in \u001b[0;36mfrac_fact_res\u001b[1;34m(d, res)\u001b[0m\n\u001b[0;32m     71\u001b[0m     \"\"\"\n\u001b[0;32m     72\u001b[0m \u001b[1;33m\u001b[0m\u001b[0m\n\u001b[1;32m---> 73\u001b[1;33m     \u001b[1;32mreturn\u001b[0m \u001b[0mbuild_frac_fact_res\u001b[0m\u001b[1;33m(\u001b[0m\u001b[0md\u001b[0m\u001b[1;33m,\u001b[0m\u001b[0mres\u001b[0m\u001b[1;33m=\u001b[0m\u001b[0mres\u001b[0m\u001b[1;33m)\u001b[0m\u001b[1;33m\u001b[0m\u001b[1;33m\u001b[0m\u001b[0m\n\u001b[0m\u001b[0;32m     74\u001b[0m \u001b[1;33m\u001b[0m\u001b[0m\n\u001b[0;32m     75\u001b[0m \u001b[1;32mdef\u001b[0m \u001b[0mplackett_burman\u001b[0m\u001b[1;33m(\u001b[0m\u001b[0md\u001b[0m\u001b[1;33m)\u001b[0m\u001b[1;33m:\u001b[0m\u001b[1;33m\u001b[0m\u001b[1;33m\u001b[0m\u001b[0m\n",
      "\u001b[1;32mD:\\Programmes\\Anaconda\\lib\\site-packages\\doepy\\doe_functions.py\u001b[0m in \u001b[0;36mbuild_frac_fact_res\u001b[1;34m(factor_level_ranges, res)\u001b[0m\n\u001b[0;32m    181\u001b[0m         \u001b[0mres\u001b[0m \u001b[1;33m=\u001b[0m \u001b[0mint\u001b[0m\u001b[1;33m(\u001b[0m\u001b[0mfactor_count\u001b[0m\u001b[1;33m/\u001b[0m\u001b[1;36m2\u001b[0m\u001b[1;33m)\u001b[0m\u001b[1;33m+\u001b[0m\u001b[1;36m1\u001b[0m\u001b[1;33m\u001b[0m\u001b[1;33m\u001b[0m\u001b[0m\n\u001b[0;32m    182\u001b[0m \u001b[1;33m\u001b[0m\u001b[0m\n\u001b[1;32m--> 183\u001b[1;33m     \u001b[1;32massert\u001b[0m \u001b[1;33m(\u001b[0m\u001b[0mfactor_count\u001b[0m\u001b[1;33m>\u001b[0m \u001b[0mres\u001b[0m\u001b[1;33m)\u001b[0m\u001b[1;33m,\u001b[0m\u001b[1;34m\"Number of factors must be greater than desired resolution\"\u001b[0m\u001b[1;33m\u001b[0m\u001b[1;33m\u001b[0m\u001b[0m\n\u001b[0m\u001b[0;32m    184\u001b[0m \u001b[1;33m\u001b[0m\u001b[0m\n\u001b[0;32m    185\u001b[0m     \u001b[1;32mfor\u001b[0m \u001b[0mkey\u001b[0m \u001b[1;32min\u001b[0m \u001b[0mfactor_level_ranges\u001b[0m\u001b[1;33m:\u001b[0m\u001b[1;33m\u001b[0m\u001b[1;33m\u001b[0m\u001b[0m\n",
      "\u001b[1;31mAssertionError\u001b[0m: Number of factors must be greater than desired resolution"
     ]
    }
   ],
   "source": [
    "# Not enough parameters\n",
    "plan = build.frac_fact_res(\n",
    "    deepcopy(parameters)\n",
    ")\n",
    "\n",
    "plan.plot.scatter(x=plan.columns[0],\n",
    "                  y=plan.columns[1],\n",
    "                  c='DarkBlue')\n",
    "plt.show()\n",
    "plt.close()\n",
    "\n",
    "results = eval_plan(clf_, plan, X, y)\n",
    "enc = OrdinalEncoder()\n",
    "enc.fit(results.loc[:, results.columns != 'results'])\n",
    "indices = enc.transform(results.loc[:, results.columns != 'results'])\n",
    "display(results.head())\n",
    "shape = tuple([len(elt) for elt in enc.categories_])\n",
    "values = np.zeros(shape)\n",
    "display(values.shape)\n",
    "for idx, value in zip(indices, results['results']):\n",
    "    idx = tuple(map(int, idx))\n",
    "    values[idx] = value\n",
    "display(values)\n",
    "\n",
    "\n",
    "plt.matshow(values[:,:])\n",
    "plt.show()\n",
    "plt.close()"
   ]
  },
  {
   "cell_type": "markdown",
   "metadata": {},
   "source": [
    "# Box Behnken"
   ]
  },
  {
   "cell_type": "code",
   "execution_count": 48,
   "metadata": {},
   "outputs": [
    {
     "name": "stdout",
     "output_type": "stream",
     "text": [
      "Help on function box_behnken in module doepy.build:\n",
      "\n",
      "box_behnken(d, center=1)\n",
      "    Builds a Box-Behnken design dataframe from a dictionary of factor/level ranges.\n",
      "    Note 3 levels of factors are necessary. If not given, the function will automatically create 3 levels by linear mid-section method.\n",
      "    Example of the dictionary which is needed as the input:\n",
      "    {'Pressure':[50,60,70],'Temperature':[290, 320, 350],'Flow rate':[0.9,1.0,1.1]}\n",
      "        \n",
      "        In statistics, Box–Behnken designs are experimental designs for response surface methodology, devised by George E. P. Box and Donald Behnken in 1960, to achieve the following goals:\n",
      "                * Each factor, or independent variable, is placed at one of three equally spaced values, usually coded as −1, 0, +1. (At least three levels are needed for the following goal.)\n",
      "                * The design should be sufficient to fit a quadratic model, that is, one containing squared terms, products of two factors, linear terms and an intercept.\n",
      "                * The ratio of the number of experimental points to the number of coefficients in the quadratic model should be reasonable (in fact, their designs kept it in the range of 1.5 to 2.6).*estimation variance should more or less depend only on the distance from the centre (this is achieved exactly for the designs with 4 and 7 factors), and should not vary too much inside the smallest (hyper)cube containing the experimental points.\n",
      "\n"
     ]
    }
   ],
   "source": [
    "help(build.box_behnken)  # Levels but only numerics"
   ]
  },
  {
   "cell_type": "code",
   "execution_count": 77,
   "metadata": {},
   "outputs": [
    {
     "ename": "AssertionError",
     "evalue": "Number of variables must be at least 3",
     "output_type": "error",
     "traceback": [
      "\u001b[1;31m---------------------------------------------------------------------------\u001b[0m",
      "\u001b[1;31mAssertionError\u001b[0m                            Traceback (most recent call last)",
      "\u001b[1;32m<ipython-input-77-a1f3f3166d9d>\u001b[0m in \u001b[0;36m<module>\u001b[1;34m\u001b[0m\n\u001b[0;32m      1\u001b[0m \u001b[1;31m# Needs at least 3 parameters\u001b[0m\u001b[1;33m\u001b[0m\u001b[1;33m\u001b[0m\u001b[1;33m\u001b[0m\u001b[0m\n\u001b[0;32m      2\u001b[0m plan = build.box_behnken(\n\u001b[1;32m----> 3\u001b[1;33m     \u001b[0mdeepcopy\u001b[0m\u001b[1;33m(\u001b[0m\u001b[0mparameters\u001b[0m\u001b[1;33m)\u001b[0m\u001b[1;33m\u001b[0m\u001b[1;33m\u001b[0m\u001b[0m\n\u001b[0m\u001b[0;32m      4\u001b[0m )\n\u001b[0;32m      5\u001b[0m \u001b[1;33m\u001b[0m\u001b[0m\n",
      "\u001b[1;32mD:\\Programmes\\Anaconda\\lib\\site-packages\\doepy\\build.py\u001b[0m in \u001b[0;36mbox_behnken\u001b[1;34m(d, center)\u001b[0m\n\u001b[0;32m    119\u001b[0m \t\"\"\"\n\u001b[0;32m    120\u001b[0m \u001b[1;33m\u001b[0m\u001b[0m\n\u001b[1;32m--> 121\u001b[1;33m     \u001b[1;32mreturn\u001b[0m \u001b[0mbuild_box_behnken\u001b[0m\u001b[1;33m(\u001b[0m\u001b[0md\u001b[0m\u001b[1;33m,\u001b[0m\u001b[0mcenter\u001b[0m\u001b[1;33m=\u001b[0m\u001b[0mcenter\u001b[0m\u001b[1;33m)\u001b[0m\u001b[1;33m\u001b[0m\u001b[1;33m\u001b[0m\u001b[0m\n\u001b[0m\u001b[0;32m    122\u001b[0m \u001b[1;33m\u001b[0m\u001b[0m\n\u001b[0;32m    123\u001b[0m \u001b[1;32mdef\u001b[0m \u001b[0mcentral_composite\u001b[0m\u001b[1;33m(\u001b[0m\u001b[0md\u001b[0m\u001b[1;33m,\u001b[0m\u001b[0mcenter\u001b[0m\u001b[1;33m=\u001b[0m\u001b[1;33m(\u001b[0m\u001b[1;36m2\u001b[0m\u001b[1;33m,\u001b[0m\u001b[1;36m2\u001b[0m\u001b[1;33m)\u001b[0m\u001b[1;33m,\u001b[0m\u001b[0malpha\u001b[0m\u001b[1;33m=\u001b[0m\u001b[1;34m'o'\u001b[0m\u001b[1;33m,\u001b[0m\u001b[0mface\u001b[0m\u001b[1;33m=\u001b[0m\u001b[1;34m'ccc'\u001b[0m\u001b[1;33m)\u001b[0m\u001b[1;33m:\u001b[0m\u001b[1;33m\u001b[0m\u001b[1;33m\u001b[0m\u001b[0m\n",
      "\u001b[1;32mD:\\Programmes\\Anaconda\\lib\\site-packages\\doepy\\doe_functions.py\u001b[0m in \u001b[0;36mbuild_box_behnken\u001b[1;34m(factor_level_ranges, center)\u001b[0m\n\u001b[0;32m    322\u001b[0m         \u001b[0mfactor_lists\u001b[0m\u001b[1;33m.\u001b[0m\u001b[0mappend\u001b[0m\u001b[1;33m(\u001b[0m\u001b[0mfactor_level_ranges\u001b[0m\u001b[1;33m[\u001b[0m\u001b[0mkey\u001b[0m\u001b[1;33m]\u001b[0m\u001b[1;33m)\u001b[0m\u001b[1;33m\u001b[0m\u001b[1;33m\u001b[0m\u001b[0m\n\u001b[0;32m    323\u001b[0m \u001b[1;33m\u001b[0m\u001b[0m\n\u001b[1;32m--> 324\u001b[1;33m     \u001b[0mx\u001b[0m \u001b[1;33m=\u001b[0m \u001b[0mbbdesign_corrected\u001b[0m\u001b[1;33m(\u001b[0m\u001b[0mfactor_count\u001b[0m\u001b[1;33m,\u001b[0m\u001b[0mcenter\u001b[0m\u001b[1;33m=\u001b[0m\u001b[0mcenter\u001b[0m\u001b[1;33m)\u001b[0m\u001b[1;33m\u001b[0m\u001b[1;33m\u001b[0m\u001b[0m\n\u001b[0m\u001b[0;32m    325\u001b[0m     \u001b[0mx\u001b[0m\u001b[1;33m=\u001b[0m\u001b[0mx\u001b[0m\u001b[1;33m+\u001b[0m\u001b[1;36m1\u001b[0m \u001b[1;31m#Adjusting the index up by 1\u001b[0m\u001b[1;33m\u001b[0m\u001b[1;33m\u001b[0m\u001b[0m\n\u001b[0;32m    326\u001b[0m \u001b[1;33m\u001b[0m\u001b[0m\n",
      "\u001b[1;32mD:\\Programmes\\Anaconda\\lib\\site-packages\\doepy\\pydoe_corrected.py\u001b[0m in \u001b[0;36mbbdesign_corrected\u001b[1;34m(n, center)\u001b[0m\n\u001b[0;32m    367\u001b[0m \u001b[1;33m\u001b[0m\u001b[0m\n\u001b[0;32m    368\u001b[0m     \"\"\"\n\u001b[1;32m--> 369\u001b[1;33m     \u001b[1;32massert\u001b[0m \u001b[0mn\u001b[0m\u001b[1;33m>=\u001b[0m\u001b[1;36m3\u001b[0m\u001b[1;33m,\u001b[0m \u001b[1;34m'Number of variables must be at least 3'\u001b[0m\u001b[1;33m\u001b[0m\u001b[1;33m\u001b[0m\u001b[0m\n\u001b[0m\u001b[0;32m    370\u001b[0m \u001b[1;33m\u001b[0m\u001b[0m\n\u001b[0;32m    371\u001b[0m     \u001b[1;31m# First, compute a factorial DOE with 2 parameters\u001b[0m\u001b[1;33m\u001b[0m\u001b[1;33m\u001b[0m\u001b[1;33m\u001b[0m\u001b[0m\n",
      "\u001b[1;31mAssertionError\u001b[0m: Number of variables must be at least 3"
     ]
    }
   ],
   "source": [
    "# Needs at least 3 parameters\n",
    "plan = build.box_behnken(\n",
    "    deepcopy(parameters)\n",
    ")\n",
    "\n",
    "plan.plot.scatter(x=plan.columns[0],\n",
    "                  y=plan.columns[1],\n",
    "                  c='DarkBlue')\n",
    "plt.show()\n",
    "plt.close()\n",
    "\n",
    "results = eval_plan(clf, plan, X, y)\n",
    "enc = OrdinalEncoder()\n",
    "enc.fit(results.loc[:, results.columns != 'results'])\n",
    "indices = enc.transform(results.loc[:, results.columns != 'results'])\n",
    "display(results.head())\n",
    "shape = tuple([len(elt) for elt in enc.categories_])\n",
    "values = np.zeros(shape)\n",
    "display(values.shape)\n",
    "for idx, value in zip(indices, results['results']):\n",
    "    idx = tuple(map(int, idx))\n",
    "    values[idx] = value\n",
    "display(values)\n",
    "\n",
    "\n",
    "plt.matshow(values[:,:])\n",
    "plt.show()\n",
    "plt.close()"
   ]
  },
  {
   "cell_type": "markdown",
   "metadata": {},
   "source": [
    "# Plackett-Burman"
   ]
  },
  {
   "cell_type": "code",
   "execution_count": 50,
   "metadata": {},
   "outputs": [
    {
     "name": "stdout",
     "output_type": "stream",
     "text": [
      "Help on function plackett_burman in module doepy.build:\n",
      "\n",
      "plackett_burman(d)\n",
      "    Builds a Plackett-Burman dataframe from a dictionary of factor/level ranges.\n",
      "    Only min and max values of the range are required.\n",
      "    Example of the dictionary which is needed as the input:\n",
      "    {'Pressure':[50,70],'Temperature':[290, 350],'Flow rate':[0.9,1.0]}\n",
      "        \n",
      "        Plackett–Burman designs are experimental designs presented in 1946 by Robin L. Plackett and J. P. Burman while working in the British Ministry of Supply.(Their goal was to find experimental designs for investigating the dependence of some measured quantity on a number of independent variables (factors), each taking L levels, in such a way as to minimize the variance of the estimates of these dependencies using a limited number of experiments. \n",
      "        \n",
      "    Interactions between the factors were considered negligible. The solution to this problem is to find an experimental design where each combination of levels for any pair of factors appears the same number of times, throughout all the experimental runs (refer to table). \n",
      "        A complete factorial design would satisfy this criterion, but the idea was to find smaller designs.\n",
      "        \n",
      "        These designs are unique in that the number of trial conditions (rows) expands by multiples of four (e.g. 4, 8, 12, etc.). \n",
      "        The max number of columns allowed before a design increases the number of rows is always one less than the next higher multiple of four.\n",
      "\n"
     ]
    }
   ],
   "source": [
    "help(build.plackett_burman)  # Only numerical/range values"
   ]
  },
  {
   "cell_type": "code",
   "execution_count": 78,
   "metadata": {},
   "outputs": [
    {
     "name": "stdout",
     "output_type": "stream",
     "text": [
      "C had more than two levels. Assigning the end point to the high level.\n",
      "l1_ratio had more than two levels. Assigning the end point to the high level.\n"
     ]
    },
    {
     "data": {
      "image/png": "[encoded data removed]",
      "text/plain": [
       "<Figure size 432x288 with 1 Axes>"
      ]
     },
     "metadata": {
      "needs_background": "light"
     },
     "output_type": "display_data"
    },
    {
     "name": "stderr",
     "output_type": "stream",
     "text": [
      "100%|█████████████████████████████████████████████████████████████████████████████████████████| 4/4 [00:00<00:00, 33.06it/s]\n"
     ]
    },
    {
     "data": {
      "text/html": [
       "<div>\n",
       "<style scoped>\n",
       "    .dataframe tbody tr th:only-of-type {\n",
       "        vertical-align: middle;\n",
       "    }\n",
       "\n",
       "    .dataframe tbody tr th {\n",
       "        vertical-align: top;\n",
       "    }\n",
       "\n",
       "    .dataframe thead th {\n",
       "        text-align: right;\n",
       "    }\n",
       "</style>\n",
       "<table border=\"1\" class=\"dataframe\">\n",
       "  <thead>\n",
       "    <tr style=\"text-align: right;\">\n",
       "      <th></th>\n",
       "      <th>C</th>\n",
       "      <th>l1_ratio</th>\n",
       "      <th>results</th>\n",
       "    </tr>\n",
       "  </thead>\n",
       "  <tbody>\n",
       "    <tr>\n",
       "      <th>0</th>\n",
       "      <td>1.000000e-08</td>\n",
       "      <td>0.0</td>\n",
       "      <td>0.92</td>\n",
       "    </tr>\n",
       "    <tr>\n",
       "      <th>1</th>\n",
       "      <td>1.000000e+07</td>\n",
       "      <td>0.0</td>\n",
       "      <td>0.87</td>\n",
       "    </tr>\n",
       "    <tr>\n",
       "      <th>2</th>\n",
       "      <td>1.000000e-08</td>\n",
       "      <td>1.0</td>\n",
       "      <td>0.92</td>\n",
       "    </tr>\n",
       "    <tr>\n",
       "      <th>3</th>\n",
       "      <td>1.000000e+07</td>\n",
       "      <td>1.0</td>\n",
       "      <td>0.87</td>\n",
       "    </tr>\n",
       "  </tbody>\n",
       "</table>\n",
       "</div>"
      ],
      "text/plain": [
       "              C  l1_ratio  results\n",
       "0  1.000000e-08       0.0     0.92\n",
       "1  1.000000e+07       0.0     0.87\n",
       "2  1.000000e-08       1.0     0.92\n",
       "3  1.000000e+07       1.0     0.87"
      ]
     },
     "metadata": {},
     "output_type": "display_data"
    },
    {
     "data": {
      "text/plain": [
       "(2, 2)"
      ]
     },
     "metadata": {},
     "output_type": "display_data"
    },
    {
     "data": {
      "text/plain": [
       "array([[0.92, 0.92],\n",
       "       [0.87, 0.87]])"
      ]
     },
     "metadata": {},
     "output_type": "display_data"
    },
    {
     "data": {
      "image/png": "[encoded data removed]",
      "text/plain": [
       "<Figure size 288x288 with 1 Axes>"
      ]
     },
     "metadata": {
      "needs_background": "light"
     },
     "output_type": "display_data"
    }
   ],
   "source": [
    "plan = build.plackett_burman(\n",
    "    deepcopy(parameters)\n",
    ")\n",
    "\n",
    "plan.plot.scatter(x=plan.columns[0],\n",
    "                  y=plan.columns[1],\n",
    "                  c='DarkBlue')\n",
    "plt.show()\n",
    "plt.close()\n",
    "\n",
    "results = eval_plan(clf, plan, X, y)\n",
    "enc = OrdinalEncoder()\n",
    "enc.fit(results.loc[:, results.columns != 'results'])\n",
    "indices = enc.transform(results.loc[:, results.columns != 'results'])\n",
    "display(results.head())\n",
    "shape = tuple([len(elt) for elt in enc.categories_])\n",
    "values = np.zeros(shape)\n",
    "display(values.shape)\n",
    "for idx, value in zip(indices, results['results']):\n",
    "    idx = tuple(map(int, idx))\n",
    "    values[idx] = value\n",
    "display(values)\n",
    "\n",
    "\n",
    "plt.matshow(values[:,:])\n",
    "plt.show()\n",
    "plt.close()"
   ]
  },
  {
   "cell_type": "markdown",
   "metadata": {},
   "source": [
    "# Sukharev"
   ]
  },
  {
   "cell_type": "code",
   "execution_count": 52,
   "metadata": {},
   "outputs": [
    {
     "name": "stdout",
     "output_type": "stream",
     "text": [
      "Help on function sukharev in module doepy.build:\n",
      "\n",
      "sukharev(d, num_samples=None)\n",
      "    Builds a Sukharev-grid hypercube design dataframe from a dictionary of factor/level ranges.\n",
      "    Number of samples raised to the power of (1/dimension), where dimension is the number of variables, must be an integer.\n",
      "    Only min and max values of the range are required.\n",
      "    Example of the dictionary which is needed as the input:\n",
      "    {'Pressure':[50,70],'Temperature':[290, 350],'Flow rate':[0.9,1.0]}\n",
      "    num_samples: Number of samples to be generated\n",
      "        \n",
      "        Special property of this grid is that points are not placed on the boundaries of the hypercube, but at centroids of the  subcells constituted by individual samples. \n",
      "        This design offers optimal results for the covering radius regarding distances based on the max-norm.\n",
      "\n"
     ]
    }
   ],
   "source": [
    "help(build.sukharev)  # Only numerical/range values"
   ]
  },
  {
   "cell_type": "code",
   "execution_count": 79,
   "metadata": {},
   "outputs": [
    {
     "name": "stdout",
     "output_type": "stream",
     "text": [
      "C had more than two levels. Assigning the end point to the high level.\n",
      "l1_ratio had more than two levels. Assigning the end point to the high level.\n",
      "\n",
      "Number of samples not adequate to fill a Sukharev grid. Increasing sample size to:  16\n"
     ]
    },
    {
     "data": {
      "image/png": "[encoded data removed]",
      "text/plain": [
       "<Figure size 432x288 with 1 Axes>"
      ]
     },
     "metadata": {
      "needs_background": "light"
     },
     "output_type": "display_data"
    },
    {
     "name": "stderr",
     "output_type": "stream",
     "text": [
      "100%|███████████████████████████████████████████████████████████████████████████████████████| 16/16 [00:00<00:00, 19.98it/s]\n"
     ]
    },
    {
     "data": {
      "text/html": [
       "<div>\n",
       "<style scoped>\n",
       "    .dataframe tbody tr th:only-of-type {\n",
       "        vertical-align: middle;\n",
       "    }\n",
       "\n",
       "    .dataframe tbody tr th {\n",
       "        vertical-align: top;\n",
       "    }\n",
       "\n",
       "    .dataframe thead th {\n",
       "        text-align: right;\n",
       "    }\n",
       "</style>\n",
       "<table border=\"1\" class=\"dataframe\">\n",
       "  <thead>\n",
       "    <tr style=\"text-align: right;\">\n",
       "      <th></th>\n",
       "      <th>C</th>\n",
       "      <th>l1_ratio</th>\n",
       "      <th>results</th>\n",
       "    </tr>\n",
       "  </thead>\n",
       "  <tbody>\n",
       "    <tr>\n",
       "      <th>0</th>\n",
       "      <td>1250000.0</td>\n",
       "      <td>0.125</td>\n",
       "      <td>0.86</td>\n",
       "    </tr>\n",
       "    <tr>\n",
       "      <th>1</th>\n",
       "      <td>1250000.0</td>\n",
       "      <td>0.375</td>\n",
       "      <td>0.86</td>\n",
       "    </tr>\n",
       "    <tr>\n",
       "      <th>2</th>\n",
       "      <td>1250000.0</td>\n",
       "      <td>0.625</td>\n",
       "      <td>0.86</td>\n",
       "    </tr>\n",
       "    <tr>\n",
       "      <th>3</th>\n",
       "      <td>1250000.0</td>\n",
       "      <td>0.875</td>\n",
       "      <td>0.86</td>\n",
       "    </tr>\n",
       "    <tr>\n",
       "      <th>4</th>\n",
       "      <td>3750000.0</td>\n",
       "      <td>0.125</td>\n",
       "      <td>0.87</td>\n",
       "    </tr>\n",
       "  </tbody>\n",
       "</table>\n",
       "</div>"
      ],
      "text/plain": [
       "           C  l1_ratio  results\n",
       "0  1250000.0     0.125     0.86\n",
       "1  1250000.0     0.375     0.86\n",
       "2  1250000.0     0.625     0.86\n",
       "3  1250000.0     0.875     0.86\n",
       "4  3750000.0     0.125     0.87"
      ]
     },
     "metadata": {},
     "output_type": "display_data"
    },
    {
     "data": {
      "text/plain": [
       "(4, 4)"
      ]
     },
     "metadata": {},
     "output_type": "display_data"
    },
    {
     "data": {
      "text/plain": [
       "array([[0.86, 0.86, 0.86, 0.86],\n",
       "       [0.87, 0.87, 0.87, 0.87],\n",
       "       [0.87, 0.87, 0.87, 0.87],\n",
       "       [0.87, 0.87, 0.87, 0.87]])"
      ]
     },
     "metadata": {},
     "output_type": "display_data"
    },
    {
     "data": {
      "image/png": "[encoded data removed]",
      "text/plain": [
       "<Figure size 288x288 with 1 Axes>"
      ]
     },
     "metadata": {
      "needs_background": "light"
     },
     "output_type": "display_data"
    }
   ],
   "source": [
    "plan = build.sukharev(\n",
    "    deepcopy(parameters), num_samples=12\n",
    ")\n",
    "\n",
    "plan.plot.scatter(x=plan.columns[0],\n",
    "                  y=plan.columns[1],\n",
    "                  c='DarkBlue')\n",
    "plt.show()\n",
    "plt.close()\n",
    "\n",
    "results = eval_plan(clf, plan, X, y)\n",
    "enc = OrdinalEncoder()\n",
    "enc.fit(results.loc[:, results.columns != 'results'])\n",
    "indices = enc.transform(results.loc[:, results.columns != 'results'])\n",
    "display(results.head())\n",
    "shape = tuple([len(elt) for elt in enc.categories_])\n",
    "values = np.zeros(shape)\n",
    "display(values.shape)\n",
    "for idx, value in zip(indices, results['results']):\n",
    "    idx = tuple(map(int, idx))\n",
    "    values[idx] = value\n",
    "display(values)\n",
    "\n",
    "\n",
    "plt.matshow(values[:,:])\n",
    "plt.show()\n",
    "plt.close()"
   ]
  },
  {
   "cell_type": "markdown",
   "metadata": {},
   "source": [
    "# Central Composite"
   ]
  },
  {
   "cell_type": "code",
   "execution_count": 58,
   "metadata": {},
   "outputs": [
    {
     "name": "stdout",
     "output_type": "stream",
     "text": [
      "Help on function central_composite in module doepy.build:\n",
      "\n",
      "central_composite(d, center=(2, 2), alpha='o', face='ccc')\n",
      "    Builds a central-composite design dataframe from a dictionary of factor/level ranges.\n",
      "    Only min and max values of the range are required.\n",
      "    Example of the dictionary which is needed as the input:\n",
      "    {'Pressure':[50,70],'Temperature':[290, 350],'Flow rate':[0.9,1.0]}\n",
      "        \n",
      "        In statistics, a central composite design is an experimental design, useful in response surface methodology, for building a second order (quadratic) model for the response variable without needing to use a complete three-level factorial experiment.\n",
      "        The design consists of three distinct sets of experimental runs:\n",
      "                * A factorial (perhaps fractional) design in the factors studied, each having two levels;\n",
      "                * A set of center points, experimental runs whose values of each factor are the medians of the values used in the factorial portion. This point is often replicated in order to improve the precision of the experiment;\n",
      "                * A set of axial points, experimental runs identical to the centre points except for one factor, which will take on values both below and above the median of the two factorial levels, and typically both outside their range. All factors are varied in this way.\n",
      "\n"
     ]
    }
   ],
   "source": [
    "help(build.central_composite)  #  Only numerical/range values"
   ]
  },
  {
   "cell_type": "code",
   "execution_count": 80,
   "metadata": {},
   "outputs": [
    {
     "name": "stdout",
     "output_type": "stream",
     "text": [
      "C had more than two levels. Assigning the end point to the high level.\n",
      "l1_ratio had more than two levels. Assigning the end point to the high level.\n"
     ]
    },
    {
     "data": {
      "image/png": "[encoded data removed]",
      "text/plain": [
       "<Figure size 432x288 with 1 Axes>"
      ]
     },
     "metadata": {
      "needs_background": "light"
     },
     "output_type": "display_data"
    },
    {
     "name": "stderr",
     "output_type": "stream",
     "text": [
      "100%|███████████████████████████████████████████████████████████████████████████████████████| 12/12 [00:00<00:00, 28.10it/s]\n"
     ]
    },
    {
     "data": {
      "text/html": [
       "<div>\n",
       "<style scoped>\n",
       "    .dataframe tbody tr th:only-of-type {\n",
       "        vertical-align: middle;\n",
       "    }\n",
       "\n",
       "    .dataframe tbody tr th {\n",
       "        vertical-align: top;\n",
       "    }\n",
       "\n",
       "    .dataframe thead th {\n",
       "        text-align: right;\n",
       "    }\n",
       "</style>\n",
       "<table border=\"1\" class=\"dataframe\">\n",
       "  <thead>\n",
       "    <tr style=\"text-align: right;\">\n",
       "      <th></th>\n",
       "      <th>C</th>\n",
       "      <th>l1_ratio</th>\n",
       "      <th>results</th>\n",
       "    </tr>\n",
       "  </thead>\n",
       "  <tbody>\n",
       "    <tr>\n",
       "      <th>0</th>\n",
       "      <td>1.000000e-08</td>\n",
       "      <td>0.0</td>\n",
       "      <td>0.92</td>\n",
       "    </tr>\n",
       "    <tr>\n",
       "      <th>1</th>\n",
       "      <td>1.000000e+07</td>\n",
       "      <td>0.0</td>\n",
       "      <td>0.87</td>\n",
       "    </tr>\n",
       "    <tr>\n",
       "      <th>2</th>\n",
       "      <td>1.000000e-08</td>\n",
       "      <td>1.0</td>\n",
       "      <td>0.92</td>\n",
       "    </tr>\n",
       "    <tr>\n",
       "      <th>3</th>\n",
       "      <td>1.000000e+07</td>\n",
       "      <td>1.0</td>\n",
       "      <td>0.87</td>\n",
       "    </tr>\n",
       "    <tr>\n",
       "      <th>4</th>\n",
       "      <td>5.000000e+06</td>\n",
       "      <td>0.5</td>\n",
       "      <td>0.87</td>\n",
       "    </tr>\n",
       "  </tbody>\n",
       "</table>\n",
       "</div>"
      ],
      "text/plain": [
       "              C  l1_ratio  results\n",
       "0  1.000000e-08       0.0     0.92\n",
       "1  1.000000e+07       0.0     0.87\n",
       "2  1.000000e-08       1.0     0.92\n",
       "3  1.000000e+07       1.0     0.87\n",
       "4  5.000000e+06       0.5     0.87"
      ]
     },
     "metadata": {},
     "output_type": "display_data"
    },
    {
     "data": {
      "text/plain": [
       "(5, 5)"
      ]
     },
     "metadata": {},
     "output_type": "display_data"
    },
    {
     "data": {
      "text/plain": [
       "array([[0.  , 0.  ,  nan, 0.  , 0.  ],\n",
       "       [0.  , 0.92, 0.  , 0.92, 0.  ],\n",
       "       [0.87, 0.  , 0.87, 0.  , 0.87],\n",
       "       [0.  , 0.87, 0.  , 0.87, 0.  ],\n",
       "       [0.  , 0.  , 0.87, 0.  , 0.  ]])"
      ]
     },
     "metadata": {},
     "output_type": "display_data"
    },
    {
     "data": {
      "image/png": "[encoded data removed]",
      "text/plain": [
       "<Figure size 288x288 with 1 Axes>"
      ]
     },
     "metadata": {
      "needs_background": "light"
     },
     "output_type": "display_data"
    }
   ],
   "source": [
    "faces = {'ccf', 'cci', 'ccc'}\n",
    "plan = build.central_composite(\n",
    "    deepcopy(parameters)\n",
    ")\n",
    "\n",
    "plan.plot.scatter(x=plan.columns[0],\n",
    "                  y=plan.columns[1],\n",
    "                  c='DarkBlue')\n",
    "plt.show()\n",
    "plt.close()\n",
    "\n",
    "results = eval_plan(clf, plan, X, y)\n",
    "enc = OrdinalEncoder()\n",
    "enc.fit(results.loc[:, results.columns != 'results'])\n",
    "indices = enc.transform(results.loc[:, results.columns != 'results'])\n",
    "display(results.head())\n",
    "shape = tuple([len(elt) for elt in enc.categories_])\n",
    "values = np.zeros(shape)\n",
    "display(values.shape)\n",
    "for idx, value in zip(indices, results['results']):\n",
    "    idx = tuple(map(int, idx))\n",
    "    values[idx] = value\n",
    "display(values)\n",
    "\n",
    "\n",
    "plt.matshow(values[:,:])\n",
    "plt.show()\n",
    "plt.close()"
   ]
  },
  {
   "cell_type": "markdown",
   "metadata": {},
   "source": [
    "# Latin hypercube sampling"
   ]
  },
  {
   "cell_type": "code",
   "execution_count": 60,
   "metadata": {},
   "outputs": [
    {
     "name": "stdout",
     "output_type": "stream",
     "text": [
      "Help on function lhs in module doepy.build:\n",
      "\n",
      "lhs(d, num_samples=None, prob_distribution=None)\n",
      "    Builds a Latin Hypercube design dataframe from a dictionary of factor/level ranges.\n",
      "    Only min and max values of the range are required.\n",
      "    Example of the dictionary which is needed as the input:\n",
      "    {'Pressure':[50,70],'Temperature':[290, 350],'Flow rate':[0.9,1.0]}\n",
      "    num_samples: Number of samples to be generated\n",
      "    prob_distribution: Analytical probability distribution to be applied over the randomized sampling. \n",
      "        Accepts one of the following strings: \n",
      "    'Normal', 'Poisson', 'Exponential', 'Beta', 'Gamma'\n",
      "    \n",
      "        Latin hypercube sampling (LHS) is a form of stratified sampling that can be applied to multiple variables. The method commonly used to reduce the number or runs necessary for a Monte Carlo simulation to achieve a reasonably accurate random distribution. LHS can be incorporated into an existing Monte Carlo model fairly easily, and work with variables following any analytical probability distribution.\n",
      "\n"
     ]
    }
   ],
   "source": [
    "help(build.lhs)  # Only numerical/range values"
   ]
  },
  {
   "cell_type": "code",
   "execution_count": 81,
   "metadata": {},
   "outputs": [
    {
     "name": "stdout",
     "output_type": "stream",
     "text": [
      "C had more than two levels. Assigning the end point to the high level.\n",
      "l1_ratio had more than two levels. Assigning the end point to the high level.\n"
     ]
    },
    {
     "data": {
      "image/png": "[encoded data removed]",
      "text/plain": [
       "<Figure size 432x288 with 1 Axes>"
      ]
     },
     "metadata": {
      "needs_background": "light"
     },
     "output_type": "display_data"
    },
    {
     "name": "stderr",
     "output_type": "stream",
     "text": [
      "100%|███████████████████████████████████████████████████████████████████████████████████████| 12/12 [00:00<00:00, 18.81it/s]\n"
     ]
    },
    {
     "data": {
      "text/html": [
       "<div>\n",
       "<style scoped>\n",
       "    .dataframe tbody tr th:only-of-type {\n",
       "        vertical-align: middle;\n",
       "    }\n",
       "\n",
       "    .dataframe tbody tr th {\n",
       "        vertical-align: top;\n",
       "    }\n",
       "\n",
       "    .dataframe thead th {\n",
       "        text-align: right;\n",
       "    }\n",
       "</style>\n",
       "<table border=\"1\" class=\"dataframe\">\n",
       "  <thead>\n",
       "    <tr style=\"text-align: right;\">\n",
       "      <th></th>\n",
       "      <th>C</th>\n",
       "      <th>l1_ratio</th>\n",
       "      <th>results</th>\n",
       "    </tr>\n",
       "  </thead>\n",
       "  <tbody>\n",
       "    <tr>\n",
       "      <th>0</th>\n",
       "      <td>8.945408e+06</td>\n",
       "      <td>0.543615</td>\n",
       "      <td>0.87</td>\n",
       "    </tr>\n",
       "    <tr>\n",
       "      <th>1</th>\n",
       "      <td>7.247051e+06</td>\n",
       "      <td>0.169470</td>\n",
       "      <td>0.87</td>\n",
       "    </tr>\n",
       "    <tr>\n",
       "      <th>2</th>\n",
       "      <td>1.385799e+06</td>\n",
       "      <td>0.039760</td>\n",
       "      <td>0.86</td>\n",
       "    </tr>\n",
       "    <tr>\n",
       "      <th>3</th>\n",
       "      <td>2.331261e+06</td>\n",
       "      <td>0.937107</td>\n",
       "      <td>0.87</td>\n",
       "    </tr>\n",
       "    <tr>\n",
       "      <th>4</th>\n",
       "      <td>6.053327e+05</td>\n",
       "      <td>0.848155</td>\n",
       "      <td>0.86</td>\n",
       "    </tr>\n",
       "  </tbody>\n",
       "</table>\n",
       "</div>"
      ],
      "text/plain": [
       "              C  l1_ratio  results\n",
       "0  8.945408e+06  0.543615     0.87\n",
       "1  7.247051e+06  0.169470     0.87\n",
       "2  1.385799e+06  0.039760     0.86\n",
       "3  2.331261e+06  0.937107     0.87\n",
       "4  6.053327e+05  0.848155     0.86"
      ]
     },
     "metadata": {},
     "output_type": "display_data"
    },
    {
     "data": {
      "text/plain": [
       "(12, 12)"
      ]
     },
     "metadata": {},
     "output_type": "display_data"
    },
    {
     "data": {
      "text/plain": [
       "array([[0.  , 0.  , 0.  , 0.  , 0.  , 0.  , 0.  , 0.  , 0.  , 0.  , 0.86,\n",
       "        0.  ],\n",
       "       [0.86, 0.  , 0.  , 0.  , 0.  , 0.  , 0.  , 0.  , 0.  , 0.  , 0.  ,\n",
       "        0.  ],\n",
       "       [0.  , 0.  , 0.  , 0.  , 0.  , 0.  , 0.  , 0.  , 0.  , 0.  , 0.  ,\n",
       "        0.87],\n",
       "       [0.  , 0.87, 0.  , 0.  , 0.  , 0.  , 0.  , 0.  , 0.  , 0.  , 0.  ,\n",
       "        0.  ],\n",
       "       [0.  , 0.  , 0.  , 0.  , 0.  , 0.  , 0.  , 0.87, 0.  , 0.  , 0.  ,\n",
       "        0.  ],\n",
       "       [0.  , 0.  , 0.  , 0.  , 0.  , 0.87, 0.  , 0.  , 0.  , 0.  , 0.  ,\n",
       "        0.  ],\n",
       "       [0.  , 0.  , 0.  , 0.  , 0.87, 0.  , 0.  , 0.  , 0.  , 0.  , 0.  ,\n",
       "        0.  ],\n",
       "       [0.  , 0.  , 0.  , 0.87, 0.  , 0.  , 0.  , 0.  , 0.  , 0.  , 0.  ,\n",
       "        0.  ],\n",
       "       [0.  , 0.  , 0.87, 0.  , 0.  , 0.  , 0.  , 0.  , 0.  , 0.  , 0.  ,\n",
       "        0.  ],\n",
       "       [0.  , 0.  , 0.  , 0.  , 0.  , 0.  , 0.  , 0.  , 0.  , 0.87, 0.  ,\n",
       "        0.  ],\n",
       "       [0.  , 0.  , 0.  , 0.  , 0.  , 0.  , 0.87, 0.  , 0.  , 0.  , 0.  ,\n",
       "        0.  ],\n",
       "       [0.  , 0.  , 0.  , 0.  , 0.  , 0.  , 0.  , 0.  , 0.87, 0.  , 0.  ,\n",
       "        0.  ]])"
      ]
     },
     "metadata": {},
     "output_type": "display_data"
    },
    {
     "data": {
      "image/png": "[encoded data removed]",
      "text/plain": [
       "<Figure size 288x288 with 1 Axes>"
      ]
     },
     "metadata": {
      "needs_background": "light"
     },
     "output_type": "display_data"
    }
   ],
   "source": [
    "plan = build.lhs(\n",
    "    deepcopy(parameters), num_samples=12\n",
    ")\n",
    "\n",
    "plan.plot.scatter(x=plan.columns[0],\n",
    "                  y=plan.columns[1],\n",
    "                  c='DarkBlue')\n",
    "plt.show()\n",
    "plt.close()\n",
    "\n",
    "results = eval_plan(clf, plan, X, y)\n",
    "enc = OrdinalEncoder()\n",
    "enc.fit(results.loc[:, results.columns != 'results'])\n",
    "indices = enc.transform(results.loc[:, results.columns != 'results'])\n",
    "display(results.head())\n",
    "shape = tuple([len(elt) for elt in enc.categories_])\n",
    "values = np.zeros(shape)\n",
    "display(values.shape)\n",
    "for idx, value in zip(indices, results['results']):\n",
    "    idx = tuple(map(int, idx))\n",
    "    values[idx] = value\n",
    "display(values)\n",
    "\n",
    "\n",
    "plt.matshow(values[:,:])\n",
    "plt.show()\n",
    "plt.close()"
   ]
  },
  {
   "cell_type": "markdown",
   "metadata": {},
   "source": [
    "# Space filling Latin Hypercube sampling"
   ]
  },
  {
   "cell_type": "code",
   "execution_count": null,
   "metadata": {},
   "outputs": [],
   "source": [
    "help(build.space_filling_lhs)  #  Only numerical/range"
   ]
  },
  {
   "cell_type": "code",
   "execution_count": 82,
   "metadata": {},
   "outputs": [
    {
     "name": "stdout",
     "output_type": "stream",
     "text": [
      "C had more than two levels. Assigning the end point to the high level.\n",
      "l1_ratio had more than two levels. Assigning the end point to the high level.\n"
     ]
    },
    {
     "data": {
      "image/png": "[encoded data removed]",
      "text/plain": [
       "<Figure size 432x288 with 1 Axes>"
      ]
     },
     "metadata": {
      "needs_background": "light"
     },
     "output_type": "display_data"
    },
    {
     "name": "stderr",
     "output_type": "stream",
     "text": [
      "100%|███████████████████████████████████████████████████████████████████████████████████████| 12/12 [00:00<00:00, 23.70it/s]\n"
     ]
    },
    {
     "data": {
      "text/html": [
       "<div>\n",
       "<style scoped>\n",
       "    .dataframe tbody tr th:only-of-type {\n",
       "        vertical-align: middle;\n",
       "    }\n",
       "\n",
       "    .dataframe tbody tr th {\n",
       "        vertical-align: top;\n",
       "    }\n",
       "\n",
       "    .dataframe thead th {\n",
       "        text-align: right;\n",
       "    }\n",
       "</style>\n",
       "<table border=\"1\" class=\"dataframe\">\n",
       "  <thead>\n",
       "    <tr style=\"text-align: right;\">\n",
       "      <th></th>\n",
       "      <th>C</th>\n",
       "      <th>l1_ratio</th>\n",
       "      <th>results</th>\n",
       "    </tr>\n",
       "  </thead>\n",
       "  <tbody>\n",
       "    <tr>\n",
       "      <th>0</th>\n",
       "      <td>1.000000e-08</td>\n",
       "      <td>0.363636</td>\n",
       "      <td>0.92</td>\n",
       "    </tr>\n",
       "    <tr>\n",
       "      <th>1</th>\n",
       "      <td>1.818182e+06</td>\n",
       "      <td>0.636364</td>\n",
       "      <td>0.86</td>\n",
       "    </tr>\n",
       "    <tr>\n",
       "      <th>2</th>\n",
       "      <td>5.454545e+06</td>\n",
       "      <td>0.090909</td>\n",
       "      <td>0.87</td>\n",
       "    </tr>\n",
       "    <tr>\n",
       "      <th>3</th>\n",
       "      <td>2.727273e+06</td>\n",
       "      <td>0.909091</td>\n",
       "      <td>0.87</td>\n",
       "    </tr>\n",
       "    <tr>\n",
       "      <th>4</th>\n",
       "      <td>6.363636e+06</td>\n",
       "      <td>0.454545</td>\n",
       "      <td>0.87</td>\n",
       "    </tr>\n",
       "  </tbody>\n",
       "</table>\n",
       "</div>"
      ],
      "text/plain": [
       "              C  l1_ratio  results\n",
       "0  1.000000e-08  0.363636     0.92\n",
       "1  1.818182e+06  0.636364     0.86\n",
       "2  5.454545e+06  0.090909     0.87\n",
       "3  2.727273e+06  0.909091     0.87\n",
       "4  6.363636e+06  0.454545     0.87"
      ]
     },
     "metadata": {},
     "output_type": "display_data"
    },
    {
     "data": {
      "text/plain": [
       "(12, 12)"
      ]
     },
     "metadata": {},
     "output_type": "display_data"
    },
    {
     "data": {
      "text/plain": [
       "array([[0.  , 0.  , 0.  , 0.  , 0.92, 0.  , 0.  , 0.  , 0.  , 0.  , 0.  ,\n",
       "        0.  ],\n",
       "       [0.  , 0.  , 0.  , 0.  , 0.  , 0.  , 0.86, 0.  , 0.  , 0.  , 0.  ,\n",
       "        0.  ],\n",
       "       [0.  , 0.  , 0.  , 0.  , 0.  , 0.  , 0.  , 0.86, 0.  , 0.  , 0.  ,\n",
       "        0.  ],\n",
       "       [0.  , 0.  , 0.  , 0.  , 0.  , 0.  , 0.  , 0.  , 0.  , 0.  , 0.87,\n",
       "        0.  ],\n",
       "       [0.  , 0.  , 0.  , 0.87, 0.  , 0.  , 0.  , 0.  , 0.  , 0.  , 0.  ,\n",
       "        0.  ],\n",
       "       [0.  , 0.  , 0.  , 0.  , 0.  , 0.  , 0.  , 0.  , 0.87, 0.  , 0.  ,\n",
       "        0.  ],\n",
       "       [0.  , 0.87, 0.  , 0.  , 0.  , 0.  , 0.  , 0.  , 0.  , 0.  , 0.  ,\n",
       "        0.  ],\n",
       "       [0.  , 0.  , 0.  , 0.  , 0.  , 0.87, 0.  , 0.  , 0.  , 0.  , 0.  ,\n",
       "        0.  ],\n",
       "       [0.  , 0.  , 0.  , 0.  , 0.  , 0.  , 0.  , 0.  , 0.  , 0.87, 0.  ,\n",
       "        0.  ],\n",
       "       [0.  , 0.  , 0.  , 0.  , 0.  , 0.  , 0.  , 0.  , 0.  , 0.  , 0.  ,\n",
       "        0.87],\n",
       "       [0.87, 0.  , 0.  , 0.  , 0.  , 0.  , 0.  , 0.  , 0.  , 0.  , 0.  ,\n",
       "        0.  ],\n",
       "       [0.  , 0.  , 0.87, 0.  , 0.  , 0.  , 0.  , 0.  , 0.  , 0.  , 0.  ,\n",
       "        0.  ]])"
      ]
     },
     "metadata": {},
     "output_type": "display_data"
    },
    {
     "data": {
      "image/png": "[encoded data removed]",
      "text/plain": [
       "<Figure size 288x288 with 1 Axes>"
      ]
     },
     "metadata": {
      "needs_background": "light"
     },
     "output_type": "display_data"
    }
   ],
   "source": [
    "plan = build.space_filling_lhs(\n",
    "    deepcopy(parameters), num_samples=12\n",
    ")\n",
    "\n",
    "plan.plot.scatter(x=plan.columns[0],\n",
    "                  y=plan.columns[1],\n",
    "                  c='DarkBlue')\n",
    "plt.show()\n",
    "plt.close()\n",
    "\n",
    "results = eval_plan(clf, plan, X, y)\n",
    "enc = OrdinalEncoder()\n",
    "enc.fit(results.loc[:, results.columns != 'results'])\n",
    "indices = enc.transform(results.loc[:, results.columns != 'results'])\n",
    "display(results.head())\n",
    "shape = tuple([len(elt) for elt in enc.categories_])\n",
    "values = np.zeros(shape)\n",
    "display(values.shape)\n",
    "for idx, value in zip(indices, results['results']):\n",
    "    idx = tuple(map(int, idx))\n",
    "    values[idx] = value\n",
    "display(values)\n",
    "\n",
    "\n",
    "plt.matshow(values[:,:])\n",
    "plt.show()\n",
    "plt.close()"
   ]
  },
  {
   "cell_type": "markdown",
   "metadata": {},
   "source": [
    "# Random k-means"
   ]
  },
  {
   "cell_type": "code",
   "execution_count": null,
   "metadata": {},
   "outputs": [],
   "source": [
    "help(build.random_k_means)  #  Only numerical/range values"
   ]
  },
  {
   "cell_type": "code",
   "execution_count": 83,
   "metadata": {},
   "outputs": [
    {
     "name": "stdout",
     "output_type": "stream",
     "text": [
      "C had more than two levels. Assigning the end point to the high level.\n",
      "l1_ratio had more than two levels. Assigning the end point to the high level.\n"
     ]
    },
    {
     "data": {
      "image/png": "[encoded data removed]",
      "text/plain": [
       "<Figure size 432x288 with 1 Axes>"
      ]
     },
     "metadata": {
      "needs_background": "light"
     },
     "output_type": "display_data"
    },
    {
     "name": "stderr",
     "output_type": "stream",
     "text": [
      "100%|███████████████████████████████████████████████████████████████████████████████████████| 12/12 [00:00<00:00, 21.25it/s]\n"
     ]
    },
    {
     "data": {
      "text/html": [
       "<div>\n",
       "<style scoped>\n",
       "    .dataframe tbody tr th:only-of-type {\n",
       "        vertical-align: middle;\n",
       "    }\n",
       "\n",
       "    .dataframe tbody tr th {\n",
       "        vertical-align: top;\n",
       "    }\n",
       "\n",
       "    .dataframe thead th {\n",
       "        text-align: right;\n",
       "    }\n",
       "</style>\n",
       "<table border=\"1\" class=\"dataframe\">\n",
       "  <thead>\n",
       "    <tr style=\"text-align: right;\">\n",
       "      <th></th>\n",
       "      <th>C</th>\n",
       "      <th>l1_ratio</th>\n",
       "      <th>results</th>\n",
       "    </tr>\n",
       "  </thead>\n",
       "  <tbody>\n",
       "    <tr>\n",
       "      <th>0</th>\n",
       "      <td>8.609750e+06</td>\n",
       "      <td>0.873677</td>\n",
       "      <td>0.87</td>\n",
       "    </tr>\n",
       "    <tr>\n",
       "      <th>1</th>\n",
       "      <td>6.638432e+06</td>\n",
       "      <td>0.709663</td>\n",
       "      <td>0.87</td>\n",
       "    </tr>\n",
       "    <tr>\n",
       "      <th>2</th>\n",
       "      <td>9.028261e+06</td>\n",
       "      <td>0.546325</td>\n",
       "      <td>0.87</td>\n",
       "    </tr>\n",
       "    <tr>\n",
       "      <th>3</th>\n",
       "      <td>6.719140e+06</td>\n",
       "      <td>0.464705</td>\n",
       "      <td>0.87</td>\n",
       "    </tr>\n",
       "    <tr>\n",
       "      <th>4</th>\n",
       "      <td>8.584289e+06</td>\n",
       "      <td>0.176642</td>\n",
       "      <td>0.87</td>\n",
       "    </tr>\n",
       "  </tbody>\n",
       "</table>\n",
       "</div>"
      ],
      "text/plain": [
       "              C  l1_ratio  results\n",
       "0  8.609750e+06  0.873677     0.87\n",
       "1  6.638432e+06  0.709663     0.87\n",
       "2  9.028261e+06  0.546325     0.87\n",
       "3  6.719140e+06  0.464705     0.87\n",
       "4  8.584289e+06  0.176642     0.87"
      ]
     },
     "metadata": {},
     "output_type": "display_data"
    },
    {
     "data": {
      "text/plain": [
       "(12, 12)"
      ]
     },
     "metadata": {},
     "output_type": "display_data"
    },
    {
     "data": {
      "text/plain": [
       "array([[0.  , 0.  , 0.  , 0.  , 0.  , 0.86, 0.  , 0.  , 0.  , 0.  , 0.  ,\n",
       "        0.  ],\n",
       "       [0.  , 0.  , 0.  , 0.86, 0.  , 0.  , 0.  , 0.  , 0.  , 0.  , 0.  ,\n",
       "        0.  ],\n",
       "       [0.  , 0.  , 0.  , 0.  , 0.  , 0.  , 0.  , 0.  , 0.  , 0.86, 0.  ,\n",
       "        0.  ],\n",
       "       [0.87, 0.  , 0.  , 0.  , 0.  , 0.  , 0.  , 0.  , 0.  , 0.  , 0.  ,\n",
       "        0.  ],\n",
       "       [0.  , 0.  , 0.  , 0.  , 0.  , 0.  , 0.87, 0.  , 0.  , 0.  , 0.  ,\n",
       "        0.  ],\n",
       "       [0.  , 0.  , 0.  , 0.  , 0.  , 0.  , 0.  , 0.  , 0.  , 0.  , 0.87,\n",
       "        0.  ],\n",
       "       [0.  , 0.  , 0.87, 0.  , 0.  , 0.  , 0.  , 0.  , 0.  , 0.  , 0.  ,\n",
       "        0.  ],\n",
       "       [0.  , 0.  , 0.  , 0.  , 0.  , 0.  , 0.  , 0.  , 0.87, 0.  , 0.  ,\n",
       "        0.  ],\n",
       "       [0.  , 0.  , 0.  , 0.  , 0.87, 0.  , 0.  , 0.  , 0.  , 0.  , 0.  ,\n",
       "        0.  ],\n",
       "       [0.  , 0.87, 0.  , 0.  , 0.  , 0.  , 0.  , 0.  , 0.  , 0.  , 0.  ,\n",
       "        0.  ],\n",
       "       [0.  , 0.  , 0.  , 0.  , 0.  , 0.  , 0.  , 0.  , 0.  , 0.  , 0.  ,\n",
       "        0.87],\n",
       "       [0.  , 0.  , 0.  , 0.  , 0.  , 0.  , 0.  , 0.87, 0.  , 0.  , 0.  ,\n",
       "        0.  ]])"
      ]
     },
     "metadata": {},
     "output_type": "display_data"
    },
    {
     "data": {
      "image/png": "[encoded data removed]",
      "text/plain": [
       "<Figure size 288x288 with 1 Axes>"
      ]
     },
     "metadata": {
      "needs_background": "light"
     },
     "output_type": "display_data"
    }
   ],
   "source": [
    "plan = build.random_k_means(\n",
    "    deepcopy(parameters), num_samples=12\n",
    ")\n",
    "\n",
    "plan.plot.scatter(x=plan.columns[0],\n",
    "                  y=plan.columns[1],\n",
    "                  c='DarkBlue')\n",
    "plt.show()\n",
    "plt.close()\n",
    "\n",
    "results = eval_plan(clf, plan, X, y)\n",
    "enc = OrdinalEncoder()\n",
    "enc.fit(results.loc[:, results.columns != 'results'])\n",
    "indices = enc.transform(results.loc[:, results.columns != 'results'])\n",
    "display(results.head())\n",
    "shape = tuple([len(elt) for elt in enc.categories_])\n",
    "values = np.zeros(shape)\n",
    "display(values.shape)\n",
    "for idx, value in zip(indices, results['results']):\n",
    "    idx = tuple(map(int, idx))\n",
    "    values[idx] = value\n",
    "display(values)\n",
    "\n",
    "\n",
    "plt.matshow(values[:,:])\n",
    "plt.show()\n",
    "plt.close()"
   ]
  },
  {
   "cell_type": "markdown",
   "metadata": {},
   "source": [
    "# Maximin"
   ]
  },
  {
   "cell_type": "code",
   "execution_count": null,
   "metadata": {},
   "outputs": [],
   "source": [
    "help(build.maximin)  #  Only numerical/range values"
   ]
  },
  {
   "cell_type": "code",
   "execution_count": 84,
   "metadata": {},
   "outputs": [
    {
     "name": "stdout",
     "output_type": "stream",
     "text": [
      "C had more than two levels. Assigning the end point to the high level.\n",
      "l1_ratio had more than two levels. Assigning the end point to the high level.\n"
     ]
    },
    {
     "data": {
      "image/png": "[encoded data removed]",
      "text/plain": [
       "<Figure size 432x288 with 1 Axes>"
      ]
     },
     "metadata": {
      "needs_background": "light"
     },
     "output_type": "display_data"
    },
    {
     "name": "stderr",
     "output_type": "stream",
     "text": [
      "100%|███████████████████████████████████████████████████████████████████████████████████████| 12/12 [00:00<00:00, 21.32it/s]\n"
     ]
    },
    {
     "data": {
      "text/html": [
       "<div>\n",
       "<style scoped>\n",
       "    .dataframe tbody tr th:only-of-type {\n",
       "        vertical-align: middle;\n",
       "    }\n",
       "\n",
       "    .dataframe tbody tr th {\n",
       "        vertical-align: top;\n",
       "    }\n",
       "\n",
       "    .dataframe thead th {\n",
       "        text-align: right;\n",
       "    }\n",
       "</style>\n",
       "<table border=\"1\" class=\"dataframe\">\n",
       "  <thead>\n",
       "    <tr style=\"text-align: right;\">\n",
       "      <th></th>\n",
       "      <th>C</th>\n",
       "      <th>l1_ratio</th>\n",
       "      <th>results</th>\n",
       "    </tr>\n",
       "  </thead>\n",
       "  <tbody>\n",
       "    <tr>\n",
       "      <th>0</th>\n",
       "      <td>8.994335e+06</td>\n",
       "      <td>0.238289</td>\n",
       "      <td>0.87</td>\n",
       "    </tr>\n",
       "    <tr>\n",
       "      <th>1</th>\n",
       "      <td>9.300416e+06</td>\n",
       "      <td>0.924077</td>\n",
       "      <td>0.87</td>\n",
       "    </tr>\n",
       "    <tr>\n",
       "      <th>2</th>\n",
       "      <td>3.410796e+06</td>\n",
       "      <td>0.788391</td>\n",
       "      <td>0.87</td>\n",
       "    </tr>\n",
       "    <tr>\n",
       "      <th>3</th>\n",
       "      <td>7.459089e+06</td>\n",
       "      <td>0.696779</td>\n",
       "      <td>0.87</td>\n",
       "    </tr>\n",
       "    <tr>\n",
       "      <th>4</th>\n",
       "      <td>1.991498e+06</td>\n",
       "      <td>0.984817</td>\n",
       "      <td>0.87</td>\n",
       "    </tr>\n",
       "  </tbody>\n",
       "</table>\n",
       "</div>"
      ],
      "text/plain": [
       "              C  l1_ratio  results\n",
       "0  8.994335e+06  0.238289     0.87\n",
       "1  9.300416e+06  0.924077     0.87\n",
       "2  3.410796e+06  0.788391     0.87\n",
       "3  7.459089e+06  0.696779     0.87\n",
       "4  1.991498e+06  0.984817     0.87"
      ]
     },
     "metadata": {},
     "output_type": "display_data"
    },
    {
     "data": {
      "text/plain": [
       "(12, 12)"
      ]
     },
     "metadata": {},
     "output_type": "display_data"
    },
    {
     "data": {
      "text/plain": [
       "array([[0.  , 0.  , 0.  , 0.86, 0.  , 0.  , 0.  , 0.  , 0.  , 0.  , 0.  ,\n",
       "        0.  ],\n",
       "       [0.  , 0.  , 0.  , 0.  , 0.  , 0.  , 0.  , 0.86, 0.  , 0.  , 0.  ,\n",
       "        0.  ],\n",
       "       [0.  , 0.  , 0.  , 0.  , 0.  , 0.  , 0.  , 0.  , 0.  , 0.  , 0.  ,\n",
       "        0.87],\n",
       "       [0.  , 0.  , 0.87, 0.  , 0.  , 0.  , 0.  , 0.  , 0.  , 0.  , 0.  ,\n",
       "        0.  ],\n",
       "       [0.  , 0.  , 0.  , 0.  , 0.  , 0.  , 0.  , 0.  , 0.87, 0.  , 0.  ,\n",
       "        0.  ],\n",
       "       [0.  , 0.  , 0.  , 0.  , 0.  , 0.87, 0.  , 0.  , 0.  , 0.  , 0.  ,\n",
       "        0.  ],\n",
       "       [0.87, 0.  , 0.  , 0.  , 0.  , 0.  , 0.  , 0.  , 0.  , 0.  , 0.  ,\n",
       "        0.  ],\n",
       "       [0.  , 0.  , 0.  , 0.  , 0.  , 0.  , 0.  , 0.  , 0.  , 0.  , 0.87,\n",
       "        0.  ],\n",
       "       [0.  , 0.  , 0.  , 0.  , 0.87, 0.  , 0.  , 0.  , 0.  , 0.  , 0.  ,\n",
       "        0.  ],\n",
       "       [0.  , 0.  , 0.  , 0.  , 0.  , 0.  , 0.87, 0.  , 0.  , 0.  , 0.  ,\n",
       "        0.  ],\n",
       "       [0.  , 0.87, 0.  , 0.  , 0.  , 0.  , 0.  , 0.  , 0.  , 0.  , 0.  ,\n",
       "        0.  ],\n",
       "       [0.  , 0.  , 0.  , 0.  , 0.  , 0.  , 0.  , 0.  , 0.  , 0.87, 0.  ,\n",
       "        0.  ]])"
      ]
     },
     "metadata": {},
     "output_type": "display_data"
    },
    {
     "data": {
      "image/png": "[encoded data removed]",
      "text/plain": [
       "<Figure size 288x288 with 1 Axes>"
      ]
     },
     "metadata": {
      "needs_background": "light"
     },
     "output_type": "display_data"
    }
   ],
   "source": [
    "plan = build.maximin(\n",
    "    deepcopy(parameters), num_samples=12\n",
    ")\n",
    "\n",
    "plan.plot.scatter(x=plan.columns[0],\n",
    "                  y=plan.columns[1],\n",
    "                  c='DarkBlue')\n",
    "plt.show()\n",
    "plt.close()\n",
    "\n",
    "results = eval_plan(clf, plan, X, y)\n",
    "enc = OrdinalEncoder()\n",
    "enc.fit(results.loc[:, results.columns != 'results'])\n",
    "indices = enc.transform(results.loc[:, results.columns != 'results'])\n",
    "display(results.head())\n",
    "shape = tuple([len(elt) for elt in enc.categories_])\n",
    "values = np.zeros(shape)\n",
    "display(values.shape)\n",
    "for idx, value in zip(indices, results['results']):\n",
    "    idx = tuple(map(int, idx))\n",
    "    values[idx] = value\n",
    "display(values)\n",
    "\n",
    "\n",
    "plt.matshow(values[:,:])\n",
    "plt.show()\n",
    "plt.close()"
   ]
  },
  {
   "cell_type": "markdown",
   "metadata": {},
   "source": [
    "# Halton"
   ]
  },
  {
   "cell_type": "code",
   "execution_count": null,
   "metadata": {},
   "outputs": [],
   "source": [
    "help(build.halton)  #  Only numerical/range values"
   ]
  },
  {
   "cell_type": "code",
   "execution_count": 85,
   "metadata": {},
   "outputs": [
    {
     "name": "stdout",
     "output_type": "stream",
     "text": [
      "C had more than two levels. Assigning the end point to the high level.\n",
      "l1_ratio had more than two levels. Assigning the end point to the high level.\n"
     ]
    },
    {
     "data": {
      "image/png": "[encoded data removed]",
      "text/plain": [
       "<Figure size 432x288 with 1 Axes>"
      ]
     },
     "metadata": {
      "needs_background": "light"
     },
     "output_type": "display_data"
    },
    {
     "name": "stderr",
     "output_type": "stream",
     "text": [
      "100%|███████████████████████████████████████████████████████████████████████████████████████| 12/12 [00:00<00:00, 23.32it/s]\n"
     ]
    },
    {
     "data": {
      "text/html": [
       "<div>\n",
       "<style scoped>\n",
       "    .dataframe tbody tr th:only-of-type {\n",
       "        vertical-align: middle;\n",
       "    }\n",
       "\n",
       "    .dataframe tbody tr th {\n",
       "        vertical-align: top;\n",
       "    }\n",
       "\n",
       "    .dataframe thead th {\n",
       "        text-align: right;\n",
       "    }\n",
       "</style>\n",
       "<table border=\"1\" class=\"dataframe\">\n",
       "  <thead>\n",
       "    <tr style=\"text-align: right;\">\n",
       "      <th></th>\n",
       "      <th>C</th>\n",
       "      <th>l1_ratio</th>\n",
       "      <th>results</th>\n",
       "    </tr>\n",
       "  </thead>\n",
       "  <tbody>\n",
       "    <tr>\n",
       "      <th>0</th>\n",
       "      <td>1.000000e-08</td>\n",
       "      <td>0.000000</td>\n",
       "      <td>0.92</td>\n",
       "    </tr>\n",
       "    <tr>\n",
       "      <th>1</th>\n",
       "      <td>5.000000e+06</td>\n",
       "      <td>0.333333</td>\n",
       "      <td>0.87</td>\n",
       "    </tr>\n",
       "    <tr>\n",
       "      <th>2</th>\n",
       "      <td>2.500000e+06</td>\n",
       "      <td>0.666667</td>\n",
       "      <td>0.87</td>\n",
       "    </tr>\n",
       "    <tr>\n",
       "      <th>3</th>\n",
       "      <td>7.500000e+06</td>\n",
       "      <td>0.111111</td>\n",
       "      <td>0.87</td>\n",
       "    </tr>\n",
       "    <tr>\n",
       "      <th>4</th>\n",
       "      <td>1.250000e+06</td>\n",
       "      <td>0.444444</td>\n",
       "      <td>0.86</td>\n",
       "    </tr>\n",
       "  </tbody>\n",
       "</table>\n",
       "</div>"
      ],
      "text/plain": [
       "              C  l1_ratio  results\n",
       "0  1.000000e-08  0.000000     0.92\n",
       "1  5.000000e+06  0.333333     0.87\n",
       "2  2.500000e+06  0.666667     0.87\n",
       "3  7.500000e+06  0.111111     0.87\n",
       "4  1.250000e+06  0.444444     0.86"
      ]
     },
     "metadata": {},
     "output_type": "display_data"
    },
    {
     "data": {
      "text/plain": [
       "(12, 12)"
      ]
     },
     "metadata": {},
     "output_type": "display_data"
    },
    {
     "data": {
      "text/plain": [
       "array([[0.92, 0.  , 0.  , 0.  , 0.  , 0.  , 0.  , 0.  , 0.  , 0.  , 0.  ,\n",
       "        0.  ],\n",
       "       [0.  , 0.  , 0.  , 0.  , 0.  , 0.  , 0.  , 0.  , 0.  , 0.  , 0.  ,\n",
       "        0.86],\n",
       "       [0.  , 0.  , 0.  , 0.  , 0.  , 0.  , 0.86, 0.  , 0.  , 0.  , 0.  ,\n",
       "        0.  ],\n",
       "       [0.  , 0.  , 0.  , 0.  , 0.  , 0.  , 0.  , 0.  , 0.87, 0.  , 0.  ,\n",
       "        0.  ],\n",
       "       [0.  , 0.  , 0.  , 0.  , 0.  , 0.87, 0.  , 0.  , 0.  , 0.  , 0.  ,\n",
       "        0.  ],\n",
       "       [0.  , 0.  , 0.  , 0.87, 0.  , 0.  , 0.  , 0.  , 0.  , 0.  , 0.  ,\n",
       "        0.  ],\n",
       "       [0.  , 0.  , 0.  , 0.  , 0.87, 0.  , 0.  , 0.  , 0.  , 0.  , 0.  ,\n",
       "        0.  ],\n",
       "       [0.  , 0.87, 0.  , 0.  , 0.  , 0.  , 0.  , 0.  , 0.  , 0.  , 0.  ,\n",
       "        0.  ],\n",
       "       [0.  , 0.  , 0.  , 0.  , 0.  , 0.  , 0.  , 0.  , 0.  , 0.  , 0.87,\n",
       "        0.  ],\n",
       "       [0.  , 0.  , 0.87, 0.  , 0.  , 0.  , 0.  , 0.  , 0.  , 0.  , 0.  ,\n",
       "        0.  ],\n",
       "       [0.  , 0.  , 0.  , 0.  , 0.  , 0.  , 0.  , 0.  , 0.  , 0.87, 0.  ,\n",
       "        0.  ],\n",
       "       [0.  , 0.  , 0.  , 0.  , 0.  , 0.  , 0.  , 0.87, 0.  , 0.  , 0.  ,\n",
       "        0.  ]])"
      ]
     },
     "metadata": {},
     "output_type": "display_data"
    },
    {
     "data": {
      "image/png": "[encoded data removed]",
      "text/plain": [
       "<Figure size 288x288 with 1 Axes>"
      ]
     },
     "metadata": {
      "needs_background": "light"
     },
     "output_type": "display_data"
    }
   ],
   "source": [
    "plan = build.halton(\n",
    "    deepcopy(parameters), num_samples=12\n",
    ")\n",
    "\n",
    "plan.plot.scatter(x=plan.columns[0],\n",
    "                  y=plan.columns[1],\n",
    "                  c='DarkBlue')\n",
    "plt.show()\n",
    "plt.close()\n",
    "\n",
    "results = eval_plan(clf, plan, X, y)\n",
    "enc = OrdinalEncoder()\n",
    "enc.fit(results.loc[:, results.columns != 'results'])\n",
    "indices = enc.transform(results.loc[:, results.columns != 'results'])\n",
    "display(results.head())\n",
    "shape = tuple([len(elt) for elt in enc.categories_])\n",
    "values = np.zeros(shape)\n",
    "display(values.shape)\n",
    "for idx, value in zip(indices, results['results']):\n",
    "    idx = tuple(map(int, idx))\n",
    "    values[idx] = value\n",
    "display(values)\n",
    "\n",
    "\n",
    "plt.matshow(values[:,:])\n",
    "plt.show()\n",
    "plt.close()"
   ]
  },
  {
   "cell_type": "markdown",
   "metadata": {},
   "source": [
    "# Uniform Random"
   ]
  },
  {
   "cell_type": "code",
   "execution_count": null,
   "metadata": {},
   "outputs": [],
   "source": [
    "help(build.uniform_random)  # Only numerical/range values"
   ]
  },
  {
   "cell_type": "code",
   "execution_count": 86,
   "metadata": {},
   "outputs": [
    {
     "name": "stdout",
     "output_type": "stream",
     "text": [
      "C had more than two levels. Assigning the end point to the high level.\n",
      "l1_ratio had more than two levels. Assigning the end point to the high level.\n"
     ]
    },
    {
     "data": {
      "image/png": "[encoded data removed]",
      "text/plain": [
       "<Figure size 432x288 with 1 Axes>"
      ]
     },
     "metadata": {
      "needs_background": "light"
     },
     "output_type": "display_data"
    },
    {
     "name": "stderr",
     "output_type": "stream",
     "text": [
      "100%|███████████████████████████████████████████████████████████████████████████████████████| 12/12 [00:00<00:00, 20.32it/s]\n"
     ]
    },
    {
     "data": {
      "text/html": [
       "<div>\n",
       "<style scoped>\n",
       "    .dataframe tbody tr th:only-of-type {\n",
       "        vertical-align: middle;\n",
       "    }\n",
       "\n",
       "    .dataframe tbody tr th {\n",
       "        vertical-align: top;\n",
       "    }\n",
       "\n",
       "    .dataframe thead th {\n",
       "        text-align: right;\n",
       "    }\n",
       "</style>\n",
       "<table border=\"1\" class=\"dataframe\">\n",
       "  <thead>\n",
       "    <tr style=\"text-align: right;\">\n",
       "      <th></th>\n",
       "      <th>C</th>\n",
       "      <th>l1_ratio</th>\n",
       "      <th>results</th>\n",
       "    </tr>\n",
       "  </thead>\n",
       "  <tbody>\n",
       "    <tr>\n",
       "      <th>0</th>\n",
       "      <td>4.521343e+06</td>\n",
       "      <td>0.258506</td>\n",
       "      <td>0.87</td>\n",
       "    </tr>\n",
       "    <tr>\n",
       "      <th>1</th>\n",
       "      <td>7.803481e+06</td>\n",
       "      <td>0.296248</td>\n",
       "      <td>0.87</td>\n",
       "    </tr>\n",
       "    <tr>\n",
       "      <th>2</th>\n",
       "      <td>5.593610e+06</td>\n",
       "      <td>0.737710</td>\n",
       "      <td>0.87</td>\n",
       "    </tr>\n",
       "    <tr>\n",
       "      <th>3</th>\n",
       "      <td>2.897563e+06</td>\n",
       "      <td>0.647205</td>\n",
       "      <td>0.87</td>\n",
       "    </tr>\n",
       "    <tr>\n",
       "      <th>4</th>\n",
       "      <td>5.147164e+06</td>\n",
       "      <td>0.850760</td>\n",
       "      <td>0.87</td>\n",
       "    </tr>\n",
       "  </tbody>\n",
       "</table>\n",
       "</div>"
      ],
      "text/plain": [
       "              C  l1_ratio  results\n",
       "0  4.521343e+06  0.258506     0.87\n",
       "1  7.803481e+06  0.296248     0.87\n",
       "2  5.593610e+06  0.737710     0.87\n",
       "3  2.897563e+06  0.647205     0.87\n",
       "4  5.147164e+06  0.850760     0.87"
      ]
     },
     "metadata": {},
     "output_type": "display_data"
    },
    {
     "data": {
      "text/plain": [
       "(12, 12)"
      ]
     },
     "metadata": {},
     "output_type": "display_data"
    },
    {
     "data": {
      "text/plain": [
       "array([[0.  , 0.  , 0.  , 0.  , 0.  , 0.  , 0.86, 0.  , 0.  , 0.  , 0.  ,\n",
       "        0.  ],\n",
       "       [0.86, 0.  , 0.  , 0.  , 0.  , 0.  , 0.  , 0.  , 0.  , 0.  , 0.  ,\n",
       "        0.  ],\n",
       "       [0.  , 0.  , 0.  , 0.  , 0.  , 0.87, 0.  , 0.  , 0.  , 0.  , 0.  ,\n",
       "        0.  ],\n",
       "       [0.  , 0.  , 0.87, 0.  , 0.  , 0.  , 0.  , 0.  , 0.  , 0.  , 0.  ,\n",
       "        0.  ],\n",
       "       [0.  , 0.  , 0.  , 0.  , 0.  , 0.  , 0.  , 0.  , 0.  , 0.  , 0.  ,\n",
       "        0.87],\n",
       "       [0.  , 0.87, 0.  , 0.  , 0.  , 0.  , 0.  , 0.  , 0.  , 0.  , 0.  ,\n",
       "        0.  ],\n",
       "       [0.  , 0.  , 0.  , 0.  , 0.  , 0.  , 0.  , 0.  , 0.  , 0.87, 0.  ,\n",
       "        0.  ],\n",
       "       [0.  , 0.  , 0.  , 0.  , 0.  , 0.  , 0.  , 0.87, 0.  , 0.  , 0.  ,\n",
       "        0.  ],\n",
       "       [0.  , 0.  , 0.  , 0.  , 0.87, 0.  , 0.  , 0.  , 0.  , 0.  , 0.  ,\n",
       "        0.  ],\n",
       "       [0.  , 0.  , 0.  , 0.87, 0.  , 0.  , 0.  , 0.  , 0.  , 0.  , 0.  ,\n",
       "        0.  ],\n",
       "       [0.  , 0.  , 0.  , 0.  , 0.  , 0.  , 0.  , 0.  , 0.87, 0.  , 0.  ,\n",
       "        0.  ],\n",
       "       [0.  , 0.  , 0.  , 0.  , 0.  , 0.  , 0.  , 0.  , 0.  , 0.  , 0.87,\n",
       "        0.  ]])"
      ]
     },
     "metadata": {},
     "output_type": "display_data"
    },
    {
     "data": {
      "image/png": "[encoded data removed]",
      "text/plain": [
       "<Figure size 288x288 with 1 Axes>"
      ]
     },
     "metadata": {
      "needs_background": "light"
     },
     "output_type": "display_data"
    }
   ],
   "source": [
    "plan = build.uniform_random(\n",
    "    deepcopy(parameters), num_samples=12\n",
    ")\n",
    "\n",
    "plan.plot.scatter(x=plan.columns[0],\n",
    "                  y=plan.columns[1],\n",
    "                  c='DarkBlue')\n",
    "plt.show()\n",
    "plt.close()\n",
    "\n",
    "results = eval_plan(clf, plan, X, y)\n",
    "enc = OrdinalEncoder()\n",
    "enc.fit(results.loc[:, results.columns != 'results'])\n",
    "indices = enc.transform(results.loc[:, results.columns != 'results'])\n",
    "display(results.head())\n",
    "shape = tuple([len(elt) for elt in enc.categories_])\n",
    "values = np.zeros(shape)\n",
    "display(values.shape)\n",
    "for idx, value in zip(indices, results['results']):\n",
    "    idx = tuple(map(int, idx))\n",
    "    values[idx] = value\n",
    "display(values)\n",
    "\n",
    "plt.matshow(values[:,:])\n",
    "plt.show()\n",
    "plt.close()"
   ]
  },
  {
   "cell_type": "code",
   "execution_count": null,
   "metadata": {},
   "outputs": [],
   "source": []
  }
 ],
 "metadata": {
  "kernelspec": {
   "display_name": "Python 3",
   "language": "python",
   "name": "python3"
  },
  "language_info": {
   "codemirror_mode": {
    "name": "ipython",
    "version": 3
   },
   "file_extension": ".py",
   "mimetype": "text/x-python",
   "name": "python",
   "nbconvert_exporter": "python",
   "pygments_lexer": "ipython3",
   "version": "3.7.4"
  }
 },
 "nbformat": 4,
 "nbformat_minor": 4
}
