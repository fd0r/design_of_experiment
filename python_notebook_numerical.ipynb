{
 "cells": [
  {
   "cell_type": "markdown",
   "metadata": {},
   "source": [
    "## Imports"
   ]
  },
  {
   "cell_type": "code",
   "execution_count": 38,
   "metadata": {},
   "outputs": [],
   "source": [
    "from sklearn.utils.fixes import loguniform\n",
    "import numpy as np\n",
    "import doepy\n",
    "from doepy import build\n",
    "import pyDOE2\n",
    "import pandas as pd\n",
    "from tqdm import tqdm\n",
    "from sklearn.model_selection import cross_val_score\n",
    "from sklearn.preprocessing import LabelEncoder\n",
    "from sklearn.preprocessing import OrdinalEncoder\n",
    "from sklearn.datasets import make_classification\n",
    "from sklearn.svm import SVC\n",
    "from sklearn.linear_model import LogisticRegression\n",
    "import matplotlib.pyplot as plt\n",
    "import warnings\n",
    "from copy import deepcopy\n",
    "from itertools import combinations_with_replacement\n",
    "\n",
    "warnings.filterwarnings(\"ignore\")\n",
    "%matplotlib inline"
   ]
  },
  {
   "cell_type": "markdown",
   "metadata": {},
   "source": [
    "## Synthetic data"
   ]
  },
  {
   "cell_type": "code",
   "execution_count": 39,
   "metadata": {},
   "outputs": [],
   "source": [
    "X, y = make_classification(random_state=420)"
   ]
  },
  {
   "cell_type": "code",
   "execution_count": 40,
   "metadata": {},
   "outputs": [
    {
     "data": {
      "text/plain": [
       "(100, 20)"
      ]
     },
     "execution_count": 40,
     "metadata": {},
     "output_type": "execute_result"
    }
   ],
   "source": [
    "X.shape"
   ]
  },
  {
   "cell_type": "markdown",
   "metadata": {},
   "source": [
    "## Functions"
   ]
  },
  {
   "cell_type": "code",
   "execution_count": 41,
   "metadata": {},
   "outputs": [],
   "source": [
    "def eval_hyper_parameter(clf_class, params, X, y, **kwargs):\n",
    "    clf_ = clf_class(**params, **kwargs)\n",
    "    return np.mean(cross_val_score(clf_, X, y))\n",
    "\n",
    "def eval_plan(clf_class, plan, X, y, key=\"results\", **kwargs):\n",
    "    with tqdm(total=len(plan)) as pbar:\n",
    "        def to_eval(params): \n",
    "            res = eval_hyper_parameter(clf_class, params, X, y, **kwargs)\n",
    "            pbar.update(1)\n",
    "            return res\n",
    "        plan[key] = plan.apply(to_eval, axis=1)\n",
    "    return plan"
   ]
  },
  {
   "cell_type": "markdown",
   "metadata": {},
   "source": [
    "## Categorical values"
   ]
  },
  {
   "cell_type": "code",
   "execution_count": 42,
   "metadata": {},
   "outputs": [],
   "source": [
    "parameters = {\n",
    "    'C':[float(\"1e{}\".format(i)) for i in range(-8, 8)], \n",
    "    'l1_ratio':list(np.linspace(0, 1, 50))}"
   ]
  },
  {
   "cell_type": "code",
   "execution_count": 43,
   "metadata": {},
   "outputs": [],
   "source": [
    "clf = LogisticRegression"
   ]
  },
  {
   "cell_type": "markdown",
   "metadata": {},
   "source": [
    "# Full plan\n",
    "Full factorial design."
   ]
  },
  {
   "cell_type": "code",
   "execution_count": 44,
   "metadata": {},
   "outputs": [
    {
     "name": "stdout",
     "output_type": "stream",
     "text": [
      "Help on function full_fact in module doepy.build:\n",
      "\n",
      "full_fact(d)\n",
      "    Builds a full factorial design dataframe from a dictionary of factor/level ranges\n",
      "    Example of the dictionary which is needed as the input:\n",
      "    {'Pressure':[50,60,70],'Temperature':[290, 320, 350],'Flow rate':[0.9,1.0]}\n",
      "\n"
     ]
    }
   ],
   "source": [
    "help(build.full_fact)"
   ]
  },
  {
   "cell_type": "code",
   "execution_count": 102,
   "metadata": {},
   "outputs": [
    {
     "data": {
      "text/plain": [
       "1.9035218546722038e+63"
      ]
     },
     "metadata": {},
     "output_type": "display_data"
    },
    {
     "data": {
      "text/plain": [
       "array([[5.05050505e+15, 2.77777779e+08, 5.00500502e+22, 2.52525254e+15,\n",
       "        1.87074832e+08, 5.55555556e+08],\n",
       "       [2.77777779e+08, 2.69387758e+02, 2.52525255e+15, 1.87074832e+08,\n",
       "        2.04081636e+02, 4.00000002e+02],\n",
       "       [5.00500502e+22, 2.52525255e+15, 5.00050009e+29, 2.50250253e+22,\n",
       "        1.70068030e+15, 5.05050507e+15],\n",
       "       [2.52525254e+15, 1.87074832e+08, 2.50250253e+22, 1.70068028e+15,\n",
       "        1.41723358e+08, 2.77777779e+08],\n",
       "       [1.87074832e+08, 2.04081636e+02, 1.70068030e+15, 1.41723358e+08,\n",
       "        1.64908843e+02, 2.69387758e+02],\n",
       "       [5.55555556e+08, 4.00000002e+02, 5.05050507e+15, 2.77777779e+08,\n",
       "        2.69387758e+02, 8.00000000e+02]])"
      ]
     },
     "metadata": {},
     "output_type": "display_data"
    },
    {
     "data": {
      "image/png": "[encoded data removed]",
      "text/plain": [
       "<Figure size 432x288 with 1 Axes>"
      ]
     },
     "metadata": {
      "needs_background": "light"
     },
     "output_type": "display_data"
    },
    {
     "name": "stderr",
     "output_type": "stream",
     "text": [
      "100%|█████████████████████████████████████████████████████████████████████████████████████| 800/800 [00:36<00:00, 13.57it/s]\n"
     ]
    },
    {
     "data": {
      "text/html": [
       "<div>\n",
       "<style scoped>\n",
       "    .dataframe tbody tr th:only-of-type {\n",
       "        vertical-align: middle;\n",
       "    }\n",
       "\n",
       "    .dataframe tbody tr th {\n",
       "        vertical-align: top;\n",
       "    }\n",
       "\n",
       "    .dataframe thead th {\n",
       "        text-align: right;\n",
       "    }\n",
       "</style>\n",
       "<table border=\"1\" class=\"dataframe\">\n",
       "  <thead>\n",
       "    <tr style=\"text-align: right;\">\n",
       "      <th></th>\n",
       "      <th>C</th>\n",
       "      <th>l1_ratio</th>\n",
       "      <th>results</th>\n",
       "    </tr>\n",
       "  </thead>\n",
       "  <tbody>\n",
       "    <tr>\n",
       "      <th>0</th>\n",
       "      <td>1.000000e-08</td>\n",
       "      <td>0.0</td>\n",
       "      <td>0.52</td>\n",
       "    </tr>\n",
       "    <tr>\n",
       "      <th>1</th>\n",
       "      <td>1.000000e-07</td>\n",
       "      <td>0.0</td>\n",
       "      <td>0.61</td>\n",
       "    </tr>\n",
       "    <tr>\n",
       "      <th>2</th>\n",
       "      <td>1.000000e-06</td>\n",
       "      <td>0.0</td>\n",
       "      <td>0.74</td>\n",
       "    </tr>\n",
       "    <tr>\n",
       "      <th>3</th>\n",
       "      <td>1.000000e-05</td>\n",
       "      <td>0.0</td>\n",
       "      <td>0.62</td>\n",
       "    </tr>\n",
       "    <tr>\n",
       "      <th>4</th>\n",
       "      <td>1.000000e-04</td>\n",
       "      <td>0.0</td>\n",
       "      <td>0.91</td>\n",
       "    </tr>\n",
       "  </tbody>\n",
       "</table>\n",
       "</div>"
      ],
      "text/plain": [
       "              C  l1_ratio  results\n",
       "0  1.000000e-08       0.0     0.52\n",
       "1  1.000000e-07       0.0     0.61\n",
       "2  1.000000e-06       0.0     0.74\n",
       "3  1.000000e-05       0.0     0.62\n",
       "4  1.000000e-04       0.0     0.91"
      ]
     },
     "metadata": {},
     "output_type": "display_data"
    },
    {
     "data": {
      "text/plain": [
       "(16, 50)"
      ]
     },
     "metadata": {},
     "output_type": "display_data"
    },
    {
     "data": {
      "text/plain": [
       "array([[0.52, 0.5 , 0.5 , 0.5 , 0.5 , 0.5 , 0.5 , 0.5 , 0.5 , 0.5 , 0.5 ,\n",
       "        0.5 , 0.5 , 0.5 , 0.5 , 0.5 , 0.5 , 0.5 , 0.5 , 0.5 , 0.5 , 0.5 ,\n",
       "        0.5 , 0.5 , 0.5 , 0.5 , 0.5 , 0.5 , 0.5 , 0.5 , 0.5 , 0.5 , 0.5 ,\n",
       "        0.5 , 0.5 , 0.5 , 0.5 , 0.5 , 0.5 , 0.5 , 0.5 , 0.5 , 0.5 , 0.5 ,\n",
       "        0.5 , 0.5 , 0.5 , 0.5 , 0.5 , 0.5 ],\n",
       "       [0.61, 0.5 , 0.5 , 0.5 , 0.5 , 0.5 , 0.5 , 0.5 , 0.5 , 0.5 , 0.5 ,\n",
       "        0.5 , 0.5 , 0.5 , 0.5 , 0.5 , 0.5 , 0.5 , 0.5 , 0.5 , 0.5 , 0.5 ,\n",
       "        0.5 , 0.5 , 0.5 , 0.5 , 0.5 , 0.5 , 0.5 , 0.5 , 0.5 , 0.5 , 0.5 ,\n",
       "        0.5 , 0.5 , 0.5 , 0.5 , 0.5 , 0.5 , 0.5 , 0.5 , 0.5 , 0.5 , 0.5 ,\n",
       "        0.5 , 0.5 , 0.5 , 0.5 , 0.5 , 0.5 ],\n",
       "       [0.74, 0.5 , 0.5 , 0.5 , 0.5 , 0.5 , 0.5 , 0.5 , 0.5 , 0.5 , 0.5 ,\n",
       "        0.5 , 0.5 , 0.5 , 0.5 , 0.5 , 0.5 , 0.5 , 0.5 , 0.5 , 0.5 , 0.5 ,\n",
       "        0.5 , 0.5 , 0.5 , 0.5 , 0.5 , 0.5 , 0.5 , 0.5 , 0.5 , 0.5 , 0.5 ,\n",
       "        0.5 , 0.5 , 0.5 , 0.5 , 0.5 , 0.5 , 0.5 , 0.5 , 0.5 , 0.5 , 0.5 ,\n",
       "        0.5 , 0.5 , 0.5 , 0.5 , 0.5 , 0.5 ],\n",
       "       [0.62, 0.5 , 0.5 , 0.5 , 0.5 , 0.5 , 0.5 , 0.5 , 0.5 , 0.5 , 0.5 ,\n",
       "        0.5 , 0.5 , 0.5 , 0.5 , 0.5 , 0.5 , 0.5 , 0.5 , 0.5 , 0.5 , 0.5 ,\n",
       "        0.5 , 0.5 , 0.5 , 0.5 , 0.5 , 0.5 , 0.5 , 0.5 , 0.5 , 0.5 , 0.5 ,\n",
       "        0.5 , 0.5 , 0.5 , 0.5 , 0.5 , 0.5 , 0.5 , 0.5 , 0.5 , 0.5 , 0.5 ,\n",
       "        0.5 , 0.5 , 0.5 , 0.5 , 0.5 , 0.5 ],\n",
       "       [0.91, 0.5 , 0.5 , 0.5 , 0.5 , 0.5 , 0.5 , 0.5 , 0.5 , 0.5 , 0.5 ,\n",
       "        0.5 , 0.5 , 0.5 , 0.5 , 0.5 , 0.5 , 0.5 , 0.5 , 0.5 , 0.5 , 0.5 ,\n",
       "        0.5 , 0.5 , 0.5 , 0.5 , 0.5 , 0.5 , 0.5 , 0.5 , 0.5 , 0.5 , 0.5 ,\n",
       "        0.5 , 0.5 , 0.5 , 0.5 , 0.5 , 0.5 , 0.5 , 0.5 , 0.5 , 0.5 , 0.5 ,\n",
       "        0.5 , 0.5 , 0.5 , 0.5 , 0.5 , 0.5 ],\n",
       "       [0.92, 0.94, 0.55, 0.5 , 0.5 , 0.5 , 0.5 , 0.5 , 0.5 , 0.5 , 0.5 ,\n",
       "        0.5 , 0.5 , 0.5 , 0.5 , 0.5 , 0.5 , 0.5 , 0.5 , 0.5 , 0.5 , 0.5 ,\n",
       "        0.5 , 0.5 , 0.5 , 0.5 , 0.5 , 0.5 , 0.5 , 0.5 , 0.5 , 0.5 , 0.5 ,\n",
       "        0.5 , 0.5 , 0.5 , 0.5 , 0.5 , 0.5 , 0.5 , 0.5 , 0.5 , 0.5 , 0.5 ,\n",
       "        0.5 , 0.5 , 0.5 , 0.5 , 0.5 , 0.5 ],\n",
       "       [0.92, 0.93, 0.94, 0.94, 0.94, 0.94, 0.94, 0.94, 0.94, 0.95, 0.95,\n",
       "        0.94, 0.93, 0.92, 0.92, 0.9 , 0.9 , 0.9 , 0.9 , 0.64, 0.56, 0.5 ,\n",
       "        0.5 , 0.5 , 0.5 , 0.5 , 0.5 , 0.5 , 0.5 , 0.5 , 0.5 , 0.5 , 0.5 ,\n",
       "        0.5 , 0.5 , 0.5 , 0.5 , 0.5 , 0.5 , 0.5 , 0.5 , 0.5 , 0.5 , 0.5 ,\n",
       "        0.5 , 0.5 , 0.5 , 0.5 , 0.5 , 0.5 ],\n",
       "       [0.92, 0.92, 0.93, 0.93, 0.93, 0.93, 0.93, 0.93, 0.93, 0.93, 0.94,\n",
       "        0.94, 0.94, 0.94, 0.94, 0.94, 0.94, 0.94, 0.94, 0.94, 0.94, 0.94,\n",
       "        0.94, 0.94, 0.94, 0.94, 0.94, 0.94, 0.94, 0.93, 0.93, 0.93, 0.93,\n",
       "        0.93, 0.93, 0.93, 0.93, 0.93, 0.93, 0.93, 0.93, 0.93, 0.93, 0.93,\n",
       "        0.91, 0.91, 0.91, 0.91, 0.91, 0.91],\n",
       "       [0.89, 0.89, 0.89, 0.89, 0.89, 0.89, 0.89, 0.89, 0.89, 0.89, 0.9 ,\n",
       "        0.9 , 0.9 , 0.91, 0.91, 0.91, 0.91, 0.92, 0.92, 0.92, 0.92, 0.92,\n",
       "        0.92, 0.92, 0.93, 0.93, 0.93, 0.93, 0.93, 0.93, 0.93, 0.93, 0.93,\n",
       "        0.93, 0.93, 0.93, 0.93, 0.93, 0.93, 0.93, 0.93, 0.93, 0.93, 0.93,\n",
       "        0.93, 0.93, 0.93, 0.93, 0.93, 0.93],\n",
       "       [0.89, 0.89, 0.89, 0.89, 0.89, 0.89, 0.89, 0.89, 0.89, 0.89, 0.89,\n",
       "        0.89, 0.89, 0.89, 0.89, 0.89, 0.89, 0.89, 0.89, 0.9 , 0.89, 0.89,\n",
       "        0.9 , 0.9 , 0.9 , 0.9 , 0.91, 0.91, 0.91, 0.91, 0.91, 0.91, 0.91,\n",
       "        0.91, 0.91, 0.91, 0.91, 0.91, 0.91, 0.91, 0.91, 0.91, 0.91, 0.91,\n",
       "        0.91, 0.91, 0.91, 0.91, 0.91, 0.91],\n",
       "       [0.89, 0.89, 0.89, 0.89, 0.89, 0.89, 0.89, 0.89, 0.89, 0.89, 0.89,\n",
       "        0.89, 0.89, 0.89, 0.89, 0.89, 0.89, 0.89, 0.89, 0.89, 0.89, 0.89,\n",
       "        0.89, 0.89, 0.89, 0.89, 0.89, 0.89, 0.89, 0.89, 0.89, 0.89, 0.89,\n",
       "        0.89, 0.89, 0.89, 0.89, 0.89, 0.89, 0.89, 0.89, 0.89, 0.89, 0.89,\n",
       "        0.89, 0.89, 0.89, 0.89, 0.89, 0.89],\n",
       "       [0.89, 0.89, 0.89, 0.89, 0.89, 0.89, 0.89, 0.89, 0.89, 0.89, 0.89,\n",
       "        0.89, 0.89, 0.89, 0.89, 0.89, 0.89, 0.89, 0.89, 0.89, 0.89, 0.89,\n",
       "        0.89, 0.89, 0.89, 0.89, 0.89, 0.89, 0.89, 0.89, 0.89, 0.89, 0.89,\n",
       "        0.89, 0.89, 0.89, 0.89, 0.89, 0.89, 0.89, 0.89, 0.89, 0.89, 0.89,\n",
       "        0.89, 0.89, 0.89, 0.89, 0.89, 0.89],\n",
       "       [0.89, 0.89, 0.89, 0.89, 0.89, 0.89, 0.89, 0.89, 0.89, 0.89, 0.89,\n",
       "        0.89, 0.89, 0.89, 0.89, 0.89, 0.89, 0.89, 0.89, 0.89, 0.89, 0.89,\n",
       "        0.89, 0.89, 0.89, 0.89, 0.89, 0.89, 0.89, 0.89, 0.89, 0.89, 0.89,\n",
       "        0.89, 0.89, 0.89, 0.89, 0.89, 0.89, 0.89, 0.89, 0.89, 0.89, 0.89,\n",
       "        0.89, 0.89, 0.89, 0.89, 0.89, 0.89],\n",
       "       [0.89, 0.89, 0.89, 0.89, 0.89, 0.89, 0.89, 0.89, 0.89, 0.89, 0.89,\n",
       "        0.89, 0.89, 0.89, 0.89, 0.89, 0.89, 0.89, 0.89, 0.89, 0.89, 0.89,\n",
       "        0.89, 0.89, 0.89, 0.89, 0.89, 0.89, 0.89, 0.89, 0.89, 0.89, 0.89,\n",
       "        0.89, 0.89, 0.89, 0.89, 0.89, 0.89, 0.89, 0.89, 0.89, 0.89, 0.89,\n",
       "        0.89, 0.89, 0.89, 0.89, 0.89, 0.89],\n",
       "       [0.89, 0.89, 0.89, 0.89, 0.89, 0.89, 0.89, 0.89, 0.89, 0.89, 0.89,\n",
       "        0.89, 0.89, 0.89, 0.89, 0.89, 0.89, 0.89, 0.89, 0.89, 0.89, 0.89,\n",
       "        0.89, 0.89, 0.89, 0.89, 0.89, 0.89, 0.89, 0.89, 0.89, 0.89, 0.89,\n",
       "        0.89, 0.89, 0.89, 0.89, 0.89, 0.89, 0.89, 0.89, 0.89, 0.89, 0.89,\n",
       "        0.89, 0.89, 0.89, 0.89, 0.89, 0.89],\n",
       "       [0.89, 0.89, 0.89, 0.89, 0.89, 0.89, 0.89, 0.89, 0.89, 0.89, 0.89,\n",
       "        0.89, 0.89, 0.89, 0.89, 0.89, 0.89, 0.89, 0.89, 0.89, 0.89, 0.89,\n",
       "        0.89, 0.89, 0.89, 0.89, 0.89, 0.89, 0.89, 0.89, 0.89, 0.89, 0.89,\n",
       "        0.89, 0.89, 0.89, 0.89, 0.89, 0.89, 0.89, 0.89, 0.89, 0.89, 0.89,\n",
       "        0.89, 0.89, 0.89, 0.89, 0.89, 0.89]])"
      ]
     },
     "metadata": {},
     "output_type": "display_data"
    },
    {
     "data": {
      "image/png": "[encoded data removed]",
      "text/plain": [
       "<Figure size 900x288 with 1 Axes>"
      ]
     },
     "metadata": {
      "needs_background": "light"
     },
     "output_type": "display_data"
    }
   ],
   "source": [
    "plan = build.full_fact(\n",
    "    deepcopy(parameters)\n",
    ")\n",
    "\n",
    "design_matrix = plan.copy()\n",
    "for elt1, elt2 in combinations_with_replacement(design_matrix.columns, 2):\n",
    "    design_matrix[\"{}_{}\".format(elt1, elt2)] = design_matrix[elt1] * design_matrix[elt2]\n",
    "design_matrix[\"intercept\"] = 1\n",
    "information_matrix = design_matrix.values.T @ design_matrix.values\n",
    "det = np.linalg.det(information_matrix)\n",
    "display(det)\n",
    "display(information_matrix)\n",
    "try:\n",
    "    inv = np.linalg.inv(information_matrix)\n",
    "    inv_det = np.linalg.det(inv)\n",
    "    display(inv_det)\n",
    "    display(inv)\n",
    "except:\n",
    "    pass\n",
    "\n",
    "\n",
    "plan.plot.scatter(x=plan.columns[0],\n",
    "                  y=plan.columns[1],\n",
    "                  c='DarkBlue')\n",
    "plt.show()\n",
    "plt.close()\n",
    "\n",
    "results = eval_plan(clf, plan, X, y, penalty='elasticnet', max_iter=500, solver=\"saga\")\n",
    "enc = OrdinalEncoder()\n",
    "enc.fit(results.loc[:, results.columns != 'results'])\n",
    "indices = enc.transform(results.loc[:, results.columns != 'results'])\n",
    "display(results.head())\n",
    "shape = tuple([len(elt) for elt in enc.categories_])\n",
    "values = np.zeros(shape)\n",
    "display(values.shape)\n",
    "for idx, value in zip(indices, results['results']):\n",
    "    idx = tuple(map(int, idx))\n",
    "    values[idx] = value\n",
    "display(values)\n",
    "\n",
    "\n",
    "plt.matshow(values[:,:])\n",
    "plt.show()\n",
    "plt.close()"
   ]
  },
  {
   "cell_type": "code",
   "execution_count": null,
   "metadata": {},
   "outputs": [],
   "source": []
  },
  {
   "cell_type": "markdown",
   "metadata": {},
   "source": [
    "# 2-level fractorial design"
   ]
  },
  {
   "cell_type": "code",
   "execution_count": 46,
   "metadata": {},
   "outputs": [
    {
     "name": "stdout",
     "output_type": "stream",
     "text": [
      "Help on function frac_fact_res in module doepy.build:\n",
      "\n",
      "frac_fact_res(d, res=None)\n",
      "    Builds a 2-level fractional factorial design dataframe from a dictionary of factor/level ranges and given resolution.\n",
      "      \n",
      "    Parameters\n",
      "    ----------\n",
      "    factor_level_ranges : Dictionary of factors and ranges\n",
      "                         Only min and max values of the range are required.\n",
      "                         If more than two levels are given, the extreme values will be set to the low/high levels.\n",
      "                         Example of the dictionary which is needed as the input:\n",
      "                        {'Pressure':[50,70],'Temperature':[290, 350],'Flow rate':[0.9,1.0]}\n",
      "    res : int\n",
      "        Desired design resolution.\n",
      "        Default: Set to half of the total factor count.\n",
      "        \n",
      "        Notes\n",
      "    -----\n",
      "    The resolution of a design is defined as the length of the shortest\n",
      "    word in the defining relation. The resolution describes the level of\n",
      "    confounding between factors and interaction effects, where higher\n",
      "    resolution indicates lower degree of confounding.\n",
      "    For example, consider the 2^4-1-design defined by\n",
      "        gen = \"a b c ab\"\n",
      "    The factor \"d\" is defined by \"ab\" with defining relation I=\"abd\", where\n",
      "    I is the unit vector. In this simple example the shortest word is \"abd\"\n",
      "    meaning that this is a resolution III-design.\n",
      "    In practice resolution III-, IV- and V-designs are most commonly applied.\n",
      "    * III: Main effects may be confounded with two-factor interactions.\n",
      "    * IV: Main effects are unconfounded by two-factor interactions, but\n",
      "          two-factor interactions may be confounded with each other.\n",
      "    * V: Main effects unconfounded with up to four-factor interactions,\n",
      "         two-factor interactions unconfounded with up to three-factor\n",
      "         interactions. Three-factor interactions may be confounded with\n",
      "         each other.\n",
      "    Examples\n",
      "    --------\n",
      "    ::\n",
      "        >>> d1 = {'A':[1,5],'B':[0.3,0.7],'C':[10,15],'D':[3,7],'E':[-2,-1]}\n",
      "        >>> build_frac_fact_res(d1,3)\n",
      "             A    B     C    D    E\n",
      "        0  1.0  0.3  10.0  7.0 -1.0\n",
      "        1  5.0  0.3  10.0  3.0 -2.0\n",
      "        2  1.0  0.7  10.0  3.0 -1.0\n",
      "        3  5.0  0.7  10.0  7.0 -2.0\n",
      "        4  1.0  0.3  15.0  7.0 -2.0\n",
      "        5  5.0  0.3  15.0  3.0 -1.0\n",
      "        6  1.0  0.7  15.0  3.0 -2.0\n",
      "        7  5.0  0.7  15.0  7.0 -1.0\n",
      "        \n",
      "        It builds a dataframe with only 8 rows (designs) from a dictionary with 6 factors.\n",
      "        A full factorial design would have required 2^6 = 64 designs.\n",
      "        >>> build_frac_fact_res(d1,5)\n",
      "        Traceback (most recent call last):\n",
      "        ...\n",
      "        ValueError: design not possible\n",
      "\n"
     ]
    }
   ],
   "source": [
    "help(build.frac_fact_res)"
   ]
  },
  {
   "cell_type": "code",
   "execution_count": 47,
   "metadata": {},
   "outputs": [
    {
     "ename": "AssertionError",
     "evalue": "Number of factors must be greater than desired resolution",
     "output_type": "error",
     "traceback": [
      "\u001b[1;31m---------------------------------------------------------------------------\u001b[0m",
      "\u001b[1;31mAssertionError\u001b[0m                            Traceback (most recent call last)",
      "\u001b[1;32m<ipython-input-47-2d45bd0b68f0>\u001b[0m in \u001b[0;36m<module>\u001b[1;34m\u001b[0m\n\u001b[0;32m      1\u001b[0m \u001b[1;31m# Not enough parameters\u001b[0m\u001b[1;33m\u001b[0m\u001b[1;33m\u001b[0m\u001b[1;33m\u001b[0m\u001b[0m\n\u001b[0;32m      2\u001b[0m plan = build.frac_fact_res(\n\u001b[1;32m----> 3\u001b[1;33m     \u001b[0mdeepcopy\u001b[0m\u001b[1;33m(\u001b[0m\u001b[0mparameters\u001b[0m\u001b[1;33m)\u001b[0m\u001b[1;33m\u001b[0m\u001b[1;33m\u001b[0m\u001b[0m\n\u001b[0m\u001b[0;32m      4\u001b[0m )\n\u001b[0;32m      5\u001b[0m \u001b[1;33m\u001b[0m\u001b[0m\n",
      "\u001b[1;32mD:\\Programmes\\Anaconda\\lib\\site-packages\\doepy\\build.py\u001b[0m in \u001b[0;36mfrac_fact_res\u001b[1;34m(d, res)\u001b[0m\n\u001b[0;32m     71\u001b[0m     \"\"\"\n\u001b[0;32m     72\u001b[0m \u001b[1;33m\u001b[0m\u001b[0m\n\u001b[1;32m---> 73\u001b[1;33m     \u001b[1;32mreturn\u001b[0m \u001b[0mbuild_frac_fact_res\u001b[0m\u001b[1;33m(\u001b[0m\u001b[0md\u001b[0m\u001b[1;33m,\u001b[0m\u001b[0mres\u001b[0m\u001b[1;33m=\u001b[0m\u001b[0mres\u001b[0m\u001b[1;33m)\u001b[0m\u001b[1;33m\u001b[0m\u001b[1;33m\u001b[0m\u001b[0m\n\u001b[0m\u001b[0;32m     74\u001b[0m \u001b[1;33m\u001b[0m\u001b[0m\n\u001b[0;32m     75\u001b[0m \u001b[1;32mdef\u001b[0m \u001b[0mplackett_burman\u001b[0m\u001b[1;33m(\u001b[0m\u001b[0md\u001b[0m\u001b[1;33m)\u001b[0m\u001b[1;33m:\u001b[0m\u001b[1;33m\u001b[0m\u001b[1;33m\u001b[0m\u001b[0m\n",
      "\u001b[1;32mD:\\Programmes\\Anaconda\\lib\\site-packages\\doepy\\doe_functions.py\u001b[0m in \u001b[0;36mbuild_frac_fact_res\u001b[1;34m(factor_level_ranges, res)\u001b[0m\n\u001b[0;32m    181\u001b[0m         \u001b[0mres\u001b[0m \u001b[1;33m=\u001b[0m \u001b[0mint\u001b[0m\u001b[1;33m(\u001b[0m\u001b[0mfactor_count\u001b[0m\u001b[1;33m/\u001b[0m\u001b[1;36m2\u001b[0m\u001b[1;33m)\u001b[0m\u001b[1;33m+\u001b[0m\u001b[1;36m1\u001b[0m\u001b[1;33m\u001b[0m\u001b[1;33m\u001b[0m\u001b[0m\n\u001b[0;32m    182\u001b[0m \u001b[1;33m\u001b[0m\u001b[0m\n\u001b[1;32m--> 183\u001b[1;33m     \u001b[1;32massert\u001b[0m \u001b[1;33m(\u001b[0m\u001b[0mfactor_count\u001b[0m\u001b[1;33m>\u001b[0m \u001b[0mres\u001b[0m\u001b[1;33m)\u001b[0m\u001b[1;33m,\u001b[0m\u001b[1;34m\"Number of factors must be greater than desired resolution\"\u001b[0m\u001b[1;33m\u001b[0m\u001b[1;33m\u001b[0m\u001b[0m\n\u001b[0m\u001b[0;32m    184\u001b[0m \u001b[1;33m\u001b[0m\u001b[0m\n\u001b[0;32m    185\u001b[0m     \u001b[1;32mfor\u001b[0m \u001b[0mkey\u001b[0m \u001b[1;32min\u001b[0m \u001b[0mfactor_level_ranges\u001b[0m\u001b[1;33m:\u001b[0m\u001b[1;33m\u001b[0m\u001b[1;33m\u001b[0m\u001b[0m\n",
      "\u001b[1;31mAssertionError\u001b[0m: Number of factors must be greater than desired resolution"
     ]
    }
   ],
   "source": [
    "# Not enough parameters\n",
    "plan = build.frac_fact_res(\n",
    "    deepcopy(parameters)\n",
    ")\n",
    "\n",
    "design_matrix = plan.copy()\n",
    "for elt1, elt2 in combinations_with_replacement(design_matrix.columns, 2):\n",
    "    design_matrix[\"{}_{}\".format(elt1, elt2)] = design_matrix[elt1] * design_matrix[elt2]\n",
    "design_matrix[\"intercept\"] = 1\n",
    "information_matrix = design_matrix.values.T @ design_matrix.values\n",
    "det = np.linalg.det(information_matrix)\n",
    "display(det)\n",
    "display(information_matrix)\n",
    "try:\n",
    "    inv = np.linalg.inv(information_matrix)\n",
    "    inv_det = np.linalg.det(inv)\n",
    "    display(inv_det)\n",
    "    display(inv)\n",
    "except:\n",
    "    pass\n",
    "\n",
    "\n",
    "\n",
    "\n",
    "plan.plot.scatter(x=plan.columns[0],\n",
    "                  y=plan.columns[1],\n",
    "                  c='DarkBlue')\n",
    "plt.show()\n",
    "plt.close()\n",
    "\n",
    "results = eval_plan(clf_, plan, X, y)\n",
    "enc = OrdinalEncoder()\n",
    "enc.fit(results.loc[:, results.columns != 'results'])\n",
    "indices = enc.transform(results.loc[:, results.columns != 'results'])\n",
    "display(results.head())\n",
    "shape = tuple([len(elt) for elt in enc.categories_])\n",
    "values = np.zeros(shape)\n",
    "display(values.shape)\n",
    "for idx, value in zip(indices, results['results']):\n",
    "    idx = tuple(map(int, idx))\n",
    "    values[idx] = value\n",
    "display(values)\n",
    "\n",
    "\n",
    "plt.matshow(values[:,:])\n",
    "plt.show()\n",
    "plt.close()"
   ]
  },
  {
   "cell_type": "markdown",
   "metadata": {},
   "source": [
    "# Box Behnken"
   ]
  },
  {
   "cell_type": "code",
   "execution_count": 48,
   "metadata": {},
   "outputs": [
    {
     "name": "stdout",
     "output_type": "stream",
     "text": [
      "Help on function box_behnken in module doepy.build:\n",
      "\n",
      "box_behnken(d, center=1)\n",
      "    Builds a Box-Behnken design dataframe from a dictionary of factor/level ranges.\n",
      "    Note 3 levels of factors are necessary. If not given, the function will automatically create 3 levels by linear mid-section method.\n",
      "    Example of the dictionary which is needed as the input:\n",
      "    {'Pressure':[50,60,70],'Temperature':[290, 320, 350],'Flow rate':[0.9,1.0,1.1]}\n",
      "        \n",
      "        In statistics, Box–Behnken designs are experimental designs for response surface methodology, devised by George E. P. Box and Donald Behnken in 1960, to achieve the following goals:\n",
      "                * Each factor, or independent variable, is placed at one of three equally spaced values, usually coded as −1, 0, +1. (At least three levels are needed for the following goal.)\n",
      "                * The design should be sufficient to fit a quadratic model, that is, one containing squared terms, products of two factors, linear terms and an intercept.\n",
      "                * The ratio of the number of experimental points to the number of coefficients in the quadratic model should be reasonable (in fact, their designs kept it in the range of 1.5 to 2.6).*estimation variance should more or less depend only on the distance from the centre (this is achieved exactly for the designs with 4 and 7 factors), and should not vary too much inside the smallest (hyper)cube containing the experimental points.\n",
      "\n"
     ]
    }
   ],
   "source": [
    "help(build.box_behnken)  # Levels but only numerics"
   ]
  },
  {
   "cell_type": "code",
   "execution_count": 77,
   "metadata": {},
   "outputs": [
    {
     "ename": "AssertionError",
     "evalue": "Number of variables must be at least 3",
     "output_type": "error",
     "traceback": [
      "\u001b[1;31m---------------------------------------------------------------------------\u001b[0m",
      "\u001b[1;31mAssertionError\u001b[0m                            Traceback (most recent call last)",
      "\u001b[1;32m<ipython-input-77-a1f3f3166d9d>\u001b[0m in \u001b[0;36m<module>\u001b[1;34m\u001b[0m\n\u001b[0;32m      1\u001b[0m \u001b[1;31m# Needs at least 3 parameters\u001b[0m\u001b[1;33m\u001b[0m\u001b[1;33m\u001b[0m\u001b[1;33m\u001b[0m\u001b[0m\n\u001b[0;32m      2\u001b[0m plan = build.box_behnken(\n\u001b[1;32m----> 3\u001b[1;33m     \u001b[0mdeepcopy\u001b[0m\u001b[1;33m(\u001b[0m\u001b[0mparameters\u001b[0m\u001b[1;33m)\u001b[0m\u001b[1;33m\u001b[0m\u001b[1;33m\u001b[0m\u001b[0m\n\u001b[0m\u001b[0;32m      4\u001b[0m )\n\u001b[0;32m      5\u001b[0m \u001b[1;33m\u001b[0m\u001b[0m\n",
      "\u001b[1;32mD:\\Programmes\\Anaconda\\lib\\site-packages\\doepy\\build.py\u001b[0m in \u001b[0;36mbox_behnken\u001b[1;34m(d, center)\u001b[0m\n\u001b[0;32m    119\u001b[0m \t\"\"\"\n\u001b[0;32m    120\u001b[0m \u001b[1;33m\u001b[0m\u001b[0m\n\u001b[1;32m--> 121\u001b[1;33m     \u001b[1;32mreturn\u001b[0m \u001b[0mbuild_box_behnken\u001b[0m\u001b[1;33m(\u001b[0m\u001b[0md\u001b[0m\u001b[1;33m,\u001b[0m\u001b[0mcenter\u001b[0m\u001b[1;33m=\u001b[0m\u001b[0mcenter\u001b[0m\u001b[1;33m)\u001b[0m\u001b[1;33m\u001b[0m\u001b[1;33m\u001b[0m\u001b[0m\n\u001b[0m\u001b[0;32m    122\u001b[0m \u001b[1;33m\u001b[0m\u001b[0m\n\u001b[0;32m    123\u001b[0m \u001b[1;32mdef\u001b[0m \u001b[0mcentral_composite\u001b[0m\u001b[1;33m(\u001b[0m\u001b[0md\u001b[0m\u001b[1;33m,\u001b[0m\u001b[0mcenter\u001b[0m\u001b[1;33m=\u001b[0m\u001b[1;33m(\u001b[0m\u001b[1;36m2\u001b[0m\u001b[1;33m,\u001b[0m\u001b[1;36m2\u001b[0m\u001b[1;33m)\u001b[0m\u001b[1;33m,\u001b[0m\u001b[0malpha\u001b[0m\u001b[1;33m=\u001b[0m\u001b[1;34m'o'\u001b[0m\u001b[1;33m,\u001b[0m\u001b[0mface\u001b[0m\u001b[1;33m=\u001b[0m\u001b[1;34m'ccc'\u001b[0m\u001b[1;33m)\u001b[0m\u001b[1;33m:\u001b[0m\u001b[1;33m\u001b[0m\u001b[1;33m\u001b[0m\u001b[0m\n",
      "\u001b[1;32mD:\\Programmes\\Anaconda\\lib\\site-packages\\doepy\\doe_functions.py\u001b[0m in \u001b[0;36mbuild_box_behnken\u001b[1;34m(factor_level_ranges, center)\u001b[0m\n\u001b[0;32m    322\u001b[0m         \u001b[0mfactor_lists\u001b[0m\u001b[1;33m.\u001b[0m\u001b[0mappend\u001b[0m\u001b[1;33m(\u001b[0m\u001b[0mfactor_level_ranges\u001b[0m\u001b[1;33m[\u001b[0m\u001b[0mkey\u001b[0m\u001b[1;33m]\u001b[0m\u001b[1;33m)\u001b[0m\u001b[1;33m\u001b[0m\u001b[1;33m\u001b[0m\u001b[0m\n\u001b[0;32m    323\u001b[0m \u001b[1;33m\u001b[0m\u001b[0m\n\u001b[1;32m--> 324\u001b[1;33m     \u001b[0mx\u001b[0m \u001b[1;33m=\u001b[0m \u001b[0mbbdesign_corrected\u001b[0m\u001b[1;33m(\u001b[0m\u001b[0mfactor_count\u001b[0m\u001b[1;33m,\u001b[0m\u001b[0mcenter\u001b[0m\u001b[1;33m=\u001b[0m\u001b[0mcenter\u001b[0m\u001b[1;33m)\u001b[0m\u001b[1;33m\u001b[0m\u001b[1;33m\u001b[0m\u001b[0m\n\u001b[0m\u001b[0;32m    325\u001b[0m     \u001b[0mx\u001b[0m\u001b[1;33m=\u001b[0m\u001b[0mx\u001b[0m\u001b[1;33m+\u001b[0m\u001b[1;36m1\u001b[0m \u001b[1;31m#Adjusting the index up by 1\u001b[0m\u001b[1;33m\u001b[0m\u001b[1;33m\u001b[0m\u001b[0m\n\u001b[0;32m    326\u001b[0m \u001b[1;33m\u001b[0m\u001b[0m\n",
      "\u001b[1;32mD:\\Programmes\\Anaconda\\lib\\site-packages\\doepy\\pydoe_corrected.py\u001b[0m in \u001b[0;36mbbdesign_corrected\u001b[1;34m(n, center)\u001b[0m\n\u001b[0;32m    367\u001b[0m \u001b[1;33m\u001b[0m\u001b[0m\n\u001b[0;32m    368\u001b[0m     \"\"\"\n\u001b[1;32m--> 369\u001b[1;33m     \u001b[1;32massert\u001b[0m \u001b[0mn\u001b[0m\u001b[1;33m>=\u001b[0m\u001b[1;36m3\u001b[0m\u001b[1;33m,\u001b[0m \u001b[1;34m'Number of variables must be at least 3'\u001b[0m\u001b[1;33m\u001b[0m\u001b[1;33m\u001b[0m\u001b[0m\n\u001b[0m\u001b[0;32m    370\u001b[0m \u001b[1;33m\u001b[0m\u001b[0m\n\u001b[0;32m    371\u001b[0m     \u001b[1;31m# First, compute a factorial DOE with 2 parameters\u001b[0m\u001b[1;33m\u001b[0m\u001b[1;33m\u001b[0m\u001b[1;33m\u001b[0m\u001b[0m\n",
      "\u001b[1;31mAssertionError\u001b[0m: Number of variables must be at least 3"
     ]
    }
   ],
   "source": [
    "# Needs at least 3 parameters\n",
    "plan = build.box_behnken(\n",
    "    deepcopy(parameters)\n",
    ")\n",
    "\n",
    "\n",
    "design_matrix = plan.copy()\n",
    "for elt1, elt2 in combinations_with_replacement(design_matrix.columns, 2):\n",
    "    design_matrix[\"{}_{}\".format(elt1, elt2)] = design_matrix[elt1] * design_matrix[elt2]\n",
    "design_matrix[\"intercept\"] = 1\n",
    "information_matrix = design_matrix.values.T @ design_matrix.values\n",
    "det = np.linalg.det(information_matrix)\n",
    "display(det)\n",
    "display(information_matrix)\n",
    "try:\n",
    "    inv = np.linalg.inv(information_matrix)\n",
    "    inv_det = np.linalg.det(inv)\n",
    "    display(inv_det)\n",
    "    display(inv)\n",
    "except:\n",
    "    pass\n",
    "\n",
    "\n",
    "\n",
    "\n",
    "plan.plot.scatter(x=plan.columns[0],\n",
    "                  y=plan.columns[1],\n",
    "                  c='DarkBlue')\n",
    "plt.show()\n",
    "plt.close()\n",
    "\n",
    "results = eval_plan(clf, plan, X, y)\n",
    "enc = OrdinalEncoder()\n",
    "enc.fit(results.loc[:, results.columns != 'results'])\n",
    "indices = enc.transform(results.loc[:, results.columns != 'results'])\n",
    "display(results.head())\n",
    "shape = tuple([len(elt) for elt in enc.categories_])\n",
    "values = np.zeros(shape)\n",
    "display(values.shape)\n",
    "for idx, value in zip(indices, results['results']):\n",
    "    idx = tuple(map(int, idx))\n",
    "    values[idx] = value\n",
    "display(values)\n",
    "\n",
    "\n",
    "plt.matshow(values[:,:])\n",
    "plt.show()\n",
    "plt.close()"
   ]
  },
  {
   "cell_type": "markdown",
   "metadata": {},
   "source": [
    "# Plackett-Burman"
   ]
  },
  {
   "cell_type": "code",
   "execution_count": 50,
   "metadata": {},
   "outputs": [
    {
     "name": "stdout",
     "output_type": "stream",
     "text": [
      "Help on function plackett_burman in module doepy.build:\n",
      "\n",
      "plackett_burman(d)\n",
      "    Builds a Plackett-Burman dataframe from a dictionary of factor/level ranges.\n",
      "    Only min and max values of the range are required.\n",
      "    Example of the dictionary which is needed as the input:\n",
      "    {'Pressure':[50,70],'Temperature':[290, 350],'Flow rate':[0.9,1.0]}\n",
      "        \n",
      "        Plackett–Burman designs are experimental designs presented in 1946 by Robin L. Plackett and J. P. Burman while working in the British Ministry of Supply.(Their goal was to find experimental designs for investigating the dependence of some measured quantity on a number of independent variables (factors), each taking L levels, in such a way as to minimize the variance of the estimates of these dependencies using a limited number of experiments. \n",
      "        \n",
      "    Interactions between the factors were considered negligible. The solution to this problem is to find an experimental design where each combination of levels for any pair of factors appears the same number of times, throughout all the experimental runs (refer to table). \n",
      "        A complete factorial design would satisfy this criterion, but the idea was to find smaller designs.\n",
      "        \n",
      "        These designs are unique in that the number of trial conditions (rows) expands by multiples of four (e.g. 4, 8, 12, etc.). \n",
      "        The max number of columns allowed before a design increases the number of rows is always one less than the next higher multiple of four.\n",
      "\n"
     ]
    }
   ],
   "source": [
    "help(build.plackett_burman)  # Only numerical/range values"
   ]
  },
  {
   "cell_type": "code",
   "execution_count": 106,
   "metadata": {},
   "outputs": [
    {
     "name": "stdout",
     "output_type": "stream",
     "text": [
      "C had more than two levels. Assigning the end point to the high level.\n",
      "l1_ratio had more than two levels. Assigning the end point to the high level.\n"
     ]
    },
    {
     "data": {
      "text/plain": [
       "0.0"
      ]
     },
     "metadata": {},
     "output_type": "display_data"
    },
    {
     "data": {
      "text/plain": [
       "array([[2.00000000e+14, 1.00000000e+07, 2.00000001e+21, 1.00000000e+14,\n",
       "        1.00000000e+07, 2.00000000e+07],\n",
       "       [1.00000000e+07, 2.00000000e+00, 1.00000000e+14, 1.00000000e+07,\n",
       "        2.00000000e+00, 2.00000000e+00],\n",
       "       [2.00000001e+21, 1.00000000e+14, 2.00000002e+28, 1.00000000e+21,\n",
       "        1.00000000e+14, 2.00000001e+14],\n",
       "       [1.00000000e+14, 1.00000000e+07, 1.00000000e+21, 1.00000000e+14,\n",
       "        1.00000000e+07, 1.00000000e+07],\n",
       "       [1.00000000e+07, 2.00000000e+00, 1.00000000e+14, 1.00000000e+07,\n",
       "        2.00000000e+00, 2.00000000e+00],\n",
       "       [2.00000000e+07, 2.00000000e+00, 2.00000001e+14, 1.00000000e+07,\n",
       "        2.00000000e+00, 4.00000000e+00]])"
      ]
     },
     "metadata": {},
     "output_type": "display_data"
    },
    {
     "data": {
      "image/png": "[encoded data removed]",
      "text/plain": [
       "<Figure size 432x288 with 1 Axes>"
      ]
     },
     "metadata": {
      "needs_background": "light"
     },
     "output_type": "display_data"
    },
    {
     "name": "stderr",
     "output_type": "stream",
     "text": [
      "100%|█████████████████████████████████████████████████████████████████████████████████████████| 4/4 [00:00<00:00, 36.03it/s]\n"
     ]
    },
    {
     "data": {
      "text/html": [
       "<div>\n",
       "<style scoped>\n",
       "    .dataframe tbody tr th:only-of-type {\n",
       "        vertical-align: middle;\n",
       "    }\n",
       "\n",
       "    .dataframe tbody tr th {\n",
       "        vertical-align: top;\n",
       "    }\n",
       "\n",
       "    .dataframe thead th {\n",
       "        text-align: right;\n",
       "    }\n",
       "</style>\n",
       "<table border=\"1\" class=\"dataframe\">\n",
       "  <thead>\n",
       "    <tr style=\"text-align: right;\">\n",
       "      <th></th>\n",
       "      <th>C</th>\n",
       "      <th>l1_ratio</th>\n",
       "      <th>results</th>\n",
       "    </tr>\n",
       "  </thead>\n",
       "  <tbody>\n",
       "    <tr>\n",
       "      <th>0</th>\n",
       "      <td>1.000000e-08</td>\n",
       "      <td>0.0</td>\n",
       "      <td>0.92</td>\n",
       "    </tr>\n",
       "    <tr>\n",
       "      <th>1</th>\n",
       "      <td>1.000000e+07</td>\n",
       "      <td>0.0</td>\n",
       "      <td>0.87</td>\n",
       "    </tr>\n",
       "    <tr>\n",
       "      <th>2</th>\n",
       "      <td>1.000000e-08</td>\n",
       "      <td>1.0</td>\n",
       "      <td>0.92</td>\n",
       "    </tr>\n",
       "    <tr>\n",
       "      <th>3</th>\n",
       "      <td>1.000000e+07</td>\n",
       "      <td>1.0</td>\n",
       "      <td>0.87</td>\n",
       "    </tr>\n",
       "  </tbody>\n",
       "</table>\n",
       "</div>"
      ],
      "text/plain": [
       "              C  l1_ratio  results\n",
       "0  1.000000e-08       0.0     0.92\n",
       "1  1.000000e+07       0.0     0.87\n",
       "2  1.000000e-08       1.0     0.92\n",
       "3  1.000000e+07       1.0     0.87"
      ]
     },
     "metadata": {},
     "output_type": "display_data"
    },
    {
     "data": {
      "text/plain": [
       "(2, 2)"
      ]
     },
     "metadata": {},
     "output_type": "display_data"
    },
    {
     "data": {
      "text/plain": [
       "array([[0.92, 0.92],\n",
       "       [0.87, 0.87]])"
      ]
     },
     "metadata": {},
     "output_type": "display_data"
    },
    {
     "data": {
      "image/png": "[encoded data removed]",
      "text/plain": [
       "<Figure size 288x288 with 1 Axes>"
      ]
     },
     "metadata": {
      "needs_background": "light"
     },
     "output_type": "display_data"
    }
   ],
   "source": [
    "plan = build.plackett_burman(\n",
    "    deepcopy(parameters)\n",
    ")\n",
    "\n",
    "\n",
    "design_matrix = plan.copy()\n",
    "for elt1, elt2 in combinations_with_replacement(design_matrix.columns, 2):\n",
    "    design_matrix[\"{}_{}\".format(elt1, elt2)] = design_matrix[elt1] * design_matrix[elt2]\n",
    "design_matrix[\"intercept\"] = 1\n",
    "information_matrix = design_matrix.values.T @ design_matrix.values\n",
    "det = np.linalg.det(information_matrix)\n",
    "display(det)\n",
    "display(information_matrix)\n",
    "try:\n",
    "    inv = np.linalg.inv(information_matrix)\n",
    "    inv_det = np.linalg.det(inv)\n",
    "    display(inv_det)\n",
    "    display(inv)\n",
    "except:\n",
    "    pass\n",
    "\n",
    "\n",
    "\n",
    "plan.plot.scatter(x=plan.columns[0],\n",
    "                  y=plan.columns[1],\n",
    "                  c='DarkBlue')\n",
    "plt.show()\n",
    "plt.close()\n",
    "\n",
    "results = eval_plan(clf, plan, X, y)\n",
    "enc = OrdinalEncoder()\n",
    "enc.fit(results.loc[:, results.columns != 'results'])\n",
    "indices = enc.transform(results.loc[:, results.columns != 'results'])\n",
    "display(results.head())\n",
    "shape = tuple([len(elt) for elt in enc.categories_])\n",
    "values = np.zeros(shape)\n",
    "display(values.shape)\n",
    "for idx, value in zip(indices, results['results']):\n",
    "    idx = tuple(map(int, idx))\n",
    "    values[idx] = value\n",
    "display(values)\n",
    "\n",
    "\n",
    "plt.matshow(values[:,:])\n",
    "plt.show()\n",
    "plt.close()"
   ]
  },
  {
   "cell_type": "code",
   "execution_count": null,
   "metadata": {},
   "outputs": [],
   "source": []
  },
  {
   "cell_type": "markdown",
   "metadata": {},
   "source": [
    "# Sukharev"
   ]
  },
  {
   "cell_type": "code",
   "execution_count": 52,
   "metadata": {},
   "outputs": [
    {
     "name": "stdout",
     "output_type": "stream",
     "text": [
      "Help on function sukharev in module doepy.build:\n",
      "\n",
      "sukharev(d, num_samples=None)\n",
      "    Builds a Sukharev-grid hypercube design dataframe from a dictionary of factor/level ranges.\n",
      "    Number of samples raised to the power of (1/dimension), where dimension is the number of variables, must be an integer.\n",
      "    Only min and max values of the range are required.\n",
      "    Example of the dictionary which is needed as the input:\n",
      "    {'Pressure':[50,70],'Temperature':[290, 350],'Flow rate':[0.9,1.0]}\n",
      "    num_samples: Number of samples to be generated\n",
      "        \n",
      "        Special property of this grid is that points are not placed on the boundaries of the hypercube, but at centroids of the  subcells constituted by individual samples. \n",
      "        This design offers optimal results for the covering radius regarding distances based on the max-norm.\n",
      "\n"
     ]
    }
   ],
   "source": [
    "help(build.sukharev)  # Only numerical/range values"
   ]
  },
  {
   "cell_type": "code",
   "execution_count": 107,
   "metadata": {},
   "outputs": [
    {
     "name": "stdout",
     "output_type": "stream",
     "text": [
      "C had more than two levels. Assigning the end point to the high level.\n",
      "l1_ratio had more than two levels. Assigning the end point to the high level.\n",
      "\n",
      "Number of samples not adequate to fill a Sukharev grid. Increasing sample size to:  16\n"
     ]
    },
    {
     "data": {
      "text/plain": [
       "9.536743164062234e+53"
      ]
     },
     "metadata": {},
     "output_type": "display_data"
    },
    {
     "data": {
      "text/plain": [
       "array([[5.25000000e+14, 4.00000000e+07, 3.87500000e+21, 2.62500000e+14,\n",
       "        2.62500000e+07, 8.00000000e+07],\n",
       "       [4.00000000e+07, 5.25000000e+00, 2.62500000e+14, 2.62500000e+07,\n",
       "        3.87500000e+00, 8.00000000e+00],\n",
       "       [3.87500000e+21, 2.62500000e+14, 3.03515625e+28, 1.93750000e+21,\n",
       "        1.72265625e+14, 5.25000000e+14],\n",
       "       [2.62500000e+14, 2.62500000e+07, 1.93750000e+21, 1.72265625e+14,\n",
       "        1.93750000e+07, 4.00000000e+07],\n",
       "       [2.62500000e+07, 3.87500000e+00, 1.72265625e+14, 1.93750000e+07,\n",
       "        3.03515625e+00, 5.25000000e+00],\n",
       "       [8.00000000e+07, 8.00000000e+00, 5.25000000e+14, 4.00000000e+07,\n",
       "        5.25000000e+00, 1.60000000e+01]])"
      ]
     },
     "metadata": {},
     "output_type": "display_data"
    },
    {
     "data": {
      "text/plain": [
       "1.0485760000000143e-54"
      ]
     },
     "metadata": {},
     "output_type": "display_data"
    },
    {
     "data": {
      "text/plain": [
       "array([[ 1.93600000e-13,  2.56000000e-07, -1.60000000e-20,\n",
       "        -5.12000000e-14, -1.84516129e-20, -4.43000000e-07],\n",
       "       [ 2.56000000e-07,  1.93600000e+01, -2.93214572e-27,\n",
       "        -5.12000000e-07, -1.60000000e+01, -4.43000000e+00],\n",
       "       [-1.60000000e-20, -1.77711787e-27,  1.60000000e-27,\n",
       "         6.34278319e-35,  1.35469092e-27,  2.75000000e-14],\n",
       "       [-5.12000000e-14, -5.12000000e-07,  8.48363556e-35,\n",
       "         1.02400000e-13,  8.55675319e-21,  2.56000000e-07],\n",
       "       [-2.85887960e-20, -1.60000000e+01,  2.35500088e-27,\n",
       "         5.62139247e-21,  1.60000000e+01,  2.75000000e+00],\n",
       "       [-4.43000000e-07, -4.43000000e+00,  2.75000000e-14,\n",
       "         2.56000000e-07,  2.75000000e+00,  2.04781250e+00]])"
      ]
     },
     "metadata": {},
     "output_type": "display_data"
    },
    {
     "data": {
      "image/png": "[encoded data removed]",
      "text/plain": [
       "<Figure size 432x288 with 1 Axes>"
      ]
     },
     "metadata": {
      "needs_background": "light"
     },
     "output_type": "display_data"
    },
    {
     "name": "stderr",
     "output_type": "stream",
     "text": [
      "100%|███████████████████████████████████████████████████████████████████████████████████████| 16/16 [00:00<00:00, 20.38it/s]\n"
     ]
    },
    {
     "data": {
      "text/html": [
       "<div>\n",
       "<style scoped>\n",
       "    .dataframe tbody tr th:only-of-type {\n",
       "        vertical-align: middle;\n",
       "    }\n",
       "\n",
       "    .dataframe tbody tr th {\n",
       "        vertical-align: top;\n",
       "    }\n",
       "\n",
       "    .dataframe thead th {\n",
       "        text-align: right;\n",
       "    }\n",
       "</style>\n",
       "<table border=\"1\" class=\"dataframe\">\n",
       "  <thead>\n",
       "    <tr style=\"text-align: right;\">\n",
       "      <th></th>\n",
       "      <th>C</th>\n",
       "      <th>l1_ratio</th>\n",
       "      <th>results</th>\n",
       "    </tr>\n",
       "  </thead>\n",
       "  <tbody>\n",
       "    <tr>\n",
       "      <th>0</th>\n",
       "      <td>1250000.0</td>\n",
       "      <td>0.125</td>\n",
       "      <td>0.86</td>\n",
       "    </tr>\n",
       "    <tr>\n",
       "      <th>1</th>\n",
       "      <td>1250000.0</td>\n",
       "      <td>0.375</td>\n",
       "      <td>0.86</td>\n",
       "    </tr>\n",
       "    <tr>\n",
       "      <th>2</th>\n",
       "      <td>1250000.0</td>\n",
       "      <td>0.625</td>\n",
       "      <td>0.86</td>\n",
       "    </tr>\n",
       "    <tr>\n",
       "      <th>3</th>\n",
       "      <td>1250000.0</td>\n",
       "      <td>0.875</td>\n",
       "      <td>0.86</td>\n",
       "    </tr>\n",
       "    <tr>\n",
       "      <th>4</th>\n",
       "      <td>3750000.0</td>\n",
       "      <td>0.125</td>\n",
       "      <td>0.87</td>\n",
       "    </tr>\n",
       "  </tbody>\n",
       "</table>\n",
       "</div>"
      ],
      "text/plain": [
       "           C  l1_ratio  results\n",
       "0  1250000.0     0.125     0.86\n",
       "1  1250000.0     0.375     0.86\n",
       "2  1250000.0     0.625     0.86\n",
       "3  1250000.0     0.875     0.86\n",
       "4  3750000.0     0.125     0.87"
      ]
     },
     "metadata": {},
     "output_type": "display_data"
    },
    {
     "data": {
      "text/plain": [
       "(4, 4)"
      ]
     },
     "metadata": {},
     "output_type": "display_data"
    },
    {
     "data": {
      "text/plain": [
       "array([[0.86, 0.86, 0.86, 0.86],\n",
       "       [0.87, 0.87, 0.87, 0.87],\n",
       "       [0.87, 0.87, 0.87, 0.87],\n",
       "       [0.87, 0.87, 0.87, 0.87]])"
      ]
     },
     "metadata": {},
     "output_type": "display_data"
    },
    {
     "data": {
      "image/png": "[encoded data removed]",
      "text/plain": [
       "<Figure size 288x288 with 1 Axes>"
      ]
     },
     "metadata": {
      "needs_background": "light"
     },
     "output_type": "display_data"
    }
   ],
   "source": [
    "plan = build.sukharev(\n",
    "    deepcopy(parameters), num_samples=12\n",
    ")\n",
    "\n",
    "design_matrix = plan.copy()\n",
    "for elt1, elt2 in combinations_with_replacement(design_matrix.columns, 2):\n",
    "    design_matrix[\"{}_{}\".format(elt1, elt2)] = design_matrix[elt1] * design_matrix[elt2]\n",
    "design_matrix[\"intercept\"] = 1\n",
    "information_matrix = design_matrix.values.T @ design_matrix.values\n",
    "det = np.linalg.det(information_matrix)\n",
    "display(det)\n",
    "display(information_matrix)\n",
    "try:\n",
    "    inv = np.linalg.inv(information_matrix)\n",
    "    inv_det = np.linalg.det(inv)\n",
    "    display(inv_det)\n",
    "    display(inv)\n",
    "except:\n",
    "    pass\n",
    "\n",
    "\n",
    "\n",
    "plan.plot.scatter(x=plan.columns[0],\n",
    "                  y=plan.columns[1],\n",
    "                  c='DarkBlue')\n",
    "plt.show()\n",
    "plt.close()\n",
    "\n",
    "results = eval_plan(clf, plan, X, y)\n",
    "enc = OrdinalEncoder()\n",
    "enc.fit(results.loc[:, results.columns != 'results'])\n",
    "indices = enc.transform(results.loc[:, results.columns != 'results'])\n",
    "display(results.head())\n",
    "shape = tuple([len(elt) for elt in enc.categories_])\n",
    "values = np.zeros(shape)\n",
    "display(values.shape)\n",
    "for idx, value in zip(indices, results['results']):\n",
    "    idx = tuple(map(int, idx))\n",
    "    values[idx] = value\n",
    "display(values)\n",
    "\n",
    "\n",
    "plt.matshow(values[:,:])\n",
    "plt.show()\n",
    "plt.close()"
   ]
  },
  {
   "cell_type": "markdown",
   "metadata": {},
   "source": [
    "# Central Composite"
   ]
  },
  {
   "cell_type": "code",
   "execution_count": 58,
   "metadata": {},
   "outputs": [
    {
     "name": "stdout",
     "output_type": "stream",
     "text": [
      "Help on function central_composite in module doepy.build:\n",
      "\n",
      "central_composite(d, center=(2, 2), alpha='o', face='ccc')\n",
      "    Builds a central-composite design dataframe from a dictionary of factor/level ranges.\n",
      "    Only min and max values of the range are required.\n",
      "    Example of the dictionary which is needed as the input:\n",
      "    {'Pressure':[50,70],'Temperature':[290, 350],'Flow rate':[0.9,1.0]}\n",
      "        \n",
      "        In statistics, a central composite design is an experimental design, useful in response surface methodology, for building a second order (quadratic) model for the response variable without needing to use a complete three-level factorial experiment.\n",
      "        The design consists of three distinct sets of experimental runs:\n",
      "                * A factorial (perhaps fractional) design in the factors studied, each having two levels;\n",
      "                * A set of center points, experimental runs whose values of each factor are the medians of the values used in the factorial portion. This point is often replicated in order to improve the precision of the experiment;\n",
      "                * A set of axial points, experimental runs identical to the centre points except for one factor, which will take on values both below and above the median of the two factorial levels, and typically both outside their range. All factors are varied in this way.\n",
      "\n"
     ]
    }
   ],
   "source": [
    "help(build.central_composite)  #  Only numerical/range values"
   ]
  },
  {
   "cell_type": "code",
   "execution_count": 108,
   "metadata": {},
   "outputs": [
    {
     "name": "stdout",
     "output_type": "stream",
     "text": [
      "C had more than two levels. Assigning the end point to the high level.\n",
      "l1_ratio had more than two levels. Assigning the end point to the high level.\n"
     ]
    },
    {
     "data": {
      "text/plain": [
       "2.0000000000000137e+56"
      ]
     },
     "metadata": {},
     "output_type": "display_data"
    },
    {
     "data": {
      "text/plain": [
       "array([[5.00e+14, 3.00e+07, 4.50e+21, 2.50e+14, 2.50e+07, 6.00e+07],\n",
       "       [3.00e+07, 5.00e+00, 2.50e+14, 2.50e+07, 4.50e+00, 6.00e+00],\n",
       "       [4.50e+21, 2.50e+14, 4.50e+28, 2.25e+21, 2.00e+14, 5.00e+14],\n",
       "       [2.50e+14, 2.50e+07, 2.25e+21, 2.00e+14, 2.25e+07, 3.00e+07],\n",
       "       [2.50e+07, 4.50e+00, 2.00e+14, 2.25e+07, 4.50e+00, 5.00e+00],\n",
       "       [6.00e+07, 6.00e+00, 5.00e+14, 3.00e+07, 5.00e+00, 1.20e+01]])"
      ]
     },
     "metadata": {},
     "output_type": "display_data"
    },
    {
     "data": {
      "text/plain": [
       "4.9999999999999657e-57"
      ]
     },
     "metadata": {},
     "output_type": "display_data"
    },
    {
     "data": {
      "text/plain": [
       "array([[ 4.00000000e-14,  1.50000000e-07, -2.50000000e-21,\n",
       "        -2.00000000e-14, -5.00000000e-08, -1.00000000e-07],\n",
       "       [ 1.50000000e-07,  4.00000000e+00, -5.00000000e-15,\n",
       "        -2.00000000e-07, -2.50000000e+00, -1.00000000e+00],\n",
       "       [-2.50000000e-21, -5.00000000e-15,  2.50000000e-28,\n",
       "        -2.46716228e-37,  5.00000000e-15,  2.50000000e-15],\n",
       "       [-2.00000000e-14, -2.00000000e-07,  3.02922588e-36,\n",
       "         4.00000000e-14,  1.46549439e-22,  1.00000000e-07],\n",
       "       [-5.00000000e-08, -2.50000000e+00,  5.00000000e-15,\n",
       "         6.45200878e-22,  2.50000000e+00,  2.50000000e-01],\n",
       "       [-1.00000000e-07, -1.00000000e+00,  2.50000000e-15,\n",
       "         1.00000000e-07,  2.50000000e-01,  6.25000000e-01]])"
      ]
     },
     "metadata": {},
     "output_type": "display_data"
    },
    {
     "data": {
      "image/png": "[encoded data removed]",
      "text/plain": [
       "<Figure size 432x288 with 1 Axes>"
      ]
     },
     "metadata": {
      "needs_background": "light"
     },
     "output_type": "display_data"
    },
    {
     "name": "stderr",
     "output_type": "stream",
     "text": [
      "100%|███████████████████████████████████████████████████████████████████████████████████████| 12/12 [00:00<00:00, 27.15it/s]\n"
     ]
    },
    {
     "data": {
      "text/html": [
       "<div>\n",
       "<style scoped>\n",
       "    .dataframe tbody tr th:only-of-type {\n",
       "        vertical-align: middle;\n",
       "    }\n",
       "\n",
       "    .dataframe tbody tr th {\n",
       "        vertical-align: top;\n",
       "    }\n",
       "\n",
       "    .dataframe thead th {\n",
       "        text-align: right;\n",
       "    }\n",
       "</style>\n",
       "<table border=\"1\" class=\"dataframe\">\n",
       "  <thead>\n",
       "    <tr style=\"text-align: right;\">\n",
       "      <th></th>\n",
       "      <th>C</th>\n",
       "      <th>l1_ratio</th>\n",
       "      <th>results</th>\n",
       "    </tr>\n",
       "  </thead>\n",
       "  <tbody>\n",
       "    <tr>\n",
       "      <th>0</th>\n",
       "      <td>1.000000e-08</td>\n",
       "      <td>0.0</td>\n",
       "      <td>0.92</td>\n",
       "    </tr>\n",
       "    <tr>\n",
       "      <th>1</th>\n",
       "      <td>1.000000e+07</td>\n",
       "      <td>0.0</td>\n",
       "      <td>0.87</td>\n",
       "    </tr>\n",
       "    <tr>\n",
       "      <th>2</th>\n",
       "      <td>1.000000e-08</td>\n",
       "      <td>1.0</td>\n",
       "      <td>0.92</td>\n",
       "    </tr>\n",
       "    <tr>\n",
       "      <th>3</th>\n",
       "      <td>1.000000e+07</td>\n",
       "      <td>1.0</td>\n",
       "      <td>0.87</td>\n",
       "    </tr>\n",
       "    <tr>\n",
       "      <th>4</th>\n",
       "      <td>5.000000e+06</td>\n",
       "      <td>0.5</td>\n",
       "      <td>0.87</td>\n",
       "    </tr>\n",
       "  </tbody>\n",
       "</table>\n",
       "</div>"
      ],
      "text/plain": [
       "              C  l1_ratio  results\n",
       "0  1.000000e-08       0.0     0.92\n",
       "1  1.000000e+07       0.0     0.87\n",
       "2  1.000000e-08       1.0     0.92\n",
       "3  1.000000e+07       1.0     0.87\n",
       "4  5.000000e+06       0.5     0.87"
      ]
     },
     "metadata": {},
     "output_type": "display_data"
    },
    {
     "data": {
      "text/plain": [
       "(5, 5)"
      ]
     },
     "metadata": {},
     "output_type": "display_data"
    },
    {
     "data": {
      "text/plain": [
       "array([[0.  , 0.  ,  nan, 0.  , 0.  ],\n",
       "       [0.  , 0.92, 0.  , 0.92, 0.  ],\n",
       "       [0.87, 0.  , 0.87, 0.  , 0.87],\n",
       "       [0.  , 0.87, 0.  , 0.87, 0.  ],\n",
       "       [0.  , 0.  , 0.87, 0.  , 0.  ]])"
      ]
     },
     "metadata": {},
     "output_type": "display_data"
    },
    {
     "data": {
      "image/png": "[encoded data removed]",
      "text/plain": [
       "<Figure size 288x288 with 1 Axes>"
      ]
     },
     "metadata": {
      "needs_background": "light"
     },
     "output_type": "display_data"
    }
   ],
   "source": [
    "faces = {'ccf', 'cci', 'ccc'}\n",
    "plan = build.central_composite(\n",
    "    deepcopy(parameters)\n",
    ")\n",
    "\n",
    "XTX = plan.values.T @ plan.values\n",
    "information_matrix = np.linalg.inv(XTX)\n",
    "\n",
    "\n",
    "plan.plot.scatter(x=plan.columns[0],\n",
    "                  y=plan.columns[1],\n",
    "                  c='DarkBlue')\n",
    "plt.show()\n",
    "plt.close()\n",
    "\n",
    "results = eval_plan(clf, plan, X, y)\n",
    "enc = OrdinalEncoder()\n",
    "enc.fit(results.loc[:, results.columns != 'results'])\n",
    "indices = enc.transform(results.loc[:, results.columns != 'results'])\n",
    "display(results.head())\n",
    "shape = tuple([len(elt) for elt in enc.categories_])\n",
    "values = np.zeros(shape)\n",
    "display(values.shape)\n",
    "for idx, value in zip(indices, results['results']):\n",
    "    idx = tuple(map(int, idx))\n",
    "    values[idx] = value\n",
    "display(values)\n",
    "\n",
    "\n",
    "plt.matshow(values[:,:])\n",
    "plt.show()\n",
    "plt.close()"
   ]
  },
  {
   "cell_type": "markdown",
   "metadata": {},
   "source": [
    "# Latin hypercube sampling"
   ]
  },
  {
   "cell_type": "code",
   "execution_count": 60,
   "metadata": {},
   "outputs": [
    {
     "name": "stdout",
     "output_type": "stream",
     "text": [
      "Help on function lhs in module doepy.build:\n",
      "\n",
      "lhs(d, num_samples=None, prob_distribution=None)\n",
      "    Builds a Latin Hypercube design dataframe from a dictionary of factor/level ranges.\n",
      "    Only min and max values of the range are required.\n",
      "    Example of the dictionary which is needed as the input:\n",
      "    {'Pressure':[50,70],'Temperature':[290, 350],'Flow rate':[0.9,1.0]}\n",
      "    num_samples: Number of samples to be generated\n",
      "    prob_distribution: Analytical probability distribution to be applied over the randomized sampling. \n",
      "        Accepts one of the following strings: \n",
      "    'Normal', 'Poisson', 'Exponential', 'Beta', 'Gamma'\n",
      "    \n",
      "        Latin hypercube sampling (LHS) is a form of stratified sampling that can be applied to multiple variables. The method commonly used to reduce the number or runs necessary for a Monte Carlo simulation to achieve a reasonably accurate random distribution. LHS can be incorporated into an existing Monte Carlo model fairly easily, and work with variables following any analytical probability distribution.\n",
      "\n"
     ]
    }
   ],
   "source": [
    "help(build.lhs)  # Only numerical/range values"
   ]
  },
  {
   "cell_type": "code",
   "execution_count": 109,
   "metadata": {},
   "outputs": [
    {
     "name": "stdout",
     "output_type": "stream",
     "text": [
      "C had more than two levels. Assigning the end point to the high level.\n",
      "l1_ratio had more than two levels. Assigning the end point to the high level.\n"
     ]
    },
    {
     "data": {
      "text/plain": [
       "7.482859092630733e+52"
      ]
     },
     "metadata": {},
     "output_type": "display_data"
    },
    {
     "data": {
      "text/plain": [
       "array([[4.03337710e+14, 3.35683235e+07, 3.04333573e+21, 2.30552631e+14,\n",
       "        2.44948110e+07, 6.01352342e+07],\n",
       "       [3.35683235e+07, 4.00774946e+00, 2.30552631e+14, 2.44948110e+07,\n",
       "        2.98225316e+00, 6.02634707e+00],\n",
       "       [3.04333573e+21, 2.30552631e+14, 2.43494553e+28, 1.73754355e+21,\n",
       "        1.75684815e+14, 4.03337710e+14],\n",
       "       [2.30552631e+14, 2.44948110e+07, 1.73754355e+21, 1.75684815e+14,\n",
       "        1.96192517e+07, 3.35683235e+07],\n",
       "       [2.44948110e+07, 2.98225316e+00, 1.75684815e+14, 1.96192517e+07,\n",
       "        2.35488030e+00, 4.00774946e+00],\n",
       "       [6.01352342e+07, 6.02634707e+00, 4.03337710e+14, 3.35683235e+07,\n",
       "        4.00774946e+00, 1.20000000e+01]])"
      ]
     },
     "metadata": {},
     "output_type": "display_data"
    },
    {
     "data": {
      "text/plain": [
       "1.336387586109764e-53"
      ]
     },
     "metadata": {},
     "output_type": "display_data"
    },
    {
     "data": {
      "text/plain": [
       "array([[ 2.66176034e-13, -1.24356713e-06, -2.39716852e-20,\n",
       "        -7.17992996e-14,  1.59161775e-06, -2.34360788e-07],\n",
       "       [-1.24356713e-06,  2.95056252e+01,  1.31478204e-13,\n",
       "         6.49147627e-07, -3.34213821e+01, -3.65877725e+00],\n",
       "       [-2.39716852e-20,  1.31478204e-13,  2.49080514e-27,\n",
       "        -2.60011963e-22, -1.19665345e-13,  1.10742386e-14],\n",
       "       [-7.17992996e-14,  6.49147627e-07, -2.60011963e-22,\n",
       "         2.59731000e-13, -2.44584597e-06,  1.32846252e-07],\n",
       "       [ 1.59161775e-06, -3.34213821e+01, -1.19665345e-13,\n",
       "        -2.44584597e-06,  5.10174599e+01,  2.63332002e+00],\n",
       "       [-2.34360788e-07, -3.65877725e+00,  1.10742386e-14,\n",
       "         1.32846252e-07,  2.63332002e+00,  1.47188597e+00]])"
      ]
     },
     "metadata": {},
     "output_type": "display_data"
    },
    {
     "data": {
      "image/png": "[encoded data removed]",
      "text/plain": [
       "<Figure size 432x288 with 1 Axes>"
      ]
     },
     "metadata": {
      "needs_background": "light"
     },
     "output_type": "display_data"
    },
    {
     "name": "stderr",
     "output_type": "stream",
     "text": [
      "100%|███████████████████████████████████████████████████████████████████████████████████████| 12/12 [00:00<00:00, 20.55it/s]\n"
     ]
    },
    {
     "data": {
      "text/html": [
       "<div>\n",
       "<style scoped>\n",
       "    .dataframe tbody tr th:only-of-type {\n",
       "        vertical-align: middle;\n",
       "    }\n",
       "\n",
       "    .dataframe tbody tr th {\n",
       "        vertical-align: top;\n",
       "    }\n",
       "\n",
       "    .dataframe thead th {\n",
       "        text-align: right;\n",
       "    }\n",
       "</style>\n",
       "<table border=\"1\" class=\"dataframe\">\n",
       "  <thead>\n",
       "    <tr style=\"text-align: right;\">\n",
       "      <th></th>\n",
       "      <th>C</th>\n",
       "      <th>l1_ratio</th>\n",
       "      <th>results</th>\n",
       "    </tr>\n",
       "  </thead>\n",
       "  <tbody>\n",
       "    <tr>\n",
       "      <th>0</th>\n",
       "      <td>3.525149e+06</td>\n",
       "      <td>0.566895</td>\n",
       "      <td>0.87</td>\n",
       "    </tr>\n",
       "    <tr>\n",
       "      <th>1</th>\n",
       "      <td>8.874950e+06</td>\n",
       "      <td>0.803886</td>\n",
       "      <td>0.87</td>\n",
       "    </tr>\n",
       "    <tr>\n",
       "      <th>2</th>\n",
       "      <td>6.541359e+06</td>\n",
       "      <td>0.281744</td>\n",
       "      <td>0.87</td>\n",
       "    </tr>\n",
       "    <tr>\n",
       "      <th>3</th>\n",
       "      <td>7.455314e+05</td>\n",
       "      <td>0.055509</td>\n",
       "      <td>0.86</td>\n",
       "    </tr>\n",
       "    <tr>\n",
       "      <th>4</th>\n",
       "      <td>2.789742e+06</td>\n",
       "      <td>0.675836</td>\n",
       "      <td>0.87</td>\n",
       "    </tr>\n",
       "  </tbody>\n",
       "</table>\n",
       "</div>"
      ],
      "text/plain": [
       "              C  l1_ratio  results\n",
       "0  3.525149e+06  0.566895     0.87\n",
       "1  8.874950e+06  0.803886     0.87\n",
       "2  6.541359e+06  0.281744     0.87\n",
       "3  7.455314e+05  0.055509     0.86\n",
       "4  2.789742e+06  0.675836     0.87"
      ]
     },
     "metadata": {},
     "output_type": "display_data"
    },
    {
     "data": {
      "text/plain": [
       "(12, 12)"
      ]
     },
     "metadata": {},
     "output_type": "display_data"
    },
    {
     "data": {
      "text/plain": [
       "array([[0.86, 0.  , 0.  , 0.  , 0.  , 0.  , 0.  , 0.  , 0.  , 0.  , 0.  ,\n",
       "        0.  ],\n",
       "       [0.  , 0.  , 0.  , 0.  , 0.  , 0.86, 0.  , 0.  , 0.  , 0.  , 0.  ,\n",
       "        0.  ],\n",
       "       [0.  , 0.  , 0.  , 0.  , 0.87, 0.  , 0.  , 0.  , 0.  , 0.  , 0.  ,\n",
       "        0.  ],\n",
       "       [0.  , 0.  , 0.  , 0.  , 0.  , 0.  , 0.  , 0.  , 0.87, 0.  , 0.  ,\n",
       "        0.  ],\n",
       "       [0.  , 0.  , 0.  , 0.  , 0.  , 0.  , 0.87, 0.  , 0.  , 0.  , 0.  ,\n",
       "        0.  ],\n",
       "       [0.  , 0.  , 0.87, 0.  , 0.  , 0.  , 0.  , 0.  , 0.  , 0.  , 0.  ,\n",
       "        0.  ],\n",
       "       [0.  , 0.  , 0.  , 0.  , 0.  , 0.  , 0.  , 0.87, 0.  , 0.  , 0.  ,\n",
       "        0.  ],\n",
       "       [0.  , 0.  , 0.  , 0.87, 0.  , 0.  , 0.  , 0.  , 0.  , 0.  , 0.  ,\n",
       "        0.  ],\n",
       "       [0.  , 0.  , 0.  , 0.  , 0.  , 0.  , 0.  , 0.  , 0.  , 0.  , 0.87,\n",
       "        0.  ],\n",
       "       [0.  , 0.  , 0.  , 0.  , 0.  , 0.  , 0.  , 0.  , 0.  , 0.  , 0.  ,\n",
       "        0.87],\n",
       "       [0.  , 0.  , 0.  , 0.  , 0.  , 0.  , 0.  , 0.  , 0.  , 0.87, 0.  ,\n",
       "        0.  ],\n",
       "       [0.  , 0.87, 0.  , 0.  , 0.  , 0.  , 0.  , 0.  , 0.  , 0.  , 0.  ,\n",
       "        0.  ]])"
      ]
     },
     "metadata": {},
     "output_type": "display_data"
    },
    {
     "data": {
      "image/png": "[encoded data removed]",
      "text/plain": [
       "<Figure size 288x288 with 1 Axes>"
      ]
     },
     "metadata": {
      "needs_background": "light"
     },
     "output_type": "display_data"
    }
   ],
   "source": [
    "plan = build.lhs(\n",
    "    deepcopy(parameters), num_samples=12\n",
    ")\n",
    "\n",
    "design_matrix = plan.copy()\n",
    "for elt1, elt2 in combinations_with_replacement(design_matrix.columns, 2):\n",
    "    design_matrix[\"{}_{}\".format(elt1, elt2)] = design_matrix[elt1] * design_matrix[elt2]\n",
    "design_matrix[\"intercept\"] = 1\n",
    "information_matrix = design_matrix.values.T @ design_matrix.values\n",
    "det = np.linalg.det(information_matrix)\n",
    "display(det)\n",
    "display(information_matrix)\n",
    "try:\n",
    "    inv = np.linalg.inv(information_matrix)\n",
    "    inv_det = np.linalg.det(inv)\n",
    "    display(inv_det)\n",
    "    display(inv)\n",
    "except:\n",
    "    pass\n",
    "\n",
    "\n",
    "\n",
    "plan.plot.scatter(x=plan.columns[0],\n",
    "                  y=plan.columns[1],\n",
    "                  c='DarkBlue')\n",
    "plt.show()\n",
    "plt.close()\n",
    "\n",
    "results = eval_plan(clf, plan, X, y)\n",
    "enc = OrdinalEncoder()\n",
    "enc.fit(results.loc[:, results.columns != 'results'])\n",
    "indices = enc.transform(results.loc[:, results.columns != 'results'])\n",
    "display(results.head())\n",
    "shape = tuple([len(elt) for elt in enc.categories_])\n",
    "values = np.zeros(shape)\n",
    "display(values.shape)\n",
    "for idx, value in zip(indices, results['results']):\n",
    "    idx = tuple(map(int, idx))\n",
    "    values[idx] = value\n",
    "display(values)\n",
    "\n",
    "\n",
    "plt.matshow(values[:,:])\n",
    "plt.show()\n",
    "plt.close()"
   ]
  },
  {
   "cell_type": "markdown",
   "metadata": {},
   "source": [
    "# Space filling Latin Hypercube sampling"
   ]
  },
  {
   "cell_type": "code",
   "execution_count": null,
   "metadata": {},
   "outputs": [],
   "source": [
    "help(build.space_filling_lhs)  #  Only numerical/range"
   ]
  },
  {
   "cell_type": "code",
   "execution_count": 110,
   "metadata": {},
   "outputs": [
    {
     "name": "stdout",
     "output_type": "stream",
     "text": [
      "C had more than two levels. Assigning the end point to the high level.\n",
      "l1_ratio had more than two levels. Assigning the end point to the high level.\n"
     ]
    },
    {
     "data": {
      "text/plain": [
       "6.7806647040313e+53"
      ]
     },
     "metadata": {},
     "output_type": "display_data"
    },
    {
     "data": {
      "text/plain": [
       "array([[4.18181818e+14, 2.99173554e+07, 3.27272727e+21, 2.06912096e+14,\n",
       "        2.19684448e+07, 6.00000000e+07],\n",
       "       [2.99173554e+07, 4.18181818e+00, 2.06912096e+14, 2.19684448e+07,\n",
       "        3.27272727e+00, 6.00000000e+00],\n",
       "       [3.27272727e+21, 2.06912096e+14, 2.73027799e+28, 1.64141794e+21,\n",
       "        1.52038795e+14, 4.18181818e+14],\n",
       "       [2.06912096e+14, 2.19684448e+07, 1.64141794e+21, 1.52038795e+14,\n",
       "        1.78239191e+07, 2.99173554e+07],\n",
       "       [2.19684448e+07, 3.27272727e+00, 1.52038795e+14, 1.78239191e+07,\n",
       "        2.73027799e+00, 4.18181818e+00],\n",
       "       [6.00000000e+07, 6.00000000e+00, 4.18181818e+14, 2.99173554e+07,\n",
       "        4.18181818e+00, 1.20000000e+01]])"
      ]
     },
     "metadata": {},
     "output_type": "display_data"
    },
    {
     "data": {
      "text/plain": [
       "1.4747816676520133e-54"
      ]
     },
     "metadata": {},
     "output_type": "display_data"
    },
    {
     "data": {
      "text/plain": [
       "array([[ 1.47008426e-13,  7.49394364e-07, -1.20481973e-20,\n",
       "        -2.48128765e-14, -6.14152601e-07, -4.13993710e-07],\n",
       "       [ 7.49394364e-07,  2.24375701e+01, -6.80655333e-15,\n",
       "        -1.09391646e-06, -1.50631677e+01, -6.75201578e+00],\n",
       "       [-1.20481973e-20, -6.80655333e-15,  1.43122242e-27,\n",
       "        -5.43166339e-21,  4.08196892e-14,  1.30850375e-14],\n",
       "       [-2.48128765e-14, -1.09391646e-06, -5.43166339e-21,\n",
       "         1.58984287e-13,  1.39177336e-07,  4.15440873e-07],\n",
       "       [-6.14152601e-07, -1.50631677e+01,  4.08196892e-14,\n",
       "         1.39177336e-07,  1.42699673e+01,  3.85999032e+00],\n",
       "       [-4.13993710e-07, -6.75201578e+00,  1.30850375e-14,\n",
       "         4.15440873e-07,  3.85999032e+00,  2.69242688e+00]])"
      ]
     },
     "metadata": {},
     "output_type": "display_data"
    },
    {
     "data": {
      "image/png": "[encoded data removed]",
      "text/plain": [
       "<Figure size 432x288 with 1 Axes>"
      ]
     },
     "metadata": {
      "needs_background": "light"
     },
     "output_type": "display_data"
    },
    {
     "name": "stderr",
     "output_type": "stream",
     "text": [
      "100%|███████████████████████████████████████████████████████████████████████████████████████| 12/12 [00:00<00:00, 21.66it/s]\n"
     ]
    },
    {
     "data": {
      "text/html": [
       "<div>\n",
       "<style scoped>\n",
       "    .dataframe tbody tr th:only-of-type {\n",
       "        vertical-align: middle;\n",
       "    }\n",
       "\n",
       "    .dataframe tbody tr th {\n",
       "        vertical-align: top;\n",
       "    }\n",
       "\n",
       "    .dataframe thead th {\n",
       "        text-align: right;\n",
       "    }\n",
       "</style>\n",
       "<table border=\"1\" class=\"dataframe\">\n",
       "  <thead>\n",
       "    <tr style=\"text-align: right;\">\n",
       "      <th></th>\n",
       "      <th>C</th>\n",
       "      <th>l1_ratio</th>\n",
       "      <th>results</th>\n",
       "    </tr>\n",
       "  </thead>\n",
       "  <tbody>\n",
       "    <tr>\n",
       "      <th>0</th>\n",
       "      <td>2.727273e+06</td>\n",
       "      <td>0.454545</td>\n",
       "      <td>0.87</td>\n",
       "    </tr>\n",
       "    <tr>\n",
       "      <th>1</th>\n",
       "      <td>9.090909e+05</td>\n",
       "      <td>0.727273</td>\n",
       "      <td>0.86</td>\n",
       "    </tr>\n",
       "    <tr>\n",
       "      <th>2</th>\n",
       "      <td>4.545455e+06</td>\n",
       "      <td>0.636364</td>\n",
       "      <td>0.87</td>\n",
       "    </tr>\n",
       "    <tr>\n",
       "      <th>3</th>\n",
       "      <td>3.636364e+06</td>\n",
       "      <td>0.909091</td>\n",
       "      <td>0.87</td>\n",
       "    </tr>\n",
       "    <tr>\n",
       "      <th>4</th>\n",
       "      <td>1.000000e+07</td>\n",
       "      <td>0.818182</td>\n",
       "      <td>0.87</td>\n",
       "    </tr>\n",
       "  </tbody>\n",
       "</table>\n",
       "</div>"
      ],
      "text/plain": [
       "              C  l1_ratio  results\n",
       "0  2.727273e+06  0.454545     0.87\n",
       "1  9.090909e+05  0.727273     0.86\n",
       "2  4.545455e+06  0.636364     0.87\n",
       "3  3.636364e+06  0.909091     0.87\n",
       "4  1.000000e+07  0.818182     0.87"
      ]
     },
     "metadata": {},
     "output_type": "display_data"
    },
    {
     "data": {
      "text/plain": [
       "(12, 12)"
      ]
     },
     "metadata": {},
     "output_type": "display_data"
    },
    {
     "data": {
      "text/plain": [
       "array([[0.  , 0.  , 0.  , 0.92, 0.  , 0.  , 0.  , 0.  , 0.  , 0.  , 0.  ,\n",
       "        0.  ],\n",
       "       [0.  , 0.  , 0.  , 0.  , 0.  , 0.  , 0.  , 0.  , 0.86, 0.  , 0.  ,\n",
       "        0.  ],\n",
       "       [0.  , 0.  , 0.  , 0.  , 0.86, 0.  , 0.  , 0.  , 0.  , 0.  , 0.  ,\n",
       "        0.  ],\n",
       "       [0.  , 0.  , 0.  , 0.  , 0.  , 0.87, 0.  , 0.  , 0.  , 0.  , 0.  ,\n",
       "        0.  ],\n",
       "       [0.  , 0.  , 0.  , 0.  , 0.  , 0.  , 0.  , 0.  , 0.  , 0.  , 0.87,\n",
       "        0.  ],\n",
       "       [0.  , 0.  , 0.  , 0.  , 0.  , 0.  , 0.  , 0.87, 0.  , 0.  , 0.  ,\n",
       "        0.  ],\n",
       "       [0.  , 0.87, 0.  , 0.  , 0.  , 0.  , 0.  , 0.  , 0.  , 0.  , 0.  ,\n",
       "        0.  ],\n",
       "       [0.  , 0.  , 0.  , 0.  , 0.  , 0.  , 0.  , 0.  , 0.  , 0.  , 0.  ,\n",
       "        0.87],\n",
       "       [0.87, 0.  , 0.  , 0.  , 0.  , 0.  , 0.  , 0.  , 0.  , 0.  , 0.  ,\n",
       "        0.  ],\n",
       "       [0.  , 0.  , 0.  , 0.  , 0.  , 0.  , 0.87, 0.  , 0.  , 0.  , 0.  ,\n",
       "        0.  ],\n",
       "       [0.  , 0.  , 0.87, 0.  , 0.  , 0.  , 0.  , 0.  , 0.  , 0.  , 0.  ,\n",
       "        0.  ],\n",
       "       [0.  , 0.  , 0.  , 0.  , 0.  , 0.  , 0.  , 0.  , 0.  , 0.87, 0.  ,\n",
       "        0.  ]])"
      ]
     },
     "metadata": {},
     "output_type": "display_data"
    },
    {
     "data": {
      "image/png": "[encoded data removed]",
      "text/plain": [
       "<Figure size 288x288 with 1 Axes>"
      ]
     },
     "metadata": {
      "needs_background": "light"
     },
     "output_type": "display_data"
    }
   ],
   "source": [
    "plan = build.space_filling_lhs(\n",
    "    deepcopy(parameters), num_samples=12\n",
    ")\n",
    "\n",
    "design_matrix = plan.copy()\n",
    "for elt1, elt2 in combinations_with_replacement(design_matrix.columns, 2):\n",
    "    design_matrix[\"{}_{}\".format(elt1, elt2)] = design_matrix[elt1] * design_matrix[elt2]\n",
    "design_matrix[\"intercept\"] = 1\n",
    "information_matrix = design_matrix.values.T @ design_matrix.values\n",
    "det = np.linalg.det(information_matrix)\n",
    "display(det)\n",
    "display(information_matrix)\n",
    "try:\n",
    "    inv = np.linalg.inv(information_matrix)\n",
    "    inv_det = np.linalg.det(inv)\n",
    "    display(inv_det)\n",
    "    display(inv)\n",
    "except:\n",
    "    pass\n",
    "\n",
    "\n",
    "\n",
    "plan.plot.scatter(x=plan.columns[0],\n",
    "                  y=plan.columns[1],\n",
    "                  c='DarkBlue')\n",
    "plt.show()\n",
    "plt.close()\n",
    "\n",
    "results = eval_plan(clf, plan, X, y)\n",
    "enc = OrdinalEncoder()\n",
    "enc.fit(results.loc[:, results.columns != 'results'])\n",
    "indices = enc.transform(results.loc[:, results.columns != 'results'])\n",
    "display(results.head())\n",
    "shape = tuple([len(elt) for elt in enc.categories_])\n",
    "values = np.zeros(shape)\n",
    "display(values.shape)\n",
    "for idx, value in zip(indices, results['results']):\n",
    "    idx = tuple(map(int, idx))\n",
    "    values[idx] = value\n",
    "display(values)\n",
    "\n",
    "\n",
    "plt.matshow(values[:,:])\n",
    "plt.show()\n",
    "plt.close()"
   ]
  },
  {
   "cell_type": "markdown",
   "metadata": {},
   "source": [
    "# Random k-means"
   ]
  },
  {
   "cell_type": "code",
   "execution_count": null,
   "metadata": {},
   "outputs": [],
   "source": [
    "help(build.random_k_means)  #  Only numerical/range values"
   ]
  },
  {
   "cell_type": "code",
   "execution_count": 111,
   "metadata": {},
   "outputs": [
    {
     "name": "stdout",
     "output_type": "stream",
     "text": [
      "C had more than two levels. Assigning the end point to the high level.\n",
      "l1_ratio had more than two levels. Assigning the end point to the high level.\n"
     ]
    },
    {
     "data": {
      "text/plain": [
       "1.1792859968347988e+53"
      ]
     },
     "metadata": {},
     "output_type": "display_data"
    },
    {
     "data": {
      "text/plain": [
       "array([[3.92625852e+14, 2.96830945e+07, 2.92937305e+21, 1.95514881e+14,\n",
       "        1.94067373e+07, 5.91160200e+07],\n",
       "       [2.96830945e+07, 4.02572097e+00, 1.95514881e+14, 1.94067373e+07,\n",
       "        2.96560954e+00, 6.11127215e+00],\n",
       "       [2.92937305e+21, 1.95514881e+14, 2.30558583e+28, 1.44847818e+21,\n",
       "        1.26371484e+14, 3.92625852e+14],\n",
       "       [1.95514881e+14, 1.94067373e+07, 1.44847818e+21, 1.26371484e+14,\n",
       "        1.42913491e+07, 2.96830945e+07],\n",
       "       [1.94067373e+07, 2.96560954e+00, 1.26371484e+14, 1.42913491e+07,\n",
       "        2.30530440e+00, 4.02572097e+00],\n",
       "       [5.91160200e+07, 6.11127215e+00, 3.92625852e+14, 2.96830945e+07,\n",
       "        4.02572097e+00, 1.20000000e+01]])"
      ]
     },
     "metadata": {},
     "output_type": "display_data"
    },
    {
     "data": {
      "text/plain": [
       "8.479707235428396e-54"
      ]
     },
     "metadata": {},
     "output_type": "display_data"
    },
    {
     "data": {
      "text/plain": [
       "array([[ 2.92216196e-13,  9.27755738e-07, -2.41518494e-20,\n",
       "        -8.94971982e-14, -4.88368948e-07, -7.36599578e-07],\n",
       "       [ 9.27755738e-07,  3.19486259e+01, -6.17327816e-14,\n",
       "        -6.27203777e-07, -2.77176084e+01, -7.97111515e+00],\n",
       "       [-2.41518494e-20, -6.17327816e-14,  2.38536881e-27,\n",
       "         1.47083878e-21,  5.51089536e-14,  5.02464385e-14],\n",
       "       [-8.94971982e-14, -6.27203777e-07,  1.47083878e-21,\n",
       "         1.48161389e-13, -1.02730825e-07,  3.80159911e-07],\n",
       "       [-4.88368948e-07, -2.77176084e+01,  5.51089536e-14,\n",
       "        -1.02730825e-07,  2.81799016e+01,  5.51900208e+00],\n",
       "       [-7.36599578e-07, -7.97111515e+00,  5.02464385e-14,\n",
       "         3.80159911e-07,  5.51900208e+00,  3.33567947e+00]])"
      ]
     },
     "metadata": {},
     "output_type": "display_data"
    },
    {
     "data": {
      "image/png": "[encoded data removed]",
      "text/plain": [
       "<Figure size 432x288 with 1 Axes>"
      ]
     },
     "metadata": {
      "needs_background": "light"
     },
     "output_type": "display_data"
    },
    {
     "name": "stderr",
     "output_type": "stream",
     "text": [
      "100%|███████████████████████████████████████████████████████████████████████████████████████| 12/12 [00:00<00:00, 21.13it/s]\n"
     ]
    },
    {
     "data": {
      "text/html": [
       "<div>\n",
       "<style scoped>\n",
       "    .dataframe tbody tr th:only-of-type {\n",
       "        vertical-align: middle;\n",
       "    }\n",
       "\n",
       "    .dataframe tbody tr th {\n",
       "        vertical-align: top;\n",
       "    }\n",
       "\n",
       "    .dataframe thead th {\n",
       "        text-align: right;\n",
       "    }\n",
       "</style>\n",
       "<table border=\"1\" class=\"dataframe\">\n",
       "  <thead>\n",
       "    <tr style=\"text-align: right;\">\n",
       "      <th></th>\n",
       "      <th>C</th>\n",
       "      <th>l1_ratio</th>\n",
       "      <th>results</th>\n",
       "    </tr>\n",
       "  </thead>\n",
       "  <tbody>\n",
       "    <tr>\n",
       "      <th>0</th>\n",
       "      <td>8.338134e+06</td>\n",
       "      <td>0.834758</td>\n",
       "      <td>0.87</td>\n",
       "    </tr>\n",
       "    <tr>\n",
       "      <th>1</th>\n",
       "      <td>5.925537e+06</td>\n",
       "      <td>0.877504</td>\n",
       "      <td>0.87</td>\n",
       "    </tr>\n",
       "    <tr>\n",
       "      <th>2</th>\n",
       "      <td>8.789599e+06</td>\n",
       "      <td>0.566864</td>\n",
       "      <td>0.87</td>\n",
       "    </tr>\n",
       "    <tr>\n",
       "      <th>3</th>\n",
       "      <td>5.730167e+06</td>\n",
       "      <td>0.475478</td>\n",
       "      <td>0.87</td>\n",
       "    </tr>\n",
       "    <tr>\n",
       "      <th>4</th>\n",
       "      <td>8.838208e+06</td>\n",
       "      <td>0.279612</td>\n",
       "      <td>0.87</td>\n",
       "    </tr>\n",
       "  </tbody>\n",
       "</table>\n",
       "</div>"
      ],
      "text/plain": [
       "              C  l1_ratio  results\n",
       "0  8.338134e+06  0.834758     0.87\n",
       "1  5.925537e+06  0.877504     0.87\n",
       "2  8.789599e+06  0.566864     0.87\n",
       "3  5.730167e+06  0.475478     0.87\n",
       "4  8.838208e+06  0.279612     0.87"
      ]
     },
     "metadata": {},
     "output_type": "display_data"
    },
    {
     "data": {
      "text/plain": [
       "(12, 12)"
      ]
     },
     "metadata": {},
     "output_type": "display_data"
    },
    {
     "data": {
      "text/plain": [
       "array([[0.  , 0.  , 0.  , 0.  , 0.  , 0.  , 0.  , 0.86, 0.  , 0.  , 0.  ,\n",
       "        0.  ],\n",
       "       [0.  , 0.  , 0.  , 0.  , 0.  , 0.  , 0.  , 0.  , 0.  , 0.  , 0.86,\n",
       "        0.  ],\n",
       "       [0.  , 0.86, 0.  , 0.  , 0.  , 0.  , 0.  , 0.  , 0.  , 0.  , 0.  ,\n",
       "        0.  ],\n",
       "       [0.  , 0.  , 0.  , 0.  , 0.87, 0.  , 0.  , 0.  , 0.  , 0.  , 0.  ,\n",
       "        0.  ],\n",
       "       [0.  , 0.  , 0.  , 0.  , 0.  , 0.  , 0.  , 0.  , 0.87, 0.  , 0.  ,\n",
       "        0.  ],\n",
       "       [0.  , 0.  , 0.87, 0.  , 0.  , 0.  , 0.  , 0.  , 0.  , 0.  , 0.  ,\n",
       "        0.  ],\n",
       "       [0.  , 0.  , 0.  , 0.  , 0.  , 0.87, 0.  , 0.  , 0.  , 0.  , 0.  ,\n",
       "        0.  ],\n",
       "       [0.  , 0.  , 0.  , 0.  , 0.  , 0.  , 0.  , 0.  , 0.  , 0.  , 0.  ,\n",
       "        0.87],\n",
       "       [0.87, 0.  , 0.  , 0.  , 0.  , 0.  , 0.  , 0.  , 0.  , 0.  , 0.  ,\n",
       "        0.  ],\n",
       "       [0.  , 0.  , 0.  , 0.  , 0.  , 0.  , 0.  , 0.  , 0.  , 0.87, 0.  ,\n",
       "        0.  ],\n",
       "       [0.  , 0.  , 0.  , 0.  , 0.  , 0.  , 0.87, 0.  , 0.  , 0.  , 0.  ,\n",
       "        0.  ],\n",
       "       [0.  , 0.  , 0.  , 0.87, 0.  , 0.  , 0.  , 0.  , 0.  , 0.  , 0.  ,\n",
       "        0.  ]])"
      ]
     },
     "metadata": {},
     "output_type": "display_data"
    },
    {
     "data": {
      "image/png": "[encoded data removed]",
      "text/plain": [
       "<Figure size 288x288 with 1 Axes>"
      ]
     },
     "metadata": {
      "needs_background": "light"
     },
     "output_type": "display_data"
    }
   ],
   "source": [
    "plan = build.random_k_means(\n",
    "    deepcopy(parameters), num_samples=12\n",
    ")\n",
    "\n",
    "design_matrix = plan.copy()\n",
    "for elt1, elt2 in combinations_with_replacement(design_matrix.columns, 2):\n",
    "    design_matrix[\"{}_{}\".format(elt1, elt2)] = design_matrix[elt1] * design_matrix[elt2]\n",
    "design_matrix[\"intercept\"] = 1\n",
    "information_matrix = design_matrix.values.T @ design_matrix.values\n",
    "det = np.linalg.det(information_matrix)\n",
    "display(det)\n",
    "display(information_matrix)\n",
    "try:\n",
    "    inv = np.linalg.inv(information_matrix)\n",
    "    inv_det = np.linalg.det(inv)\n",
    "    display(inv_det)\n",
    "    display(inv)\n",
    "except:\n",
    "    pass\n",
    "\n",
    "\n",
    "\n",
    "plan.plot.scatter(x=plan.columns[0],\n",
    "                  y=plan.columns[1],\n",
    "                  c='DarkBlue')\n",
    "plt.show()\n",
    "plt.close()\n",
    "\n",
    "results = eval_plan(clf, plan, X, y)\n",
    "enc = OrdinalEncoder()\n",
    "enc.fit(results.loc[:, results.columns != 'results'])\n",
    "indices = enc.transform(results.loc[:, results.columns != 'results'])\n",
    "display(results.head())\n",
    "shape = tuple([len(elt) for elt in enc.categories_])\n",
    "values = np.zeros(shape)\n",
    "display(values.shape)\n",
    "for idx, value in zip(indices, results['results']):\n",
    "    idx = tuple(map(int, idx))\n",
    "    values[idx] = value\n",
    "display(values)\n",
    "\n",
    "\n",
    "plt.matshow(values[:,:])\n",
    "plt.show()\n",
    "plt.close()"
   ]
  },
  {
   "cell_type": "markdown",
   "metadata": {},
   "source": [
    "# Maximin"
   ]
  },
  {
   "cell_type": "code",
   "execution_count": null,
   "metadata": {},
   "outputs": [],
   "source": [
    "help(build.maximin)  #  Only numerical/range values"
   ]
  },
  {
   "cell_type": "code",
   "execution_count": 112,
   "metadata": {},
   "outputs": [
    {
     "name": "stdout",
     "output_type": "stream",
     "text": [
      "C had more than two levels. Assigning the end point to the high level.\n",
      "l1_ratio had more than two levels. Assigning the end point to the high level.\n"
     ]
    },
    {
     "data": {
      "text/plain": [
       "1.1537148310596359e+53"
      ]
     },
     "metadata": {},
     "output_type": "display_data"
    },
    {
     "data": {
      "text/plain": [
       "array([[3.66581739e+14, 2.44088078e+07, 2.63780270e+21, 1.48505195e+14,\n",
       "        1.46121225e+07, 5.76825841e+07],\n",
       "       [2.44088078e+07, 3.83314721e+00, 1.48505195e+14, 1.46121225e+07,\n",
       "        2.93674127e+00, 5.73869659e+00],\n",
       "       [2.63780270e+21, 1.48505195e+14, 2.04695431e+28, 1.05578462e+21,\n",
       "        8.41391483e+13, 3.66581739e+14],\n",
       "       [1.48505195e+14, 1.46121225e+07, 1.05578462e+21, 8.41391483e+13,\n",
       "        9.95481457e+06, 2.44088078e+07],\n",
       "       [1.46121225e+07, 2.93674127e+00, 8.41391483e+13, 9.95481457e+06,\n",
       "        2.41493091e+00, 3.83314721e+00],\n",
       "       [5.76825841e+07, 5.73869659e+00, 3.66581739e+14, 2.44088078e+07,\n",
       "        3.83314721e+00, 1.20000000e+01]])"
      ]
     },
     "metadata": {},
     "output_type": "display_data"
    },
    {
     "data": {
      "text/plain": [
       "8.66765315898323e-54"
      ]
     },
     "metadata": {},
     "output_type": "display_data"
    },
    {
     "data": {
      "text/plain": [
       "array([[ 3.22884870e-13,  3.01264313e-06, -1.98199260e-20,\n",
       "        -2.54920094e-13, -1.84517130e-06, -1.27939557e-06],\n",
       "       [ 3.01264313e-06,  7.36652625e+01, -9.57346416e-14,\n",
       "        -4.85595179e-06, -5.24880201e+01, -2.01418966e+01],\n",
       "       [-1.98199260e-20, -9.57346416e-14,  1.64867047e-27,\n",
       "         7.68377816e-21,  5.69761204e-14,  5.68612001e-14],\n",
       "       [-2.54920094e-13, -4.85595179e-06,  7.68377816e-21,\n",
       "         4.06355909e-13,  3.16119883e-06,  1.47654560e-06],\n",
       "       [-1.84517130e-06, -5.24880201e+01,  5.69761204e-14,\n",
       "         3.16119883e-06,  3.94346652e+01,  1.32033912e+01],\n",
       "       [-1.27939557e-06, -2.01418966e+01,  5.68612001e-14,\n",
       "         1.47654560e-06,  1.32033912e+01,  6.90762821e+00]])"
      ]
     },
     "metadata": {},
     "output_type": "display_data"
    },
    {
     "data": {
      "image/png": "[encoded data removed]",
      "text/plain": [
       "<Figure size 432x288 with 1 Axes>"
      ]
     },
     "metadata": {
      "needs_background": "light"
     },
     "output_type": "display_data"
    },
    {
     "name": "stderr",
     "output_type": "stream",
     "text": [
      "100%|███████████████████████████████████████████████████████████████████████████████████████| 12/12 [00:00<00:00, 20.44it/s]\n"
     ]
    },
    {
     "data": {
      "text/html": [
       "<div>\n",
       "<style scoped>\n",
       "    .dataframe tbody tr th:only-of-type {\n",
       "        vertical-align: middle;\n",
       "    }\n",
       "\n",
       "    .dataframe tbody tr th {\n",
       "        vertical-align: top;\n",
       "    }\n",
       "\n",
       "    .dataframe thead th {\n",
       "        text-align: right;\n",
       "    }\n",
       "</style>\n",
       "<table border=\"1\" class=\"dataframe\">\n",
       "  <thead>\n",
       "    <tr style=\"text-align: right;\">\n",
       "      <th></th>\n",
       "      <th>C</th>\n",
       "      <th>l1_ratio</th>\n",
       "      <th>results</th>\n",
       "    </tr>\n",
       "  </thead>\n",
       "  <tbody>\n",
       "    <tr>\n",
       "      <th>0</th>\n",
       "      <td>8.395772e+06</td>\n",
       "      <td>0.077192</td>\n",
       "      <td>0.87</td>\n",
       "    </tr>\n",
       "    <tr>\n",
       "      <th>1</th>\n",
       "      <td>7.302992e+06</td>\n",
       "      <td>0.640371</td>\n",
       "      <td>0.87</td>\n",
       "    </tr>\n",
       "    <tr>\n",
       "      <th>2</th>\n",
       "      <td>5.391816e+06</td>\n",
       "      <td>0.781834</td>\n",
       "      <td>0.87</td>\n",
       "    </tr>\n",
       "    <tr>\n",
       "      <th>3</th>\n",
       "      <td>3.389304e+06</td>\n",
       "      <td>0.224055</td>\n",
       "      <td>0.87</td>\n",
       "    </tr>\n",
       "    <tr>\n",
       "      <th>4</th>\n",
       "      <td>6.535364e+05</td>\n",
       "      <td>0.990765</td>\n",
       "      <td>0.86</td>\n",
       "    </tr>\n",
       "  </tbody>\n",
       "</table>\n",
       "</div>"
      ],
      "text/plain": [
       "              C  l1_ratio  results\n",
       "0  8.395772e+06  0.077192     0.87\n",
       "1  7.302992e+06  0.640371     0.87\n",
       "2  5.391816e+06  0.781834     0.87\n",
       "3  3.389304e+06  0.224055     0.87\n",
       "4  6.535364e+05  0.990765     0.86"
      ]
     },
     "metadata": {},
     "output_type": "display_data"
    },
    {
     "data": {
      "text/plain": [
       "(12, 12)"
      ]
     },
     "metadata": {},
     "output_type": "display_data"
    },
    {
     "data": {
      "text/plain": [
       "array([[0.  , 0.  , 0.  , 0.  , 0.  , 0.  , 0.  , 0.  , 0.  , 0.  , 0.  ,\n",
       "        0.86],\n",
       "       [0.  , 0.  , 0.  , 0.  , 0.86, 0.  , 0.  , 0.  , 0.  , 0.  , 0.  ,\n",
       "        0.  ],\n",
       "       [0.  , 0.  , 0.  , 0.  , 0.  , 0.  , 0.  , 0.87, 0.  , 0.  , 0.  ,\n",
       "        0.  ],\n",
       "       [0.  , 0.  , 0.  , 0.  , 0.  , 0.  , 0.  , 0.  , 0.  , 0.  , 0.87,\n",
       "        0.  ],\n",
       "       [0.  , 0.  , 0.  , 0.87, 0.  , 0.  , 0.  , 0.  , 0.  , 0.  , 0.  ,\n",
       "        0.  ],\n",
       "       [0.87, 0.  , 0.  , 0.  , 0.  , 0.  , 0.  , 0.  , 0.  , 0.  , 0.  ,\n",
       "        0.  ],\n",
       "       [0.  , 0.  , 0.  , 0.  , 0.  , 0.87, 0.  , 0.  , 0.  , 0.  , 0.  ,\n",
       "        0.  ],\n",
       "       [0.  , 0.  , 0.  , 0.  , 0.  , 0.  , 0.  , 0.  , 0.  , 0.87, 0.  ,\n",
       "        0.  ],\n",
       "       [0.  , 0.  , 0.87, 0.  , 0.  , 0.  , 0.  , 0.  , 0.  , 0.  , 0.  ,\n",
       "        0.  ],\n",
       "       [0.  , 0.  , 0.  , 0.  , 0.  , 0.  , 0.  , 0.  , 0.87, 0.  , 0.  ,\n",
       "        0.  ],\n",
       "       [0.  , 0.87, 0.  , 0.  , 0.  , 0.  , 0.  , 0.  , 0.  , 0.  , 0.  ,\n",
       "        0.  ],\n",
       "       [0.  , 0.  , 0.  , 0.  , 0.  , 0.  , 0.87, 0.  , 0.  , 0.  , 0.  ,\n",
       "        0.  ]])"
      ]
     },
     "metadata": {},
     "output_type": "display_data"
    },
    {
     "data": {
      "image/png": "[encoded data removed]",
      "text/plain": [
       "<Figure size 288x288 with 1 Axes>"
      ]
     },
     "metadata": {
      "needs_background": "light"
     },
     "output_type": "display_data"
    }
   ],
   "source": [
    "plan = build.maximin(\n",
    "    deepcopy(parameters), num_samples=12\n",
    ")\n",
    "\n",
    "design_matrix = plan.copy()\n",
    "for elt1, elt2 in combinations_with_replacement(design_matrix.columns, 2):\n",
    "    design_matrix[\"{}_{}\".format(elt1, elt2)] = design_matrix[elt1] * design_matrix[elt2]\n",
    "design_matrix[\"intercept\"] = 1\n",
    "information_matrix = design_matrix.values.T @ design_matrix.values\n",
    "det = np.linalg.det(information_matrix)\n",
    "display(det)\n",
    "display(information_matrix)\n",
    "try:\n",
    "    inv = np.linalg.inv(information_matrix)\n",
    "    inv_det = np.linalg.det(inv)\n",
    "    display(inv_det)\n",
    "    display(inv)\n",
    "except:\n",
    "    pass\n",
    "\n",
    "\n",
    "\n",
    "plan.plot.scatter(x=plan.columns[0],\n",
    "                  y=plan.columns[1],\n",
    "                  c='DarkBlue')\n",
    "plt.show()\n",
    "plt.close()\n",
    "\n",
    "results = eval_plan(clf, plan, X, y)\n",
    "enc = OrdinalEncoder()\n",
    "enc.fit(results.loc[:, results.columns != 'results'])\n",
    "indices = enc.transform(results.loc[:, results.columns != 'results'])\n",
    "display(results.head())\n",
    "shape = tuple([len(elt) for elt in enc.categories_])\n",
    "values = np.zeros(shape)\n",
    "display(values.shape)\n",
    "for idx, value in zip(indices, results['results']):\n",
    "    idx = tuple(map(int, idx))\n",
    "    values[idx] = value\n",
    "display(values)\n",
    "\n",
    "\n",
    "plt.matshow(values[:,:])\n",
    "plt.show()\n",
    "plt.close()"
   ]
  },
  {
   "cell_type": "markdown",
   "metadata": {},
   "source": [
    "# Halton"
   ]
  },
  {
   "cell_type": "code",
   "execution_count": null,
   "metadata": {},
   "outputs": [],
   "source": [
    "help(build.halton)  #  Only numerical/range values"
   ]
  },
  {
   "cell_type": "code",
   "execution_count": 113,
   "metadata": {},
   "outputs": [
    {
     "name": "stdout",
     "output_type": "stream",
     "text": [
      "C had more than two levels. Assigning the end point to the high level.\n",
      "l1_ratio had more than two levels. Assigning the end point to the high level.\n"
     ]
    },
    {
     "data": {
      "text/plain": [
       "2.3284170131935996e+53"
      ]
     },
     "metadata": {},
     "output_type": "display_data"
    },
    {
     "data": {
      "text/plain": [
       "array([[3.26562500e+14, 2.29166667e+07, 2.27636719e+21, 1.47077546e+14,\n",
       "        1.36265432e+07, 5.25000000e+07],\n",
       "       [2.29166667e+07, 3.15226337e+00, 1.47077546e+14, 1.36265432e+07,\n",
       "        2.17710715e+00, 5.11111111e+00],\n",
       "       [2.27636719e+21, 1.47077546e+14, 1.68707275e+28, 1.06917318e+21,\n",
       "        8.88963906e+13, 3.26562500e+14],\n",
       "       [1.47077546e+14, 1.36265432e+07, 1.06917318e+21, 8.88963906e+13,\n",
       "        8.95747599e+06, 2.29166667e+07],\n",
       "       [1.36265432e+07, 2.17710715e+00, 8.88963906e+13, 8.95747599e+06,\n",
       "        1.60103191e+00, 3.15226337e+00],\n",
       "       [5.25000000e+07, 5.11111111e+00, 3.26562500e+14, 2.29166667e+07,\n",
       "        3.15226337e+00, 1.20000000e+01]])"
      ]
     },
     "metadata": {},
     "output_type": "display_data"
    },
    {
     "data": {
      "text/plain": [
       "4.2947633277616314e-54"
      ]
     },
     "metadata": {},
     "output_type": "display_data"
    },
    {
     "data": {
      "text/plain": [
       "array([[ 1.74036727e-13, -6.12476768e-07, -1.84132190e-20,\n",
       "         4.54618223e-15,  7.55135108e-07, -2.06499384e-07],\n",
       "       [-6.12476768e-07,  2.10792039e+01,  9.77710728e-14,\n",
       "        -8.23845387e-07, -2.01497631e+01, -2.09286154e+00],\n",
       "       [-1.84132190e-20,  9.77710728e-14,  2.41645075e-27,\n",
       "        -7.13445724e-21, -9.20882645e-14,  1.09697857e-14],\n",
       "       [ 4.54618223e-15, -8.23845387e-07, -7.13445724e-21,\n",
       "         1.31024151e-13,  4.21161119e-07,  1.64307447e-07],\n",
       "       [ 7.55135108e-07, -2.01497631e+01, -9.20882645e-14,\n",
       "         4.21161119e-07,  2.19779072e+01,  1.20699150e+00],\n",
       "       [-2.06499384e-07, -2.09286154e+00,  1.09697857e-14,\n",
       "         1.64307447e-07,  1.20699150e+00,  9.48800902e-01]])"
      ]
     },
     "metadata": {},
     "output_type": "display_data"
    },
    {
     "data": {
      "image/png": "[encoded data removed]",
      "text/plain": [
       "<Figure size 432x288 with 1 Axes>"
      ]
     },
     "metadata": {
      "needs_background": "light"
     },
     "output_type": "display_data"
    },
    {
     "name": "stderr",
     "output_type": "stream",
     "text": [
      "100%|███████████████████████████████████████████████████████████████████████████████████████| 12/12 [00:00<00:00, 23.52it/s]\n"
     ]
    },
    {
     "data": {
      "text/html": [
       "<div>\n",
       "<style scoped>\n",
       "    .dataframe tbody tr th:only-of-type {\n",
       "        vertical-align: middle;\n",
       "    }\n",
       "\n",
       "    .dataframe tbody tr th {\n",
       "        vertical-align: top;\n",
       "    }\n",
       "\n",
       "    .dataframe thead th {\n",
       "        text-align: right;\n",
       "    }\n",
       "</style>\n",
       "<table border=\"1\" class=\"dataframe\">\n",
       "  <thead>\n",
       "    <tr style=\"text-align: right;\">\n",
       "      <th></th>\n",
       "      <th>C</th>\n",
       "      <th>l1_ratio</th>\n",
       "      <th>results</th>\n",
       "    </tr>\n",
       "  </thead>\n",
       "  <tbody>\n",
       "    <tr>\n",
       "      <th>0</th>\n",
       "      <td>1.000000e-08</td>\n",
       "      <td>0.000000</td>\n",
       "      <td>0.92</td>\n",
       "    </tr>\n",
       "    <tr>\n",
       "      <th>1</th>\n",
       "      <td>5.000000e+06</td>\n",
       "      <td>0.333333</td>\n",
       "      <td>0.87</td>\n",
       "    </tr>\n",
       "    <tr>\n",
       "      <th>2</th>\n",
       "      <td>2.500000e+06</td>\n",
       "      <td>0.666667</td>\n",
       "      <td>0.87</td>\n",
       "    </tr>\n",
       "    <tr>\n",
       "      <th>3</th>\n",
       "      <td>7.500000e+06</td>\n",
       "      <td>0.111111</td>\n",
       "      <td>0.87</td>\n",
       "    </tr>\n",
       "    <tr>\n",
       "      <th>4</th>\n",
       "      <td>1.250000e+06</td>\n",
       "      <td>0.444444</td>\n",
       "      <td>0.86</td>\n",
       "    </tr>\n",
       "  </tbody>\n",
       "</table>\n",
       "</div>"
      ],
      "text/plain": [
       "              C  l1_ratio  results\n",
       "0  1.000000e-08  0.000000     0.92\n",
       "1  5.000000e+06  0.333333     0.87\n",
       "2  2.500000e+06  0.666667     0.87\n",
       "3  7.500000e+06  0.111111     0.87\n",
       "4  1.250000e+06  0.444444     0.86"
      ]
     },
     "metadata": {},
     "output_type": "display_data"
    },
    {
     "data": {
      "text/plain": [
       "(12, 12)"
      ]
     },
     "metadata": {},
     "output_type": "display_data"
    },
    {
     "data": {
      "text/plain": [
       "array([[0.92, 0.  , 0.  , 0.  , 0.  , 0.  , 0.  , 0.  , 0.  , 0.  , 0.  ,\n",
       "        0.  ],\n",
       "       [0.  , 0.  , 0.  , 0.  , 0.  , 0.  , 0.  , 0.  , 0.  , 0.  , 0.  ,\n",
       "        0.86],\n",
       "       [0.  , 0.  , 0.  , 0.  , 0.  , 0.  , 0.86, 0.  , 0.  , 0.  , 0.  ,\n",
       "        0.  ],\n",
       "       [0.  , 0.  , 0.  , 0.  , 0.  , 0.  , 0.  , 0.  , 0.87, 0.  , 0.  ,\n",
       "        0.  ],\n",
       "       [0.  , 0.  , 0.  , 0.  , 0.  , 0.87, 0.  , 0.  , 0.  , 0.  , 0.  ,\n",
       "        0.  ],\n",
       "       [0.  , 0.  , 0.  , 0.87, 0.  , 0.  , 0.  , 0.  , 0.  , 0.  , 0.  ,\n",
       "        0.  ],\n",
       "       [0.  , 0.  , 0.  , 0.  , 0.87, 0.  , 0.  , 0.  , 0.  , 0.  , 0.  ,\n",
       "        0.  ],\n",
       "       [0.  , 0.87, 0.  , 0.  , 0.  , 0.  , 0.  , 0.  , 0.  , 0.  , 0.  ,\n",
       "        0.  ],\n",
       "       [0.  , 0.  , 0.  , 0.  , 0.  , 0.  , 0.  , 0.  , 0.  , 0.  , 0.87,\n",
       "        0.  ],\n",
       "       [0.  , 0.  , 0.87, 0.  , 0.  , 0.  , 0.  , 0.  , 0.  , 0.  , 0.  ,\n",
       "        0.  ],\n",
       "       [0.  , 0.  , 0.  , 0.  , 0.  , 0.  , 0.  , 0.  , 0.  , 0.87, 0.  ,\n",
       "        0.  ],\n",
       "       [0.  , 0.  , 0.  , 0.  , 0.  , 0.  , 0.  , 0.87, 0.  , 0.  , 0.  ,\n",
       "        0.  ]])"
      ]
     },
     "metadata": {},
     "output_type": "display_data"
    },
    {
     "data": {
      "image/png": "[encoded data removed]",
      "text/plain": [
       "<Figure size 288x288 with 1 Axes>"
      ]
     },
     "metadata": {
      "needs_background": "light"
     },
     "output_type": "display_data"
    }
   ],
   "source": [
    "plan = build.halton(\n",
    "    deepcopy(parameters), num_samples=12\n",
    ")\n",
    "\n",
    "design_matrix = plan.copy()\n",
    "for elt1, elt2 in combinations_with_replacement(design_matrix.columns, 2):\n",
    "    design_matrix[\"{}_{}\".format(elt1, elt2)] = design_matrix[elt1] * design_matrix[elt2]\n",
    "design_matrix[\"intercept\"] = 1\n",
    "information_matrix = design_matrix.values.T @ design_matrix.values\n",
    "det = np.linalg.det(information_matrix)\n",
    "display(det)\n",
    "display(information_matrix)\n",
    "try:\n",
    "    inv = np.linalg.inv(information_matrix)\n",
    "    inv_det = np.linalg.det(inv)\n",
    "    display(inv_det)\n",
    "    display(inv)\n",
    "except:\n",
    "    pass\n",
    "\n",
    "\n",
    "\n",
    "plan.plot.scatter(x=plan.columns[0],\n",
    "                  y=plan.columns[1],\n",
    "                  c='DarkBlue')\n",
    "plt.show()\n",
    "plt.close()\n",
    "\n",
    "results = eval_plan(clf, plan, X, y)\n",
    "enc = OrdinalEncoder()\n",
    "enc.fit(results.loc[:, results.columns != 'results'])\n",
    "indices = enc.transform(results.loc[:, results.columns != 'results'])\n",
    "display(results.head())\n",
    "shape = tuple([len(elt) for elt in enc.categories_])\n",
    "values = np.zeros(shape)\n",
    "display(values.shape)\n",
    "for idx, value in zip(indices, results['results']):\n",
    "    idx = tuple(map(int, idx))\n",
    "    values[idx] = value\n",
    "display(values)\n",
    "\n",
    "\n",
    "plt.matshow(values[:,:])\n",
    "plt.show()\n",
    "plt.close()"
   ]
  },
  {
   "cell_type": "markdown",
   "metadata": {},
   "source": [
    "# Uniform Random"
   ]
  },
  {
   "cell_type": "code",
   "execution_count": null,
   "metadata": {},
   "outputs": [],
   "source": [
    "help(build.uniform_random)  # Only numerical/range values"
   ]
  },
  {
   "cell_type": "code",
   "execution_count": 114,
   "metadata": {},
   "outputs": [
    {
     "name": "stdout",
     "output_type": "stream",
     "text": [
      "C had more than two levels. Assigning the end point to the high level.\n",
      "l1_ratio had more than two levels. Assigning the end point to the high level.\n"
     ]
    },
    {
     "data": {
      "text/plain": [
       "9.621851861547496e+50"
      ]
     },
     "metadata": {},
     "output_type": "display_data"
    },
    {
     "data": {
      "text/plain": [
       "array([[3.44583136e+14, 3.00373461e+07, 2.17110710e+21, 1.60577102e+14,\n",
       "        1.94742273e+07, 5.99971715e+07],\n",
       "       [3.00373461e+07, 4.25368151e+00, 1.60577102e+14, 1.94742273e+07,\n",
       "        3.15489246e+00, 6.44413388e+00],\n",
       "       [2.17110710e+21, 1.60577102e+14, 1.44698119e+28, 9.49957991e+20,\n",
       "        1.00421294e+14, 3.44583136e+14],\n",
       "       [1.60577102e+14, 1.94742273e+07, 9.49957991e+20, 1.00421294e+14,\n",
       "        1.45464170e+07, 3.00373461e+07],\n",
       "       [1.94742273e+07, 3.15489246e+00, 1.00421294e+14, 1.45464170e+07,\n",
       "        2.53575429e+00, 4.25368151e+00],\n",
       "       [5.99971715e+07, 6.44413388e+00, 3.44583136e+14, 3.00373461e+07,\n",
       "        4.25368151e+00, 1.20000000e+01]])"
      ]
     },
     "metadata": {},
     "output_type": "display_data"
    },
    {
     "data": {
      "text/plain": [
       "1.0393009728165584e-51"
      ]
     },
     "metadata": {},
     "output_type": "display_data"
    },
    {
     "data": {
      "text/plain": [
       "array([[ 3.99024018e-12,  1.46271777e-05, -3.12279835e-19,\n",
       "        -1.55111486e-12, -6.14412386e-06, -1.27774776e-05],\n",
       "       [ 1.46271777e-05,  9.90857830e+01, -9.18396649e-13,\n",
       "        -9.54685246e-06, -4.16030437e+01, -6.13265945e+01],\n",
       "       [-3.12279835e-19, -9.18396649e-13,  2.63041936e-26,\n",
       "         9.01707880e-20,  4.46978300e-13,  9.15033479e-13],\n",
       "       [-1.55111486e-12, -9.54685246e-06,  9.01707880e-20,\n",
       "         1.22166126e-12,  2.65182229e-06,  6.29474142e-06],\n",
       "       [-6.14412386e-06, -4.16030437e+01,  4.46978300e-13,\n",
       "         2.65182229e-06,  2.48787102e+01,  2.47687199e+01],\n",
       "       [-1.27774776e-05, -6.13265945e+01,  9.15033479e-13,\n",
       "         6.29474142e-06,  2.47687199e+01,  4.60890517e+01]])"
      ]
     },
     "metadata": {},
     "output_type": "display_data"
    },
    {
     "data": {
      "image/png": "[encoded data removed]",
      "text/plain": [
       "<Figure size 432x288 with 1 Axes>"
      ]
     },
     "metadata": {
      "needs_background": "light"
     },
     "output_type": "display_data"
    },
    {
     "name": "stderr",
     "output_type": "stream",
     "text": [
      "100%|███████████████████████████████████████████████████████████████████████████████████████| 12/12 [00:00<00:00, 21.20it/s]\n"
     ]
    },
    {
     "data": {
      "text/html": [
       "<div>\n",
       "<style scoped>\n",
       "    .dataframe tbody tr th:only-of-type {\n",
       "        vertical-align: middle;\n",
       "    }\n",
       "\n",
       "    .dataframe tbody tr th {\n",
       "        vertical-align: top;\n",
       "    }\n",
       "\n",
       "    .dataframe thead th {\n",
       "        text-align: right;\n",
       "    }\n",
       "</style>\n",
       "<table border=\"1\" class=\"dataframe\">\n",
       "  <thead>\n",
       "    <tr style=\"text-align: right;\">\n",
       "      <th></th>\n",
       "      <th>C</th>\n",
       "      <th>l1_ratio</th>\n",
       "      <th>results</th>\n",
       "    </tr>\n",
       "  </thead>\n",
       "  <tbody>\n",
       "    <tr>\n",
       "      <th>0</th>\n",
       "      <td>7.206394e+06</td>\n",
       "      <td>0.397260</td>\n",
       "      <td>0.87</td>\n",
       "    </tr>\n",
       "    <tr>\n",
       "      <th>1</th>\n",
       "      <td>3.076662e+06</td>\n",
       "      <td>0.435588</td>\n",
       "      <td>0.87</td>\n",
       "    </tr>\n",
       "    <tr>\n",
       "      <th>2</th>\n",
       "      <td>7.415269e+06</td>\n",
       "      <td>0.401244</td>\n",
       "      <td>0.87</td>\n",
       "    </tr>\n",
       "    <tr>\n",
       "      <th>3</th>\n",
       "      <td>6.082778e+06</td>\n",
       "      <td>0.747017</td>\n",
       "      <td>0.87</td>\n",
       "    </tr>\n",
       "    <tr>\n",
       "      <th>4</th>\n",
       "      <td>3.578229e+06</td>\n",
       "      <td>0.726046</td>\n",
       "      <td>0.87</td>\n",
       "    </tr>\n",
       "  </tbody>\n",
       "</table>\n",
       "</div>"
      ],
      "text/plain": [
       "              C  l1_ratio  results\n",
       "0  7.206394e+06  0.397260     0.87\n",
       "1  3.076662e+06  0.435588     0.87\n",
       "2  7.415269e+06  0.401244     0.87\n",
       "3  6.082778e+06  0.747017     0.87\n",
       "4  3.578229e+06  0.726046     0.87"
      ]
     },
     "metadata": {},
     "output_type": "display_data"
    },
    {
     "data": {
      "text/plain": [
       "(12, 12)"
      ]
     },
     "metadata": {},
     "output_type": "display_data"
    },
    {
     "data": {
      "text/plain": [
       "array([[0.  , 0.  , 0.  , 0.  , 0.  , 0.  , 0.  , 0.87, 0.  , 0.  , 0.  ,\n",
       "        0.  ],\n",
       "       [0.  , 0.  , 0.  , 0.  , 0.  , 0.  , 0.87, 0.  , 0.  , 0.  , 0.  ,\n",
       "        0.  ],\n",
       "       [0.  , 0.  , 0.  , 0.  , 0.  , 0.87, 0.  , 0.  , 0.  , 0.  , 0.  ,\n",
       "        0.  ],\n",
       "       [0.  , 0.  , 0.  , 0.  , 0.  , 0.  , 0.  , 0.  , 0.  , 0.  , 0.87,\n",
       "        0.  ],\n",
       "       [0.  , 0.  , 0.  , 0.  , 0.  , 0.  , 0.  , 0.  , 0.87, 0.  , 0.  ,\n",
       "        0.  ],\n",
       "       [0.  , 0.  , 0.  , 0.  , 0.87, 0.  , 0.  , 0.  , 0.  , 0.  , 0.  ,\n",
       "        0.  ],\n",
       "       [0.  , 0.  , 0.  , 0.  , 0.  , 0.  , 0.  , 0.  , 0.  , 0.  , 0.  ,\n",
       "        0.87],\n",
       "       [0.  , 0.  , 0.  , 0.  , 0.  , 0.  , 0.  , 0.  , 0.  , 0.87, 0.  ,\n",
       "        0.  ],\n",
       "       [0.87, 0.  , 0.  , 0.  , 0.  , 0.  , 0.  , 0.  , 0.  , 0.  , 0.  ,\n",
       "        0.  ],\n",
       "       [0.  , 0.  , 0.87, 0.  , 0.  , 0.  , 0.  , 0.  , 0.  , 0.  , 0.  ,\n",
       "        0.  ],\n",
       "       [0.  , 0.  , 0.  , 0.87, 0.  , 0.  , 0.  , 0.  , 0.  , 0.  , 0.  ,\n",
       "        0.  ],\n",
       "       [0.  , 0.87, 0.  , 0.  , 0.  , 0.  , 0.  , 0.  , 0.  , 0.  , 0.  ,\n",
       "        0.  ]])"
      ]
     },
     "metadata": {},
     "output_type": "display_data"
    },
    {
     "data": {
      "image/png": "[encoded data removed]",
      "text/plain": [
       "<Figure size 288x288 with 1 Axes>"
      ]
     },
     "metadata": {
      "needs_background": "light"
     },
     "output_type": "display_data"
    }
   ],
   "source": [
    "plan = build.uniform_random(\n",
    "    deepcopy(parameters), num_samples=12\n",
    ")\n",
    "\n",
    "design_matrix = plan.copy()\n",
    "for elt1, elt2 in combinations_with_replacement(design_matrix.columns, 2):\n",
    "    design_matrix[\"{}_{}\".format(elt1, elt2)] = design_matrix[elt1] * design_matrix[elt2]\n",
    "design_matrix[\"intercept\"] = 1\n",
    "information_matrix = design_matrix.values.T @ design_matrix.values\n",
    "det = np.linalg.det(information_matrix)\n",
    "display(det)\n",
    "display(information_matrix)\n",
    "try:\n",
    "    inv = np.linalg.inv(information_matrix)\n",
    "    inv_det = np.linalg.det(inv)\n",
    "    display(inv_det)\n",
    "    display(inv)\n",
    "except:\n",
    "    pass\n",
    "\n",
    "\n",
    "plan.plot.scatter(x=plan.columns[0],\n",
    "                  y=plan.columns[1],\n",
    "                  c='DarkBlue')\n",
    "plt.show()\n",
    "plt.close()\n",
    "\n",
    "results = eval_plan(clf, plan, X, y)\n",
    "enc = OrdinalEncoder()\n",
    "enc.fit(results.loc[:, results.columns != 'results'])\n",
    "indices = enc.transform(results.loc[:, results.columns != 'results'])\n",
    "display(results.head())\n",
    "shape = tuple([len(elt) for elt in enc.categories_])\n",
    "values = np.zeros(shape)\n",
    "display(values.shape)\n",
    "for idx, value in zip(indices, results['results']):\n",
    "    idx = tuple(map(int, idx))\n",
    "    values[idx] = value\n",
    "display(values)\n",
    "\n",
    "plt.matshow(values[:,:])\n",
    "plt.show()\n",
    "plt.close()"
   ]
  },
  {
   "cell_type": "code",
   "execution_count": null,
   "metadata": {},
   "outputs": [],
   "source": []
  }
 ],
 "metadata": {
  "kernelspec": {
   "display_name": "Python 3",
   "language": "python",
   "name": "python3"
  },
  "language_info": {
   "codemirror_mode": {
    "name": "ipython",
    "version": 3
   },
   "file_extension": ".py",
   "mimetype": "text/x-python",
   "name": "python",
   "nbconvert_exporter": "python",
   "pygments_lexer": "ipython3",
   "version": "3.7.4"
  }
 },
 "nbformat": 4,
 "nbformat_minor": 4
}
